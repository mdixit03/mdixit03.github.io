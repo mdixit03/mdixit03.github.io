{
  "nbformat": 4,
  "nbformat_minor": 0,
  "metadata": {
    "colab": {
      "provenance": [],
      "collapsed_sections": [
        "ZRfAvUh8VHXV",
        "lruIxO5we3xi",
        "AL0Bq5teVkL9"
      ],
      "include_colab_link": true
    },
    "kernelspec": {
      "name": "python3",
      "display_name": "Python 3"
    },
    "language_info": {
      "name": "python"
    }
  },
  "cells": [
    {
      "cell_type": "markdown",
      "metadata": {
        "id": "view-in-github",
        "colab_type": "text"
      },
      "source": [
        "<a href=\"https://colab.research.google.com/github/mdixit03/mdixit03.github.io/blob/main/Correlating_Lifestyle_Factors_with_Rising_Stroke_Incidence_in_Young_Adults.ipynb\" target=\"_parent\"><img src=\"https://colab.research.google.com/assets/colab-badge.svg\" alt=\"Open In Colab\"/></a>"
      ]
    },
    {
      "cell_type": "markdown",
      "source": [
        "**(Delete later) Checkpoint 3 - Final deliverable (70 points)**\n",
        "\n",
        "**Submit a single URL pointing to your final tutorial to Gradescope. The tutorial should be self-contained, a mix of Markdown prose and Python code, and delivered as a GitHub statically-hosted Page (see the Publishing section below for instructions). The format of the final tutorial is given at the end of this section.**\n",
        "\n",
        "**● (15 points) Formatting and prose.**\n",
        "\n",
        "  **○ Follow the format given at the end of this section. Use section headers.**\n",
        "\n",
        "  **○ For each section, include a clear explanation of what you are doing. We will be checking the entire tutorial, including the parts you submitted in previous checkpoints.**\n",
        "\n",
        "  **○ Write code that is documented, well-organized, and reproducible.**\n",
        "\n",
        "  **■ Does it help the reader understand the tutorial?**\n",
        "  \n",
        "  **○ Cite your sources: Link to other resources that would: (a) give a lagging reader additional help on specific topics, and (b) give an advanced reader the opportunity to dive more deeply into a technique or idea.**\n",
        "  \n",
        "  **○ IMPORTANT: If any kind of plagiarism is found, including the use of AI tools like ChatGPT or direct code from previous semesters, you will receive a grade of 0 for the final tutorial.**\n",
        "\n",
        "  **■ To cite the python libraries you use, simply include the import code block at the top of the tutorial.**\n",
        "\n",
        "**● (30 points) Machine learning analysis that will help you answer the questions you posed in the introduction.**\n",
        "\n",
        "**● (10 points) Visualization based on your results.**\n",
        "\n",
        "**● (15 points) Insights and conclusions.**\n",
        "\n",
        "\n",
        "1. Introduction. A title, the subtitle “Summer 2024 Data Science Project”, your name(s), and an introduction paragraph. The introduction should motivate your work: what is your topic? What question(s) are you trying to answer with your analysis? Why is answering those questions important? Please make sure to include all group members' names at the top of your deliverable, after the title.\n",
        "\n",
        "2. Data curation. Cite the source(s) of your data. Explain what it is. Transform the data so that it’s ready for analysis. For example, set up a database and use SQL to query for data, or organize a pandas DataFrame.\n",
        "\n",
        "3. Exploratory data analysis. (See checkpoint 2.)\n",
        "\n",
        "4. Primary analysis. Based on the results of your exploration, choose a machine learning technique (e.g., classification, regression, clustering, etc.) that will help you answer the questions you posed in the introduction. Explain your reasoning.\n",
        "\n",
        "5. Visualization. Explain the results and insights of your primary analysis with at least one plot. Make sure that every element of the plots are labeled and explained (don’t forget to include a legend!).\n",
        "\n",
        "6. Insights and Conclusions. After reading through the project, does an uninformed reader feel informed about the topic? Would a reader who already knew about the topic feel like they learned more about it?\n",
        "\n",
        "**TASKS:**\n",
        "\n",
        "1) As for **Machine learning analysis**, each person will choose a machine learning technique (e.g., classification, regression, clustering, etc.) for the **Stroke Data** (you can combine it with your factor data if you want) to answer the question \"How does your lifestyle factor correlate with the rising stroke incidence in young adults?\".\n",
        "\n",
        "2) Then, you create at least one plot for your model (**Visualization**)\n",
        "\n",
        "3) Next, you write one conclusion paragraph about the correlation between your factor and the rising stroke incidence in young adults in the **Insights and Conclusions** section. Please use \"justify\" to make your paragraph look neat.\n",
        "![alt text](https://miro.medium.com/max/1400/1*liOB0s27ECQUhWd-HGKgsw.png)\n",
        "\n",
        "\n",
        "![alt text](https://miro.medium.com/max/1400/1*P_hLZhBhf4OZYRdJ3nJyYg.png)\n",
        "\n",
        "\n",
        "**Don't worry about the unexpected results**. If we cannot find any correlation between the lifestyle factors and stroke in young adults, we can conclude that they might not be the main reasons leading to stroke in young people, maybe other factor such as family history of stroke or something else.\n",
        "\n",
        "4) Read and edit your overall summary for your dataset (optional)\n",
        "\n",
        "5) Read and edit the introduction (optional)\n",
        "\n",
        "**○ IMPORTANT: If any kind of plagiarism is found, including the use of AI tools like ChatGPT or direct code from previous semesters, you will receive a grade of 0 for the final tutorial.**\n",
        "\n",
        "Please finish your task by this **Thursday (07/04)** so that we will have more time to edit it and prepare for final exam.\n",
        "\n",
        "Professor's due date: **Monday, July 8, 2024 (11:59 PM)**"
      ],
      "metadata": {
        "id": "IDAGHck-rB0g"
      }
    },
    {
      "cell_type": "markdown",
      "source": [
        "#<center style = \"text-align: center;\"><h1>**How do lifestyle factors such as stress, alcohol consumption, smoking, and unhealthy eating behaviors correlate with the rising stroke incidence in young adults?**</h1></center>\n",
        "\n",
        "# <center style = \"text-align: center\"><h3>Summer 2024 Data Science Project</h3></center>\n",
        "**Team Members:**\n",
        "1.   Manasi Dixit - U_ID: 120376153\n",
        "2.   Simran Sidhu - U_ID: 115424869\n",
        "3.   Soomin Joh - U_ID: 120412141\n",
        "4.   Kristen Nguyen (Thi Nguyen) - U_ID: 119404096"
      ],
      "metadata": {
        "id": "QwcC13hQUbW0"
      }
    },
    {
      "cell_type": "markdown",
      "source": [
        "# <h3>**Table of Contents:**</h3>\n",
        "<ol type = \"I\">\n",
        "<li>   Introduction\n",
        "\n",
        "<li>   Data Curation and Exploratory Data Analysis\n",
        "<ol type = \"1\">\n",
        "<li>Stress Data</li>\n",
        "<li>Alcohol Consumption Data</li>\n",
        "<li>Smoking Data</li>\n",
        "<li>Unhealthy Eating Behaviors Data</li>\n",
        "<li>Stroke Data</li>\n",
        "</ol>\n",
        "<li>   Machine Learning Analysis and Visualization\n",
        "<li>  Insights and Conclusions\n",
        "<li>   References\n",
        "</ol>"
      ],
      "metadata": {
        "id": "_d7QTb8LrVOD"
      }
    },
    {
      "cell_type": "markdown",
      "source": [
        "# <h2>**I. Introduction**</h2>\n",
        "\n"
      ],
      "metadata": {
        "id": "zHswH1hjrZTm"
      }
    },
    {
      "cell_type": "markdown",
      "source": [
        "<p align = \"justify\">The number of strokes in young adults has been rising in recent years, and it recently becomes one of the most significant public health concerns. In the past, strokes mainly affected older adults, but strokes are now increasingly seen in young adults. This raises questions about the causes. Therefore, the objective of this study is to answer the question: \"How do lifestyle factors such as stress, alcohol consumption, smoking, and unhealthy eating behaviors correlate with the rising stroke incidence in young adults?\". Stress significantly impacts heart health leading to conditions that raise stroke risk. Similarly, alcohol consumption and smoking are also known risk factors for many health problems including stroke. As for unhealthy eating habits, this factor is related to high average glucose levels, and it contributes to diabetes, which is a common stroke risk factor. Through this analysis, we hope to provide valuable insights into preventing and managing strokes in young adults.</p>"
      ],
      "metadata": {
        "id": "SXUw-TMKUiY0"
      }
    },
    {
      "cell_type": "markdown",
      "source": [
        "# <h2>**II. Data Curation and Exploratory Data Analysis**</h2>\n",
        "The first step in our process will be to import several relevant Python libraries for this study."
      ],
      "metadata": {
        "id": "VLa_uq8CUhdk"
      }
    },
    {
      "cell_type": "code",
      "source": [
        "from google.colab import drive\n",
        "drive.mount('/content/drive')"
      ],
      "metadata": {
        "colab": {
          "base_uri": "https://localhost:8080/"
        },
        "id": "ZkZkWChhYk4C",
        "outputId": "7494dc9a-28b5-4c58-9b33-cf26aaf78c53"
      },
      "execution_count": null,
      "outputs": [
        {
          "output_type": "stream",
          "name": "stdout",
          "text": [
            "Drive already mounted at /content/drive; to attempt to forcibly remount, call drive.mount(\"/content/drive\", force_remount=True).\n"
          ]
        }
      ]
    },
    {
      "cell_type": "code",
      "source": [
        "import pandas as pd\n",
        "import matplotlib.pyplot as plt\n",
        "import numpy as np\n",
        "import seaborn as seas\n",
        "import scipy as spy\n",
        "from scipy.stats import chi2_contingency\n",
        "from scipy.stats import f_oneway\n",
        "from sklearn.linear_model import LinearRegression\n",
        "from sklearn.model_selection import train_test_split, cross_val_score, StratifiedKFold\n",
        "from sklearn.preprocessing import StandardScaler\n",
        "from sklearn.neighbors import KNeighborsClassifier\n",
        "from sklearn.tree import DecisionTreeClassifier\n",
        "from sklearn.linear_model import LogisticRegression\n",
        "from sklearn.ensemble import RandomForestClassifier\n",
        "from sklearn.metrics import accuracy_score, classification_report, confusion_matrix, roc_curve"
      ],
      "metadata": {
        "id": "dQYMdQFnUk9R"
      },
      "execution_count": null,
      "outputs": []
    },
    {
      "cell_type": "markdown",
      "source": [
        "<p align = \"justify\"> According to \"Improving the Health, Safety, and Well-Being of Young Adults: Workshop Summary\", which is the summary of a workshop hosted by the Board on Children, Youth, and Families of the Institute of Medicine (IOM) and the National Research Council (NRC) in May, 2013,\n",
        "in the United States, young adulthood typically starts with high school graduation around age 18 and can extend into the late 20s or early 30s. Therefore, we will use data of people who are considered young adults (between the ages 18-30).</p>"
      ],
      "metadata": {
        "id": "8BVoYr1wUnHx"
      }
    },
    {
      "cell_type": "markdown",
      "source": [
        "# <h3>**1. Stress Data:**</h3>\n",
        "Source: https://www.kaggle.com/datasets/shashwatwork/depression-and-mental-health-data-analysis\n",
        "# <h5>**Overall Summary For This Dataset:**</h5>\n",
        "<p align = \"justify\">This dataset contains 824 rows and 13 columns offering a broad range of variables related to stress. It includes information on factors such as age, gender, occupation, number of days the participant has stayed indoors, whether their stress is increasing daily, frustrations during the first two weeks of quarantine, significant changes in eating and sleeping habits, their history of mental disorders in the previous generation, changes in body weight during quarantine, extreme mood changes, difficulty coping with daily problems or stress, loss of interest in work, and feelings of mental weakness when interacting with others. These factors are crucial for our project as they help us demonstrate that young adults aged approximately 18 to 30 experience increasing stress levels.</p>\n",
        "\n",
        "\n",
        "# <h4>**1A. Data Preprocessing**</h4>\n",
        "Before exploring stress data, we need to load in stress dataset into a variable called stress_df."
      ],
      "metadata": {
        "id": "4KOO-83eU09d"
      }
    },
    {
      "cell_type": "code",
      "source": [
        "stress_df = pd.read_csv('/content/drive/MyDrive/CSV/mental_health_finaldata_1.csv')\n",
        "print(stress_df)"
      ],
      "metadata": {
        "id": "WMAzWa6jU58t",
        "colab": {
          "base_uri": "https://localhost:8080/"
        },
        "outputId": "c61b4e50-9b31-4877-e76d-925d0d24e91a"
      },
      "execution_count": null,
      "outputs": [
        {
          "output_type": "stream",
          "name": "stdout",
          "text": [
            "          Age  Gender Occupation        Days_Indoors Growing_Stress  \\\n",
            "0       20-25  Female  Corporate           1-14 days            Yes   \n",
            "1    30-Above    Male     Others          31-60 days            Yes   \n",
            "2    30-Above  Female    Student    Go out Every day             No   \n",
            "3       25-30    Male     Others           1-14 days            Yes   \n",
            "4       16-20  Female    Student  More than 2 months            Yes   \n",
            "..        ...     ...        ...                 ...            ...   \n",
            "819     20-25    Male  Corporate    Go out Every day             No   \n",
            "820     20-25    Male     Others           1-14 days            Yes   \n",
            "821     20-25    Male    Student  More than 2 months            Yes   \n",
            "822     16-20    Male   Business          15-30 days             No   \n",
            "823  30-Above  Female     Others          15-30 days             No   \n",
            "\n",
            "    Quarantine_Frustrations Changes_Habits Mental_Health_History  \\\n",
            "0                       Yes             No                   Yes   \n",
            "1                       Yes          Maybe                    No   \n",
            "2                        No            Yes                    No   \n",
            "3                        No          Maybe                    No   \n",
            "4                       Yes            Yes                    No   \n",
            "..                      ...            ...                   ...   \n",
            "819                     Yes             No                   Yes   \n",
            "820                     Yes             No                   Yes   \n",
            "821                   Maybe          Maybe                    No   \n",
            "822                      No          Maybe                    No   \n",
            "823                      No             No                    No   \n",
            "\n",
            "    Weight_Change Mood_Swings Coping_Struggles Work_Interest Social_Weakness  \n",
            "0             Yes      Medium               No            No             Yes  \n",
            "1              No        High               No            No             Yes  \n",
            "2              No      Medium              Yes         Maybe              No  \n",
            "3           Maybe      Medium               No         Maybe             Yes  \n",
            "4             Yes      Medium              Yes         Maybe              No  \n",
            "..            ...         ...              ...           ...             ...  \n",
            "819           Yes      Medium               No           Yes           Maybe  \n",
            "820         Maybe         Low               No         Maybe           Maybe  \n",
            "821           Yes        High              Yes           Yes           Maybe  \n",
            "822         Maybe         Low              Yes            No           Maybe  \n",
            "823           Yes         Low              Yes            No           Maybe  \n",
            "\n",
            "[824 rows x 13 columns]\n"
          ]
        }
      ]
    },
    {
      "cell_type": "markdown",
      "source": [
        "# <h4>**1B. Data Exploration**</h4>\n",
        "<p align = \"justify\">ANOVA is used when comparing means among three or more groups to determine if there are significant differences among them. This dataset contains four age groups: 16-20, 20-25, 25-30, and 30-Above.\n",
        "Therefore, we will apply ANOVA Test on \"whether the age group has a correlation with growing stress\". We also assume that the alpha value is 0.05. These are Null Hypothesis and Alternate Hypothesis for the Anova Test:</p>\n",
        "\n",
        "$H_{0}$: *The age group does not have an effect on the likelihood of growing stress.*\n",
        "\n",
        "$H_{A}$: *The age group does have an effect on the likelihood of growing stress.*"
      ],
      "metadata": {
        "id": "7nWoCD9zeYjk"
      }
    },
    {
      "cell_type": "code",
      "source": [
        "stress_table2 = pd.crosstab(stress_df['Growing_Stress'], stress_df['Age'])\n",
        "statistic, p_value = f_oneway(stress_table2['16-20'], stress_table2['20-25'], stress_table2['25-30'], stress_table2['30-Above'])\n",
        "print(stress_table2)\n",
        "print(\"P-Value:\", p_value)"
      ],
      "metadata": {
        "id": "0SxwI4YE7Eml",
        "colab": {
          "base_uri": "https://localhost:8080/"
        },
        "outputId": "6fc79569-b530-4423-becc-0e1da52362df"
      },
      "execution_count": null,
      "outputs": [
        {
          "output_type": "stream",
          "name": "stdout",
          "text": [
            "Age             16-20  20-25  25-30  30-Above\n",
            "Growing_Stress                               \n",
            "Maybe              60     63     66        78\n",
            "No                 75     47     65        69\n",
            "Yes                76     76     74        75\n",
            "P-Value: 0.4821995988536243\n"
          ]
        }
      ]
    },
    {
      "cell_type": "markdown",
      "source": [
        "Besides ANOVA Test, we can use Descriptive Statistics method to observe \"Growing_Stress\" for each age group."
      ],
      "metadata": {
        "id": "DKM4Tj_Emprt"
      }
    },
    {
      "cell_type": "code",
      "source": [
        "stress_table3 = pd.crosstab(stress_df['Age'], stress_df['Growing_Stress'])\n",
        "descriptive_stats = stress_table3.describe()\n",
        "print(stress_table3)\n",
        "print(descriptive_stats)"
      ],
      "metadata": {
        "colab": {
          "base_uri": "https://localhost:8080/"
        },
        "id": "0O0lS12Zmr3o",
        "outputId": "d1aa3763-019d-4cb9-efb0-767627ae17f1"
      },
      "execution_count": null,
      "outputs": [
        {
          "output_type": "stream",
          "name": "stdout",
          "text": [
            "Growing_Stress  Maybe  No  Yes\n",
            "Age                           \n",
            "16-20              60  75   76\n",
            "20-25              63  47   76\n",
            "25-30              66  65   74\n",
            "30-Above           78  69   75\n",
            "Growing_Stress      Maybe         No        Yes\n",
            "count            4.000000   4.000000   4.000000\n",
            "mean            66.750000  64.000000  75.250000\n",
            "std              7.889867  12.055428   0.957427\n",
            "min             60.000000  47.000000  74.000000\n",
            "25%             62.250000  60.500000  74.750000\n",
            "50%             64.500000  67.000000  75.500000\n",
            "75%             69.000000  70.500000  76.000000\n",
            "max             78.000000  75.000000  76.000000\n"
          ]
        }
      ]
    },
    {
      "cell_type": "markdown",
      "source": [
        "We create a graph using the matplotlib showing the realtion between the age groups and growing stress below."
      ],
      "metadata": {
        "id": "KqcSukNg8gRP"
      }
    },
    {
      "cell_type": "code",
      "source": [
        "stress_table2.plot(kind='bar', colormap='Paired')\n",
        "plt.ylabel('Count')"
      ],
      "metadata": {
        "id": "4xW5eEjO85Gc",
        "colab": {
          "base_uri": "https://localhost:8080/",
          "height": 500
        },
        "outputId": "ef05caa6-d488-4802-dc02-2b4575ac5332"
      },
      "execution_count": null,
      "outputs": [
        {
          "output_type": "execute_result",
          "data": {
            "text/plain": [
              "Text(0, 0.5, 'Count')"
            ]
          },
          "metadata": {},
          "execution_count": 565
        },
        {
          "output_type": "display_data",
          "data": {
            "text/plain": [
              "<Figure size 640x480 with 1 Axes>"
            ],
            "image/png": "[encoded data removed]"
          },
          "metadata": {}
        }
      ]
    },
    {
      "cell_type": "markdown",
      "source": [
        "Look at the above Descriptive Statistics table, we have:\n",
        "\n",
        "**Count:**\n",
        "\n",
        "Each stress category (\"Maybe\", \"No\", \"Yes\") has 4 data points (4 age groups).\n",
        "\n",
        "**Mean:**\n",
        "\n",
        "The average count of individuals reporting \"Maybe\" stress is 66.75.\n",
        "\n",
        "The average count of individuals reporting \"No\" stress is 64.00.\n",
        "\n",
        "The average count of individuals reporting \"Yes\" stress is 75.25.\n",
        "\n",
        "**Standard Deviation (std):**\n",
        "\n",
        "The standard deviation for \"Maybe\" stress is 7.89 indicating moderate variability.\n",
        "\n",
        "The standard deviation for \"No\" stress is 12.06 indicating higher variability compared to \"Maybe\" and \"Yes\".\n",
        "\n",
        "The standard deviation for \"Yes\" stress is 0.96 indicating very low variability.\n",
        "\n",
        "**Minimum (min):**\n",
        "\n",
        "The minimum count for \"Maybe\" stress is 60.\n",
        "\n",
        "The minimum count for \"No\" stress is 47.\n",
        "\n",
        "The minimum count for \"Yes\" stress is 74.\n",
        "\n",
        "**25%:**\n",
        "\n",
        "25% of the data for \"Maybe\" stress is less than or equal to 62.25.\n",
        "\n",
        "25% of the data for \"No\" stress is less than or equal to 60.50.\n",
        "\n",
        "25% of the data for \"Yes\" stress is less than or equal to 74.75.\n",
        "\n",
        "**Median (50%):**\n",
        "\n",
        "The median for \"Maybe\" stress is 64.50.\n",
        "\n",
        "The median for \"No\" stress is 67.00.\n",
        "\n",
        "The median for \"Yes\" stress is 75.50.\n",
        "\n",
        "**75%**:\n",
        "\n",
        "75% of the data for \"Maybe\" stress is less than or equal to 69.00.\n",
        "\n",
        "75% of the data for \"No\" stress is less than or equal to 70.50.\n",
        "\n",
        "75% of the data for \"Yes\" stress is less than or equal to 76.00.\n",
        "\n",
        "**Maximum (max):**\n",
        "\n",
        "The maximum count for \"Maybe\" stress is 78.\n",
        "\n",
        "The maximum count for \"No\" stress is 75.\n",
        "\n",
        "The maximum count for \"Yes\" stress is 76.\n",
        "\n",
        "**Summary statistics:**\n",
        "\n",
        "<p align = \"justify\">The \"Maybe\" and \"Yes\" stress levels have higher average counts compared to \"No\" stress. The \"No\" stress level shows the highest variability indicating that the counts are more spread out across the age groups. The \"Yes\" stress level has the highest average count and the lowest variability suggesting that a consistent number of individuals across age groups report high stress.\n",
        "These statistics provide a clear picture of how stress levels vary among different age groups.</p>"
      ],
      "metadata": {
        "id": "tcvEOpQVm5fe"
      }
    },
    {
      "cell_type": "markdown",
      "source": [
        "<p align = \"justify\">Because p-value > alpha value (0.4821995988536243 > 0.05), we fail to reject the null hypothesis. There is not enough evidence to suggest that the age group has an effect on the likelihood of growing stress. We create a plot to visualize the relationship between \"Age Groups\" and \"Growing Stress\":</p>"
      ],
      "metadata": {
        "id": "pciGu9fS9A-R"
      }
    },
    {
      "cell_type": "code",
      "source": [
        "plt.figure(figsize=(8, 6))\n",
        "seas.violinplot(x='Growing_Stress', y='Age', data=stress_df, inner='quartile')\n",
        "plt.ylabel('Growing Stress')\n",
        "plt.xlabel('Age Group')\n",
        "plt.title(f'Age Groups vs Growing Stress (Contingency Table)')\n",
        "plt.grid(True)\n",
        "plt.show()"
      ],
      "metadata": {
        "id": "ZghXysa3_qUZ",
        "colab": {
          "base_uri": "https://localhost:8080/",
          "height": 548
        },
        "outputId": "4bf9b17d-28c6-40e8-8c94-3432421292c9"
      },
      "execution_count": null,
      "outputs": [
        {
          "output_type": "display_data",
          "data": {
            "text/plain": [
              "<Figure size 800x600 with 1 Axes>"
            ],
            "image/png": "[encoded data removed]"
          },
          "metadata": {}
        }
      ]
    },
    {
      "cell_type": "markdown",
      "source": [
        "# <h3>**2. Alcohol Consumption Data:**</h3>\n",
        "Source: https://www150.statcan.gc.ca/t1/tbl1/en/tv.action?pid=1310009611  \n",
        "\n",
        "# <h5>**Overall Summary For This Dataset:**</h5>\n",
        "<p align = \"justify\">This dataset provides an overview of heavy drinking rates across age groups in Canada, with heavy drinking defined as 5 or more drinks in males or 4 or more drinks in females on a single occasion at least once per month in the past year. More specifically, the data includes the age groups 12-17 years old and 18-34 years old, which overlaps with our focus group of people aged 15 to 30 years old. For each age group, the data includes the number of people who reported heavy drinking in that year and that number expressed as a percentage of that age group. Because the data was sourced through the Canadian Community Health Survey, the sample size is sufficiently large, and the participants are spread out geographically, which in turn increases the diversity of participants. Given that the data ranges from 2015 to 2022, we can analyze how drinking habits within each age group have changed over time, contributing to our overall analysis of how the risk of strokes in young people has changed in recent years. Finally, the data can be further divided between males and females, providing insight into whether the sex of a participant, combined with their alcohol use, impacts the likelihood of a stroke.  </p>\n",
        "\n",
        "# <h4>**2A. Data Preprocessing**</h4>"
      ],
      "metadata": {
        "id": "LmGQ3A7pU-yI"
      }
    },
    {
      "cell_type": "markdown",
      "source": [
        "To begin, we create a variable called alcohol_df that will store the raw data from the alcohol_consumption.csv file."
      ],
      "metadata": {
        "id": "zcjRsCE2qJVc"
      }
    },
    {
      "cell_type": "code",
      "source": [
        "alcohol_df = pd.read_csv('/content/drive/MyDrive/CSV/alcohol_consumption.csv')\n",
        "print(alcohol_df)"
      ],
      "metadata": {
        "id": "8yYaBXVkVDuT",
        "colab": {
          "base_uri": "https://localhost:8080/"
        },
        "outputId": "44c84744-a23c-4c65-ab86-3e155f04677a"
      },
      "execution_count": null,
      "outputs": [
        {
          "output_type": "stream",
          "name": "stdout",
          "text": [
            "    REF_DATE                             GEO  DGUID                 Age group  \\\n",
            "0       2015  Canada (excluding territories)    NaN  Total, 12 years and over   \n",
            "1       2016  Canada (excluding territories)    NaN  Total, 12 years and over   \n",
            "2       2017  Canada (excluding territories)    NaN  Total, 12 years and over   \n",
            "3       2018  Canada (excluding territories)    NaN  Total, 12 years and over   \n",
            "4       2019  Canada (excluding territories)    NaN  Total, 12 years and over   \n",
            "..       ...                             ...    ...                       ...   \n",
            "91      2018  Canada (excluding territories)    NaN         65 years and over   \n",
            "92      2019  Canada (excluding territories)    NaN         65 years and over   \n",
            "93      2020  Canada (excluding territories)    NaN         65 years and over   \n",
            "94      2021  Canada (excluding territories)    NaN         65 years and over   \n",
            "95      2022  Canada (excluding territories)    NaN         65 years and over   \n",
            "\n",
            "           Sex      Indicators    Characteristics      UOM  UOM_ID  \\\n",
            "0   Both sexes  Heavy drinking  Number of persons   Number     223   \n",
            "1   Both sexes  Heavy drinking  Number of persons   Number     223   \n",
            "2   Both sexes  Heavy drinking  Number of persons   Number     223   \n",
            "3   Both sexes  Heavy drinking  Number of persons   Number     223   \n",
            "4   Both sexes  Heavy drinking  Number of persons   Number     223   \n",
            "..         ...             ...                ...      ...     ...   \n",
            "91  Both sexes  Heavy drinking            Percent  Percent     239   \n",
            "92  Both sexes  Heavy drinking            Percent  Percent     239   \n",
            "93  Both sexes  Heavy drinking            Percent  Percent     239   \n",
            "94  Both sexes  Heavy drinking            Percent  Percent     239   \n",
            "95  Both sexes  Heavy drinking            Percent  Percent     239   \n",
            "\n",
            "   SCALAR_FACTOR  SCALAR_ID      VECTOR  COORDINATE      VALUE STATUS  SYMBOL  \\\n",
            "0          units          0  v110787655  1.1.1.17.1  5782800.0    NaN     NaN   \n",
            "1          units          0  v110787655  1.1.1.17.1  5770900.0    NaN     NaN   \n",
            "2          units          0  v110787655  1.1.1.17.1  6015500.0    NaN     NaN   \n",
            "3          units          0  v110787655  1.1.1.17.1  5946400.0    NaN     NaN   \n",
            "4          units          0  v110787655  1.1.1.17.1  5802200.0    NaN     NaN   \n",
            "..           ...        ...         ...         ...        ...    ...     ...   \n",
            "91         units          0  v110790388  1.6.1.17.4        7.4    NaN     NaN   \n",
            "92         units          0  v110790388  1.6.1.17.4        7.6    NaN     NaN   \n",
            "93         units          0  v110790388  1.6.1.17.4        7.4    NaN     NaN   \n",
            "94         units          0  v110790388  1.6.1.17.4        7.9    NaN     NaN   \n",
            "95         units          0  v110790388  1.6.1.17.4       10.0    NaN     NaN   \n",
            "\n",
            "    TERMINATED  DECIMALS  \n",
            "0          NaN         0  \n",
            "1          NaN         0  \n",
            "2          NaN         0  \n",
            "3          NaN         0  \n",
            "4          NaN         0  \n",
            "..         ...       ...  \n",
            "91         NaN         1  \n",
            "92         NaN         1  \n",
            "93         NaN         1  \n",
            "94         NaN         1  \n",
            "95         NaN         1  \n",
            "\n",
            "[96 rows x 18 columns]\n"
          ]
        }
      ]
    },
    {
      "cell_type": "markdown",
      "source": [
        "Next, we will explore the data to determine if there are any columns that can be deleted."
      ],
      "metadata": {
        "id": "Jq7BemTsqTX3"
      }
    },
    {
      "cell_type": "code",
      "source": [
        "alcohol_df['SCALAR_ID'].unique() # this output shows us that the entire column has the same value"
      ],
      "metadata": {
        "colab": {
          "base_uri": "https://localhost:8080/"
        },
        "id": "u3rBufqJqZFX",
        "outputId": "fe90354e-5863-44e3-9dd8-3ff653527c98"
      },
      "execution_count": null,
      "outputs": [
        {
          "output_type": "execute_result",
          "data": {
            "text/plain": [
              "array([0])"
            ]
          },
          "metadata": {},
          "execution_count": 568
        }
      ]
    },
    {
      "cell_type": "code",
      "source": [
        "# Since the SCALAR_ID column doesn't provide information for the dataset, we can remove it\n",
        "alcohol_df = alcohol_df.drop(columns=['SCALAR_ID'])\n",
        "\n",
        "# Since the STATUS, SYMBOL, AND TERMINATED columns are completely empty, we can remove them as well\n",
        "alcohol_df = alcohol_df.drop(columns=['STATUS', 'SYMBOL', 'TERMINATED'])\n",
        "\n",
        "# Since the UOM_ID (unit of measure ID), DGUID , SCALAR_FACTOR, VECTOR, DECIMALS and COORDINATE\n",
        "# columns don't provide data necessary to our analysis, we will remove them as well\n",
        "alcohol_df = alcohol_df.drop(columns=['UOM_ID', 'DGUID', 'SCALAR_FACTOR', 'VECTOR', 'DECIMALS','COORDINATE'])\n",
        "\n"
      ],
      "metadata": {
        "id": "BSMqE-MLqhYx"
      },
      "execution_count": null,
      "outputs": []
    },
    {
      "cell_type": "code",
      "source": [
        "print(alcohol_df)"
      ],
      "metadata": {
        "colab": {
          "base_uri": "https://localhost:8080/"
        },
        "id": "wb-WDVi1tmiH",
        "outputId": "d44275d8-760e-4934-afa3-6b00146030d3"
      },
      "execution_count": null,
      "outputs": [
        {
          "output_type": "stream",
          "name": "stdout",
          "text": [
            "    REF_DATE                             GEO                 Age group  \\\n",
            "0       2015  Canada (excluding territories)  Total, 12 years and over   \n",
            "1       2016  Canada (excluding territories)  Total, 12 years and over   \n",
            "2       2017  Canada (excluding territories)  Total, 12 years and over   \n",
            "3       2018  Canada (excluding territories)  Total, 12 years and over   \n",
            "4       2019  Canada (excluding territories)  Total, 12 years and over   \n",
            "..       ...                             ...                       ...   \n",
            "91      2018  Canada (excluding territories)         65 years and over   \n",
            "92      2019  Canada (excluding territories)         65 years and over   \n",
            "93      2020  Canada (excluding territories)         65 years and over   \n",
            "94      2021  Canada (excluding territories)         65 years and over   \n",
            "95      2022  Canada (excluding territories)         65 years and over   \n",
            "\n",
            "           Sex      Indicators    Characteristics      UOM      VALUE  \n",
            "0   Both sexes  Heavy drinking  Number of persons   Number  5782800.0  \n",
            "1   Both sexes  Heavy drinking  Number of persons   Number  5770900.0  \n",
            "2   Both sexes  Heavy drinking  Number of persons   Number  6015500.0  \n",
            "3   Both sexes  Heavy drinking  Number of persons   Number  5946400.0  \n",
            "4   Both sexes  Heavy drinking  Number of persons   Number  5802200.0  \n",
            "..         ...             ...                ...      ...        ...  \n",
            "91  Both sexes  Heavy drinking            Percent  Percent        7.4  \n",
            "92  Both sexes  Heavy drinking            Percent  Percent        7.6  \n",
            "93  Both sexes  Heavy drinking            Percent  Percent        7.4  \n",
            "94  Both sexes  Heavy drinking            Percent  Percent        7.9  \n",
            "95  Both sexes  Heavy drinking            Percent  Percent       10.0  \n",
            "\n",
            "[96 rows x 8 columns]\n"
          ]
        }
      ]
    },
    {
      "cell_type": "code",
      "source": [
        "# Upon further examination of the data, we notice that the Characteristics and UOM columns provide similar data\n",
        "print(alcohol_df['Characteristics'].unique())\n",
        "print(alcohol_df['UOM'].unique())\n",
        "\n",
        "# Given that UOM is more concise, we will keep UOM and drop Characteristics\n",
        "alcohol_df = alcohol_df.drop(columns=['Characteristics'])\n",
        "print(alcohol_df)\n"
      ],
      "metadata": {
        "colab": {
          "base_uri": "https://localhost:8080/"
        },
        "id": "c6HQ6OO8ukrK",
        "outputId": "06bdaed3-9e8e-4359-f83d-12697e02e5de"
      },
      "execution_count": null,
      "outputs": [
        {
          "output_type": "stream",
          "name": "stdout",
          "text": [
            "['Number of persons' 'Percent']\n",
            "['Number' 'Percent']\n",
            "    REF_DATE                             GEO                 Age group  \\\n",
            "0       2015  Canada (excluding territories)  Total, 12 years and over   \n",
            "1       2016  Canada (excluding territories)  Total, 12 years and over   \n",
            "2       2017  Canada (excluding territories)  Total, 12 years and over   \n",
            "3       2018  Canada (excluding territories)  Total, 12 years and over   \n",
            "4       2019  Canada (excluding territories)  Total, 12 years and over   \n",
            "..       ...                             ...                       ...   \n",
            "91      2018  Canada (excluding territories)         65 years and over   \n",
            "92      2019  Canada (excluding territories)         65 years and over   \n",
            "93      2020  Canada (excluding territories)         65 years and over   \n",
            "94      2021  Canada (excluding territories)         65 years and over   \n",
            "95      2022  Canada (excluding territories)         65 years and over   \n",
            "\n",
            "           Sex      Indicators      UOM      VALUE  \n",
            "0   Both sexes  Heavy drinking   Number  5782800.0  \n",
            "1   Both sexes  Heavy drinking   Number  5770900.0  \n",
            "2   Both sexes  Heavy drinking   Number  6015500.0  \n",
            "3   Both sexes  Heavy drinking   Number  5946400.0  \n",
            "4   Both sexes  Heavy drinking   Number  5802200.0  \n",
            "..         ...             ...      ...        ...  \n",
            "91  Both sexes  Heavy drinking  Percent        7.4  \n",
            "92  Both sexes  Heavy drinking  Percent        7.6  \n",
            "93  Both sexes  Heavy drinking  Percent        7.4  \n",
            "94  Both sexes  Heavy drinking  Percent        7.9  \n",
            "95  Both sexes  Heavy drinking  Percent       10.0  \n",
            "\n",
            "[96 rows x 7 columns]\n"
          ]
        }
      ]
    },
    {
      "cell_type": "code",
      "source": [
        "# Finally, we will check for duplicates\n",
        "duplicated = alcohol_df[alcohol_df.duplicated()]\n",
        "num_of_duplicates_alc = alcohol_df.duplicated().sum()\n",
        "\n",
        "print(num_of_duplicates_alc)\n"
      ],
      "metadata": {
        "colab": {
          "base_uri": "https://localhost:8080/"
        },
        "id": "JtksQIfsvgq6",
        "outputId": "0fbd5614-70aa-42b8-f59d-4db3eb90c936"
      },
      "execution_count": null,
      "outputs": [
        {
          "output_type": "stream",
          "name": "stdout",
          "text": [
            "0\n"
          ]
        }
      ]
    },
    {
      "cell_type": "markdown",
      "source": [
        "Since we have removed any unnecessary columns and confirmed that there are no duplicates, we can begin our analysis of the data!"
      ],
      "metadata": {
        "id": "8HTdSaAevjGn"
      }
    },
    {
      "cell_type": "markdown",
      "source": [
        "# <h4>**2B. Data Exploration**</h4>\n"
      ],
      "metadata": {
        "id": "Lxuci_W5d_AX"
      }
    },
    {
      "cell_type": "markdown",
      "source": [
        "To analyze the data, we can first copy the dataframe and limit it to just the rows expressing the data as a percent of the age group. Then, we can visualize the relationship between the age group and the percent of that age group reporting heavy drinking across all years.  "
      ],
      "metadata": {
        "id": "W2bWfxX_3jRu"
      }
    },
    {
      "cell_type": "code",
      "source": [
        "alcohol_df_percents = alcohol_df.copy()\n",
        "alcohol_df_percents = alcohol_df_percents[alcohol_df_percents['UOM'] == 'Percent']\n",
        "\n",
        "# To improve the graph, remove the rows with the age group as 'Total'\n",
        "alcohol_df_percents = alcohol_df_percents[alcohol_df_percents['Age group'] != 'Total, 12 years and over']\n",
        "\n",
        "\n",
        "df_pivot = alcohol_df_percents.pivot(index='REF_DATE', columns='Age group', values='VALUE')\n",
        "\n",
        "for column in df_pivot.columns:\n",
        "    plt.plot(df_pivot.index, df_pivot[column], marker='o', label=column)\n",
        "\n",
        "plt.title('Percent of Age Group Reporting Heavy Drinking, Over Years')\n",
        "plt.xlabel('Year')\n",
        "plt.ylabel('Percent Reporting Heavy Drinking')\n",
        "plt.legend(title='Age Group', bbox_to_anchor=(1.05, 1.0), loc='upper left')\n",
        "plt.grid(True)\n",
        "plt.show()"
      ],
      "metadata": {
        "colab": {
          "base_uri": "https://localhost:8080/",
          "height": 439
        },
        "id": "q6eg6H7NvvqS",
        "outputId": "7b3c3fc0-5964-4137-8bc7-4098e8c74828"
      },
      "execution_count": null,
      "outputs": [
        {
          "output_type": "display_data",
          "data": {
            "text/plain": [
              "<Figure size 640x480 with 1 Axes>"
            ],
            "image/png": "[encoded data removed]"
          },
          "metadata": {}
        }
      ]
    },
    {
      "cell_type": "markdown",
      "source": [
        "Hypothesis Testing:\n",
        "\n",
        "<p align = \"justify\">ANOVA tests are used to compare means between 3 or more groups. In this case, there are 5 different age groups to compare: people aged 12-17 years old, 18-34 years old, 35-49 years old, 50-64 years old, and 65 years old and older. We can use the ANOVA test to determine if there is a statistically significant difference in the mean heavy drinking rate reported across years.\n",
        "\n",
        "We will use a significance value, or alpha value, of 0.05. To conduct the test, our Null and Alternative Hypotheses are as follows:</p>\n",
        "\n",
        "\n",
        "$H_{0}$: *The age group does not have an effect on the mean reported rate of heavy drinking.*\n",
        "\n",
        "$H_{A}$: *The age group does have an effect on the mean reported rate of heavy drinking.*"
      ],
      "metadata": {
        "id": "tmTa3i5i_OYa"
      }
    },
    {
      "cell_type": "code",
      "source": [
        "# To begin, we will create arrays storing the numeric percents associated with each age group\n",
        "age_12_17 = alcohol_df_percents[alcohol_df_percents['Age group'] == '12 to 17 years']['VALUE']\n",
        "age_18_34 = alcohol_df_percents[alcohol_df_percents['Age group'] == '18 to 34 years']['VALUE']\n",
        "age_35_49 = alcohol_df_percents[alcohol_df_percents['Age group'] == '35 to 49 years']['VALUE']\n",
        "age_50_64 = alcohol_df_percents[alcohol_df_percents['Age group'] == '50 to 64 years']['VALUE']\n",
        "age_65_above = alcohol_df_percents[alcohol_df_percents['Age group'] == '65 years and over']['VALUE']\n",
        "\n",
        "results = f_oneway(age_12_17,age_18_34,age_35_49, age_50_64, age_65_above)\n",
        "print(results.pvalue)\n"
      ],
      "metadata": {
        "colab": {
          "base_uri": "https://localhost:8080/"
        },
        "id": "Amsyak6h9FGW",
        "outputId": "d55bcbc2-5ad2-489a-9dec-131237ec7b88"
      },
      "execution_count": null,
      "outputs": [
        {
          "output_type": "stream",
          "name": "stdout",
          "text": [
            "6.293707068743887e-24\n"
          ]
        }
      ]
    },
    {
      "cell_type": "markdown",
      "source": [
        "Given that the resulting p-value is less than the value for alpha, we can reject the null hypothesis. As such, we can conclude that there exists a difference among age groups regarding their average reported drinking rates."
      ],
      "metadata": {
        "id": "KdQy5V2wBlDh"
      }
    },
    {
      "cell_type": "markdown",
      "source": [
        "# <h3>**3. Smoking Data:**</h3>\n",
        "Source: https://www.kaggle.com/datasets/fedesoriano/stroke-prediction-dataset\n",
        "\n",
        "# <h5>**Overall Summary For This Dataset:**</h5>\n",
        "<p align = \"justify\">This dataset has a large sample size of 5,110 people, reflecting a diverse population from rural and urban areas. The dataset contains various demographic, physiological, and behavioral factors that provide information about the samples' health problems and lifestyle choices. These attributes include gender, age, marital status, occupation, type of residence, medical conditions (such as hypertension and heart disease), BMI, and smoking status. The dataset's age range is 0.08 years (roughly eight months) to 82 years, ensuring enough observations from the young adult age group (18-30 years). The smoking status variable is extensive, with options such as \"formerly smoked,\" \"never smoked,\" \"smokes,\" and \"unknown,\" providing helpful information about smoking frequency and history. This precise categorization will allow for an in-depth assessment of how different smoking habits affect the chance of a stroke in young adults. </p>\n",
        "\n",
        "# <h4>**3A. Data Preprocessing**</h4>"
      ],
      "metadata": {
        "id": "k7xrFMH9VEV1"
      }
    },
    {
      "cell_type": "markdown",
      "source": [
        "**Step 1. Load the initial dataset containing all the samples.**"
      ],
      "metadata": {
        "id": "jQT1w3pWohR0"
      }
    },
    {
      "cell_type": "code",
      "source": [
        "smoking_df = pd.read_csv('/content/drive/MyDrive/CSV/smoking_stroke.csv')\n",
        "print(smoking_df)"
      ],
      "metadata": {
        "id": "5jEKfFhbBlBu",
        "colab": {
          "base_uri": "https://localhost:8080/"
        },
        "outputId": "448bfbbe-72be-46d4-b695-107bd61465f5"
      },
      "execution_count": null,
      "outputs": [
        {
          "output_type": "stream",
          "name": "stdout",
          "text": [
            "         id  gender   age  hypertension  heart_disease ever_married  \\\n",
            "0      9046    Male  67.0             0              1          Yes   \n",
            "1     51676  Female  61.0             0              0          Yes   \n",
            "2     31112    Male  80.0             0              1          Yes   \n",
            "3     60182  Female  49.0             0              0          Yes   \n",
            "4      1665  Female  79.0             1              0          Yes   \n",
            "...     ...     ...   ...           ...            ...          ...   \n",
            "5105  18234  Female  80.0             1              0          Yes   \n",
            "5106  44873  Female  81.0             0              0          Yes   \n",
            "5107  19723  Female  35.0             0              0          Yes   \n",
            "5108  37544    Male  51.0             0              0          Yes   \n",
            "5109  44679  Female  44.0             0              0          Yes   \n",
            "\n",
            "          work_type Residence_type  avg_glucose_level   bmi   smoking_status  \\\n",
            "0           Private          Urban             228.69  36.6  formerly smoked   \n",
            "1     Self-employed          Rural             202.21   NaN     never smoked   \n",
            "2           Private          Rural             105.92  32.5     never smoked   \n",
            "3           Private          Urban             171.23  34.4           smokes   \n",
            "4     Self-employed          Rural             174.12  24.0     never smoked   \n",
            "...             ...            ...                ...   ...              ...   \n",
            "5105        Private          Urban              83.75   NaN     never smoked   \n",
            "5106  Self-employed          Urban             125.20  40.0     never smoked   \n",
            "5107  Self-employed          Rural              82.99  30.6     never smoked   \n",
            "5108        Private          Rural             166.29  25.6  formerly smoked   \n",
            "5109       Govt_job          Urban              85.28  26.2          Unknown   \n",
            "\n",
            "      stroke  \n",
            "0          1  \n",
            "1          1  \n",
            "2          1  \n",
            "3          1  \n",
            "4          1  \n",
            "...      ...  \n",
            "5105       0  \n",
            "5106       0  \n",
            "5107       0  \n",
            "5108       0  \n",
            "5109       0  \n",
            "\n",
            "[5110 rows x 12 columns]\n"
          ]
        }
      ]
    },
    {
      "cell_type": "markdown",
      "source": [
        "**Step 2. Data Cleaning process -> delete duplicates and determine what to do with unknown data (is it MNAR or MCAR/MAR)**"
      ],
      "metadata": {
        "id": "JEqwAbDGo44O"
      }
    },
    {
      "cell_type": "code",
      "source": [
        "# 1. Check for exact duplicates -> None Existing\n",
        "print(smoking_df.shape)\n",
        "smoking_df.drop_duplicates()\n",
        "print(smoking_df.shape, \"\\n\")\n",
        "\n",
        "# 2. Check for missing values -> BMI category is not used for this exploration thus can be ignored\n",
        "missing_values = smoking_df.isnull().sum()\n",
        "print(missing_values)\n"
      ],
      "metadata": {
        "colab": {
          "base_uri": "https://localhost:8080/"
        },
        "id": "aLUjEytQpEPk",
        "outputId": "44c078b5-d4cd-4539-8e21-4b0a06fac786"
      },
      "execution_count": null,
      "outputs": [
        {
          "output_type": "stream",
          "name": "stdout",
          "text": [
            "(5110, 12)\n",
            "(5110, 12) \n",
            "\n",
            "id                     0\n",
            "gender                 0\n",
            "age                    0\n",
            "hypertension           0\n",
            "heart_disease          0\n",
            "ever_married           0\n",
            "work_type              0\n",
            "Residence_type         0\n",
            "avg_glucose_level      0\n",
            "bmi                  201\n",
            "smoking_status         0\n",
            "stroke                 0\n",
            "dtype: int64\n"
          ]
        }
      ]
    },
    {
      "cell_type": "markdown",
      "source": [
        "Our data set has 5110 individual responses with no duplicates and all answers with unique ID numbers. Since for we want to explore the correlation between the smoking status and stroke diagnosis we will disregard the missing data in the bmi column."
      ],
      "metadata": {
        "id": "4TaQDQ4hNHpV"
      }
    },
    {
      "cell_type": "markdown",
      "source": [
        "# <h4>**3B. Data Exploration**</h4>"
      ],
      "metadata": {
        "id": "1ft1VBUIeig1"
      }
    },
    {
      "cell_type": "markdown",
      "source": [
        "**Step 1. Define the objective: Does smoking status have an impact on the diagnosis of stroke? (For this dataset all young adults between 18 - 30 had no diagnosis of stroke thus we will explore the correlation for all ages)**"
      ],
      "metadata": {
        "id": "EePOf0Z0PnDA"
      }
    },
    {
      "cell_type": "code",
      "source": [
        "print(smoking_df)"
      ],
      "metadata": {
        "colab": {
          "base_uri": "https://localhost:8080/"
        },
        "id": "bw6BeAKUNHJv",
        "outputId": "76bc0f4f-a98d-444f-9e6b-7c068fff0fd1"
      },
      "execution_count": null,
      "outputs": [
        {
          "output_type": "stream",
          "name": "stdout",
          "text": [
            "         id  gender   age  hypertension  heart_disease ever_married  \\\n",
            "0      9046    Male  67.0             0              1          Yes   \n",
            "1     51676  Female  61.0             0              0          Yes   \n",
            "2     31112    Male  80.0             0              1          Yes   \n",
            "3     60182  Female  49.0             0              0          Yes   \n",
            "4      1665  Female  79.0             1              0          Yes   \n",
            "...     ...     ...   ...           ...            ...          ...   \n",
            "5105  18234  Female  80.0             1              0          Yes   \n",
            "5106  44873  Female  81.0             0              0          Yes   \n",
            "5107  19723  Female  35.0             0              0          Yes   \n",
            "5108  37544    Male  51.0             0              0          Yes   \n",
            "5109  44679  Female  44.0             0              0          Yes   \n",
            "\n",
            "          work_type Residence_type  avg_glucose_level   bmi   smoking_status  \\\n",
            "0           Private          Urban             228.69  36.6  formerly smoked   \n",
            "1     Self-employed          Rural             202.21   NaN     never smoked   \n",
            "2           Private          Rural             105.92  32.5     never smoked   \n",
            "3           Private          Urban             171.23  34.4           smokes   \n",
            "4     Self-employed          Rural             174.12  24.0     never smoked   \n",
            "...             ...            ...                ...   ...              ...   \n",
            "5105        Private          Urban              83.75   NaN     never smoked   \n",
            "5106  Self-employed          Urban             125.20  40.0     never smoked   \n",
            "5107  Self-employed          Rural              82.99  30.6     never smoked   \n",
            "5108        Private          Rural             166.29  25.6  formerly smoked   \n",
            "5109       Govt_job          Urban              85.28  26.2          Unknown   \n",
            "\n",
            "      stroke  \n",
            "0          1  \n",
            "1          1  \n",
            "2          1  \n",
            "3          1  \n",
            "4          1  \n",
            "...      ...  \n",
            "5105       0  \n",
            "5106       0  \n",
            "5107       0  \n",
            "5108       0  \n",
            "5109       0  \n",
            "\n",
            "[5110 rows x 12 columns]\n"
          ]
        }
      ]
    },
    {
      "cell_type": "markdown",
      "source": [
        "**Step 2. Explore the filtered dataset for enough comprehension of the data.**"
      ],
      "metadata": {
        "id": "MsLAH5jLQL5p"
      }
    },
    {
      "cell_type": "code",
      "source": [
        "# 0. Explore the columns and rows of our filtered data\n",
        "print(\"Num of Rows and Columns : \" , smoking_df.shape)\n",
        "\n",
        "# 1. Explore the columns of the data\n",
        "print(\"\\nColumns : \", smoking_df.columns)\n",
        "\n",
        "# 2. Explore the data types of the columns -> age : float64 smoking_status : object (string)\n",
        "print(\"\\nData types :\\n\" , smoking_df.dtypes )\n",
        "\n",
        "# 3. Explore the categories of smoking_status\n",
        "print(\"\\nCategories of smoking status: \", smoking_df[\"smoking_status\"].unique())\n",
        "\n",
        "# 4. Check for unknown response for smoking status -> more than 25% refused to respond MNAR\n",
        "unknown_smoking_status = smoking_df[smoking_df[\"smoking_status\"] == \"Unknown\"]\n",
        "unknown_smoking_status\n",
        "print(\"\\nMissing Num of Rows and Columns :\", unknown_smoking_status.shape)"
      ],
      "metadata": {
        "colab": {
          "base_uri": "https://localhost:8080/"
        },
        "id": "308-eoA-SiE0",
        "outputId": "b7d9dabd-2ed6-456a-8303-fab98e6bb994"
      },
      "execution_count": null,
      "outputs": [
        {
          "output_type": "stream",
          "name": "stdout",
          "text": [
            "Num of Rows and Columns :  (5110, 12)\n",
            "\n",
            "Columns :  Index(['id', 'gender', 'age', 'hypertension', 'heart_disease', 'ever_married',\n",
            "       'work_type', 'Residence_type', 'avg_glucose_level', 'bmi',\n",
            "       'smoking_status', 'stroke'],\n",
            "      dtype='object')\n",
            "\n",
            "Data types :\n",
            " id                     int64\n",
            "gender                object\n",
            "age                  float64\n",
            "hypertension           int64\n",
            "heart_disease          int64\n",
            "ever_married          object\n",
            "work_type             object\n",
            "Residence_type        object\n",
            "avg_glucose_level    float64\n",
            "bmi                  float64\n",
            "smoking_status        object\n",
            "stroke                 int64\n",
            "dtype: object\n",
            "\n",
            "Categories of smoking status:  ['formerly smoked' 'never smoked' 'smokes' 'Unknown']\n",
            "\n",
            "Missing Num of Rows and Columns : (1544, 12)\n"
          ]
        }
      ]
    },
    {
      "cell_type": "markdown",
      "source": [
        "<p align = \"justify\">Our categorical values for the smoking_status column are \"Unknown,\" \"formerly smoked,\" \"never smoked,\" and \"smokes.\" This data is assumed to be data missing not at random or MNAR, since some of the individuals did not wish to disclose their smoking behaviors. If these individuals were less than 1% of our data, we would simply drop them; however, they were approximately 30% of our data. Thus, we have decided to consider Unknown as a new category to study the correlation between smoking status and stroke diagnosis.</p>"
      ],
      "metadata": {
        "id": "JHTUs2CzVKEf"
      }
    },
    {
      "cell_type": "markdown",
      "source": [
        "**Step 3. Hypothesis Testing Using ANOVA to test the correlation between \"smoking_status\" and \"stroke\" for young adults.**\n",
        "\n",
        "**< Hypothesis >**\n",
        "\n",
        "- $H_{0}$: Smoking status does not have an effect on the likelihood of stroke.\n",
        "\n",
        "- $H_{A}$: Smoking status does have an effect on the likelihood of stroke.\n",
        "\n",
        "**Step 3.1 Since we have categorical values for smoking status we will convert them to numeric values before using ANOVA**"
      ],
      "metadata": {
        "id": "dEhmhdlvVcdT"
      }
    },
    {
      "cell_type": "code",
      "source": [
        "# Convert the smoking status to numeric values\n",
        "def convert_status (status) :\n",
        "  if status == \"never smoked\" :\n",
        "    return 0\n",
        "  elif status == \"formerly smoked\" :\n",
        "    return 1\n",
        "  elif status == \"smokes\" :\n",
        "    return 2\n",
        "  elif status == \"Unknown\" :\n",
        "    return -1\n",
        "\n",
        "smoking_df[\"smoking_status\"] = smoking_df[\"smoking_status\"].apply(convert_status)\n",
        "print(smoking_df)"
      ],
      "metadata": {
        "colab": {
          "base_uri": "https://localhost:8080/"
        },
        "id": "f6Lv3UzLXyWN",
        "outputId": "5a6150da-582b-4d31-bf8d-dc3071b62e45"
      },
      "execution_count": null,
      "outputs": [
        {
          "output_type": "stream",
          "name": "stdout",
          "text": [
            "         id  gender   age  hypertension  heart_disease ever_married  \\\n",
            "0      9046    Male  67.0             0              1          Yes   \n",
            "1     51676  Female  61.0             0              0          Yes   \n",
            "2     31112    Male  80.0             0              1          Yes   \n",
            "3     60182  Female  49.0             0              0          Yes   \n",
            "4      1665  Female  79.0             1              0          Yes   \n",
            "...     ...     ...   ...           ...            ...          ...   \n",
            "5105  18234  Female  80.0             1              0          Yes   \n",
            "5106  44873  Female  81.0             0              0          Yes   \n",
            "5107  19723  Female  35.0             0              0          Yes   \n",
            "5108  37544    Male  51.0             0              0          Yes   \n",
            "5109  44679  Female  44.0             0              0          Yes   \n",
            "\n",
            "          work_type Residence_type  avg_glucose_level   bmi  smoking_status  \\\n",
            "0           Private          Urban             228.69  36.6               1   \n",
            "1     Self-employed          Rural             202.21   NaN               0   \n",
            "2           Private          Rural             105.92  32.5               0   \n",
            "3           Private          Urban             171.23  34.4               2   \n",
            "4     Self-employed          Rural             174.12  24.0               0   \n",
            "...             ...            ...                ...   ...             ...   \n",
            "5105        Private          Urban              83.75   NaN               0   \n",
            "5106  Self-employed          Urban             125.20  40.0               0   \n",
            "5107  Self-employed          Rural              82.99  30.6               0   \n",
            "5108        Private          Rural             166.29  25.6               1   \n",
            "5109       Govt_job          Urban              85.28  26.2              -1   \n",
            "\n",
            "      stroke  \n",
            "0          1  \n",
            "1          1  \n",
            "2          1  \n",
            "3          1  \n",
            "4          1  \n",
            "...      ...  \n",
            "5105       0  \n",
            "5106       0  \n",
            "5107       0  \n",
            "5108       0  \n",
            "5109       0  \n",
            "\n",
            "[5110 rows x 12 columns]\n"
          ]
        }
      ]
    },
    {
      "cell_type": "markdown",
      "source": [
        "**Step 3.2 Use ANOVA to conduct a test for our encoded dataset.**"
      ],
      "metadata": {
        "id": "WgZvZF7laBa9"
      }
    },
    {
      "cell_type": "code",
      "source": [
        "# Create and display a contingency table used for our testing\n",
        "smoking_stroke_table2 = pd.crosstab(smoking_df['stroke'], smoking_df['smoking_status'])\n",
        "print(smoking_stroke_table2)\n",
        "\n",
        "# ANOVA Testing to find P-Value\n",
        "result = f_oneway(smoking_stroke_table2[0],smoking_stroke_table2[1], smoking_stroke_table2[2], smoking_stroke_table2[-1])\n",
        "print(\"P-Value: \", result.pvalue)"
      ],
      "metadata": {
        "colab": {
          "base_uri": "https://localhost:8080/"
        },
        "id": "485crA4KaR1d",
        "outputId": "7c9cc4ac-67b5-4cca-9490-3b6800ff759a"
      },
      "execution_count": null,
      "outputs": [
        {
          "output_type": "stream",
          "name": "stdout",
          "text": [
            "smoking_status    -1     0    1    2\n",
            "stroke                              \n",
            "0               1497  1802  815  747\n",
            "1                 47    90   70   42\n",
            "P-Value:  0.9018883799637181\n"
          ]
        }
      ]
    },
    {
      "cell_type": "markdown",
      "source": [
        "**Step 4. Visualize the statistic result.**"
      ],
      "metadata": {
        "id": "P3-GAr00c_4q"
      }
    },
    {
      "cell_type": "code",
      "source": [
        "contingency = pd.crosstab(smoking_df['smoking_status'], smoking_df['stroke'])\n",
        "contingency.plot(kind= \"bar\")"
      ],
      "metadata": {
        "colab": {
          "base_uri": "https://localhost:8080/",
          "height": 467
        },
        "id": "53e-4PifdGqB",
        "outputId": "613403b4-c41f-48c9-cf6d-562985c64fc6"
      },
      "execution_count": null,
      "outputs": [
        {
          "output_type": "execute_result",
          "data": {
            "text/plain": [
              "<Axes: xlabel='smoking_status'>"
            ]
          },
          "metadata": {},
          "execution_count": 581
        },
        {
          "output_type": "display_data",
          "data": {
            "text/plain": [
              "<Figure size 640x480 with 1 Axes>"
            ],
            "image/png": "[encoded data removed]"
          },
          "metadata": {}
        }
      ]
    },
    {
      "cell_type": "markdown",
      "source": [
        "<p align = \"justify\">We fail to reject the null hypothesis because the P-value exceeds the significance level 0.9019 > 0.05. This means that we fail to prove that smoking status influences the likelihood of having a stroke. No Post-Hoc testing is needed since there was not enough statistical proof of convincing significant differences between the four categories of smoking status and the diagnosis of stroke.</p>"
      ],
      "metadata": {
        "id": "eibYCWnqcuqC"
      }
    },
    {
      "cell_type": "code",
      "source": [
        "plt.figure(figsize=(8, 6))\n",
        "seas.violinplot(x='smoking_status', y='stroke', data=smoking_df, inner='quartile')\n",
        "plt.ylabel('Stroke')\n",
        "plt.xlabel('Encoded Smoking Status (-1: Unknown, 0: never smoked, 1: formerly smoked, 2: smokes)')\n",
        "plt.title(f'Smoking Status and Stroke')\n",
        "plt.grid(True)\n",
        "plt.show()"
      ],
      "metadata": {
        "colab": {
          "base_uri": "https://localhost:8080/",
          "height": 564
        },
        "id": "jx4aMi2HeL6B",
        "outputId": "b962c27b-1a88-4305-ecbb-d2ff20effd7a"
      },
      "execution_count": null,
      "outputs": [
        {
          "output_type": "display_data",
          "data": {
            "text/plain": [
              "<Figure size 800x600 with 1 Axes>"
            ],
            "image/png": "[encoded data removed]"
          },
          "metadata": {}
        }
      ]
    },
    {
      "cell_type": "markdown",
      "source": [
        "# <h3>**4. Unhealthy Eating Behaviors Data:**</h3>\n",
        "Source: https://www.kaggle.com/datasets/jillanisofttech/brain-stroke-dataset\n",
        "\n",
        "# <h5>**Overall Summary For This Dataset:**</h5>\n",
        "<p align = \"justify\">The dataset consists of 4,981 entries and 11 features, which encompass patient demographics, medical history, average glucose levels, and stroke diagnosis. It includes both categorical and numerical data types. No features appear over-represented according to the summary statistics provided. We can observe the correlation among most features is low, suggesting that each contributes independently to determining the stroke diagnosis. Boxplots and z-scores indicate that there are no significant outliers in age, average glucose level, and BMI. The binary nature of the target variable, stroke, suggests that a classification approach is appropriate for the primary analysis technique. These findings will inform the necessary preprocessing steps and help in selecting the appropriate analysis method to ensure thorough and accurate modeling.</p>\n",
        "\n",
        "# <h4>**4A. Data Preprocessing**</h4>"
      ],
      "metadata": {
        "id": "ZRfAvUh8VHXV"
      }
    },
    {
      "cell_type": "markdown",
      "source": [
        "<p align = \"justify\">In the last step, we will take a look at the relationship between unhealthy eating behaviors (linked to increased average glucose levels) and occurence of stroke. First, create a dataframe named \"glucose_df\", read the \"brain_stroke(avg_glucose_lvl).csv\" file into it and display the dataframe.</p>"
      ],
      "metadata": {
        "id": "C-s9lWKp9pzv"
      }
    },
    {
      "cell_type": "code",
      "source": [
        "glucose_df = pd.read_csv('/content/drive/MyDrive/CSV/brain_stroke.csv')\n",
        "print(glucose_df)"
      ],
      "metadata": {
        "id": "_9uDGVWcBoQZ",
        "colab": {
          "base_uri": "https://localhost:8080/"
        },
        "outputId": "9587b851-fb97-4f47-8468-f0a96a61f2c5"
      },
      "execution_count": null,
      "outputs": [
        {
          "output_type": "stream",
          "name": "stdout",
          "text": [
            "      gender   age  hypertension  heart_disease ever_married      work_type  \\\n",
            "0       Male  67.0             0              1          Yes        Private   \n",
            "1       Male  80.0             0              1          Yes        Private   \n",
            "2     Female  49.0             0              0          Yes        Private   \n",
            "3     Female  79.0             1              0          Yes  Self-employed   \n",
            "4       Male  81.0             0              0          Yes        Private   \n",
            "...      ...   ...           ...            ...          ...            ...   \n",
            "4976    Male  41.0             0              0           No        Private   \n",
            "4977    Male  40.0             0              0          Yes        Private   \n",
            "4978  Female  45.0             1              0          Yes       Govt_job   \n",
            "4979    Male  40.0             0              0          Yes        Private   \n",
            "4980  Female  80.0             1              0          Yes        Private   \n",
            "\n",
            "     Residence_type  avg_glucose_level   bmi   smoking_status  stroke  \n",
            "0             Urban             228.69  36.6  formerly smoked       1  \n",
            "1             Rural             105.92  32.5     never smoked       1  \n",
            "2             Urban             171.23  34.4           smokes       1  \n",
            "3             Rural             174.12  24.0     never smoked       1  \n",
            "4             Urban             186.21  29.0  formerly smoked       1  \n",
            "...             ...                ...   ...              ...     ...  \n",
            "4976          Rural              70.15  29.8  formerly smoked       0  \n",
            "4977          Urban             191.15  31.1           smokes       0  \n",
            "4978          Rural              95.02  31.8           smokes       0  \n",
            "4979          Rural              83.94  30.0           smokes       0  \n",
            "4980          Urban              83.75  29.1     never smoked       0  \n",
            "\n",
            "[4981 rows x 11 columns]\n"
          ]
        }
      ]
    },
    {
      "cell_type": "markdown",
      "source": [
        "<p align = \"justify\">As for the age feature, for this specific dataset, we will NOT filter the age. After applying the age filter to the dataset on unhealthy eating behaviors, we found that there were no stroke cases among young adults aged 18-30. This lack of data made it difficult to conduct a meaningful analysis within this specific age group. Despite this, we recognized the overall value of the dataset and decided to broaden our analysis to include all age groups. This approach allowed us to extract meaningful statistics and insights, which are still highly relevant to understanding the impact of dietary habits on stroke risk across a wider population.</p>\n"
      ],
      "metadata": {
        "id": "0rmsGlp-_vzi"
      }
    },
    {
      "cell_type": "markdown",
      "source": [
        "# <h4>**4B. Data Exploration**</h4>\n"
      ],
      "metadata": {
        "id": "lruIxO5we3xi"
      }
    },
    {
      "cell_type": "markdown",
      "source": [
        "<p align = \"justify\">Now, we will conduct a Pearson Correlation Coefficient (r) between two variables, \"avg_glucose_level\" and \"stroke,\" in hopes of visualizing their relationship. Generating a Pearson Correlation Coefficient will help to indicate the strength and direction of the linear relationship between an individual's avergage glucose levels and their stroke status.</p>"
      ],
      "metadata": {
        "id": "ijNY0P51_01Y"
      }
    },
    {
      "cell_type": "code",
      "source": [
        "# Calculate the Pearson correlation coefficient (r) between \"avg_glucose_level\" and \"stroke\"\n",
        "correlation_coefficient = glucose_df['avg_glucose_level'].corr(glucose_df['stroke'])\n",
        "\n",
        "# Create a plot to visualize the relationship between \"avg_glucose_level\" and \"stroke\"\n",
        "import seaborn as seas\n",
        "plt.figure(figsize=(8, 6))\n",
        "seas.violinplot(x='stroke', y='avg_glucose_level', data=glucose_df, inner='quartile')\n",
        "#plt.scatter(glucose_df['avg_glucose_level'], glucose_df['stroke'], alpha=0.5)\n",
        "plt.ylabel('Average Glucose Level')\n",
        "plt.xlabel('Stroke Status')\n",
        "plt.title(f'Average Glucose Level vs Stroke (Correlation Coefficient: {correlation_coefficient:.2f})')\n",
        "plt.grid(True)\n",
        "plt.show()\n",
        "\n",
        "print(\"Pearson Correlation Coefficient (r):\" , correlation_coefficient)"
      ],
      "metadata": {
        "id": "BTEln99o_wcv",
        "colab": {
          "base_uri": "https://localhost:8080/"
        },
        "outputId": "53d0876b-2788-4179-d3d1-bb818291c4dc"
      },
      "execution_count": null,
      "outputs": [
        {
          "output_type": "display_data",
          "data": {
            "text/plain": [
              "<Figure size 800x600 with 1 Axes>"
            ],
            "image/png": "[encoded data removed]"
          },
          "metadata": {}
        },
        {
          "output_type": "stream",
          "name": "stdout",
          "text": [
            "Pearson Correlation Coefficient (r): 0.13322732663313727\n"
          ]
        }
      ]
    },
    {
      "cell_type": "markdown",
      "source": [
        "Unhealthy Eating Behaviors & Pearson Correlation Coefficient Conclusion:\n",
        "\n",
        "<p align = \"justify\">The Pearson Correlation Coefficient (r) calculated for the relationship between 'avg_glucose_level' and 'stroke' is 0.133. This indicates a positive, but relatively weak, linear correlation between an individual's average glucose levels and their stroke status. Although there is a direct relationship, suggesting that higher glucose levels might be associated with an increased risk of stroke, the strength of this correlation is modest at best. This result implies that while average glucose levels are a factor in stroke risk, they are likely just one of multiple contributing factors. Therefore, further analysis involving additional variables and larger datasets may be necessary to fully understand the complex interactions that lead to stroke in young adults aged 18-30.</p>\n"
      ],
      "metadata": {
        "id": "SdHJpRzOBi-R"
      }
    },
    {
      "cell_type": "markdown",
      "source": [
        "# <h3>**5. Stroke Data:**</h3>\n",
        "Source: https://www.kaggle.com/datasets/teamincribo/stroke-prediction\n",
        "\n",
        "# <h5>**Overall Summary For This Dataset:**</h5>\n",
        "<p align = \"justify\">The dataset contains 15,000 entries and 22 features, including patient demographics, medical history, lifestyle factors, and stroke diagnosis. The features are a mix of categorical and numerical data. Based on the summary statistics, there is no indication of any feature being over-represented. We can observe that age has a moderate positive correlation with hypertension and heart disease, while average glucose level and BMI have very low correlation with other features, indicating they may independently contribute to the diagnosis. Boxplots and z-scores do not reveal potential outliers in age, average glucose level, BMI, and stress levels. The target variable, diagnosis, is binary, suggesting a classification approach for the primary analysis technique. Numerical features will require standardization or normalization, and categorical features will need appropriate encoding. Additionally, the \"Symptoms\" feature has missing values, which can be handled by imputation or exclusion strategies, but are not necessary. These insights will help guide the preprocessing steps and the choice of analysis technique.</p>\n",
        "\n",
        "# <h4>**5A. Data Preprocessing**</h2>\n",
        "In this step, we are creating a dataframe named \"stroke_df\", read the \"stroke_prediction_dataset.csv\" file into it and display the dataframe."
      ],
      "metadata": {
        "id": "AL0Bq5teVkL9"
      }
    },
    {
      "cell_type": "code",
      "source": [
        "stroke_df = pd.read_csv('/content/drive/MyDrive/CSV/stroke_prediction_dataset.csv')\n",
        "print(stroke_df)"
      ],
      "metadata": {
        "colab": {
          "base_uri": "https://localhost:8080/"
        },
        "id": "wqlxekirVuvc",
        "outputId": "e531b186-520f-4010-d74d-15047aaa62b0"
      },
      "execution_count": null,
      "outputs": [
        {
          "output_type": "stream",
          "name": "stdout",
          "text": [
            "       Patient ID       Patient Name  Age  Gender  Hypertension  \\\n",
            "0           18153    Mamooty Khurana   56    Male             0   \n",
            "1           62749  Kaira Subramaniam   80    Male             0   \n",
            "2           32145      Dhanush Balan   26    Male             1   \n",
            "3            6154        Ivana Baral   73    Male             0   \n",
            "4           48973  Darshit Jayaraman   51    Male             1   \n",
            "...           ...                ...  ...     ...           ...   \n",
            "14995       13981          Keya Iyer   88  Female             1   \n",
            "14996       87707       Anahita Virk   47  Female             0   \n",
            "14997       33174         Ivana Kaur   35    Male             0   \n",
            "14998       22343        Anvi Mannan   73    Male             0   \n",
            "14999       11066      Gokul Trivedi   64  Female             0   \n",
            "\n",
            "       Heart Disease Marital Status       Work Type Residence Type  \\\n",
            "0                  1        Married   Self-employed          Rural   \n",
            "1                  0         Single   Self-employed          Urban   \n",
            "2                  1        Married    Never Worked          Rural   \n",
            "3                  0        Married    Never Worked          Urban   \n",
            "4                  1       Divorced   Self-employed          Urban   \n",
            "...              ...            ...             ...            ...   \n",
            "14995              1       Divorced   Self-employed          Urban   \n",
            "14996              0        Married         Private          Urban   \n",
            "14997              0        Married  Government Job          Rural   \n",
            "14998              0         Single   Self-employed          Urban   \n",
            "14999              0         Single    Never Worked          Urban   \n",
            "\n",
            "       Average Glucose Level  ...    Alcohol Intake Physical Activity  \\\n",
            "0                     130.91  ...    Social Drinker          Moderate   \n",
            "1                     183.73  ...             Never               Low   \n",
            "2                     189.00  ...            Rarely              High   \n",
            "3                     185.29  ...  Frequent Drinker          Moderate   \n",
            "4                     177.34  ...            Rarely               Low   \n",
            "...                      ...  ...               ...               ...   \n",
            "14995                 160.22  ...    Social Drinker              High   \n",
            "14996                 107.58  ...             Never               Low   \n",
            "14997                 134.90  ...            Rarely              High   \n",
            "14998                 169.42  ...             Never              High   \n",
            "14999                 186.88  ...            Rarely          Moderate   \n",
            "\n",
            "      Stroke History Family History of Stroke  Dietary Habits Stress Levels  \\\n",
            "0                  0                      Yes           Vegan          3.48   \n",
            "1                  0                       No           Paleo          1.73   \n",
            "2                  0                      Yes           Paleo          7.31   \n",
            "3                  0                       No           Paleo          5.35   \n",
            "4                  0                      Yes     Pescatarian          6.84   \n",
            "...              ...                      ...             ...           ...   \n",
            "14995              0                       No           Paleo          1.12   \n",
            "14996              1                       No     Gluten-Free          1.47   \n",
            "14997              1                       No           Paleo          0.51   \n",
            "14998              0                      Yes           Paleo          1.53   \n",
            "14999              0                       No           Vegan          4.57   \n",
            "\n",
            "      Blood Pressure Levels  Cholesterol Levels  \\\n",
            "0                   140/108   HDL: 68, LDL: 133   \n",
            "1                    146/91    HDL: 63, LDL: 70   \n",
            "2                    154/97    HDL: 59, LDL: 95   \n",
            "3                    174/81   HDL: 70, LDL: 137   \n",
            "4                    121/95    HDL: 65, LDL: 68   \n",
            "...                     ...                 ...   \n",
            "14995                171/92   HDL: 44, LDL: 153   \n",
            "14996                155/71   HDL: 35, LDL: 183   \n",
            "14997               121/110   HDL: 57, LDL: 159   \n",
            "14998                157/74    HDL: 79, LDL: 91   \n",
            "14999                133/81   HDL: 78, LDL: 179   \n",
            "\n",
            "                                                Symptoms  Diagnosis  \n",
            "0                          Difficulty Speaking, Headache     Stroke  \n",
            "1        Loss of Balance, Headache, Dizziness, Confusion     Stroke  \n",
            "2                                    Seizures, Dizziness     Stroke  \n",
            "3      Seizures, Blurred Vision, Severe Fatigue, Head...  No Stroke  \n",
            "4                                    Difficulty Speaking     Stroke  \n",
            "...                                                  ...        ...  \n",
            "14995                                                NaN  No Stroke  \n",
            "14996                                Difficulty Speaking  No Stroke  \n",
            "14997      Difficulty Speaking, Severe Fatigue, Headache     Stroke  \n",
            "14998  Severe Fatigue, Numbness, Confusion, Dizziness...  No Stroke  \n",
            "14999                                           Headache     Stroke  \n",
            "\n",
            "[15000 rows x 22 columns]\n"
          ]
        }
      ]
    },
    {
      "cell_type": "markdown",
      "source": [
        "We focus on young adults aged 18 to 30. By isolating this age group from the broader dataset, we aim to examine potential risk factors and stroke incidences in this age group."
      ],
      "metadata": {
        "id": "JVye4_VQW763"
      }
    },
    {
      "cell_type": "code",
      "source": [
        "young_adults = stroke_df[(stroke_df['Age']>=18)&(stroke_df['Age']<=30)]\n",
        "print(young_adults)"
      ],
      "metadata": {
        "colab": {
          "base_uri": "https://localhost:8080/"
        },
        "id": "fAWlrq9xWUt8",
        "outputId": "9e1191d8-2b39-4b2a-9d06-c4cd2b565208"
      },
      "execution_count": null,
      "outputs": [
        {
          "output_type": "stream",
          "name": "stdout",
          "text": [
            "       Patient ID     Patient Name  Age  Gender  Hypertension  Heart Disease  \\\n",
            "2           32145    Dhanush Balan   26    Male             1              1   \n",
            "12          66924     Ahana  Lalla   30  Female             0              1   \n",
            "19          23954     Taran Khatri   25    Male             0              0   \n",
            "25          36975      Jhanvi Brar   24  Female             0              0   \n",
            "37          94512       Anvi Salvi   23  Female             0              0   \n",
            "...           ...              ...  ...     ...           ...            ...   \n",
            "14972       11839    Chirag Kurian   30    Male             0              1   \n",
            "14974       30150  Alisha Banerjee   20  Female             0              0   \n",
            "14981       12323        Pari Ravi   25    Male             0              0   \n",
            "14983       40381        Sana Goel   18  Female             0              0   \n",
            "14991       90658      Samaira Raj   26    Male             0              1   \n",
            "\n",
            "      Marital Status       Work Type Residence Type  Average Glucose Level  \\\n",
            "2            Married    Never Worked          Rural                 189.00   \n",
            "12          Divorced  Government Job          Urban                 163.15   \n",
            "19           Married         Private          Urban                  71.38   \n",
            "25           Married   Self-employed          Urban                  79.89   \n",
            "37            Single  Government Job          Rural                 164.72   \n",
            "...              ...             ...            ...                    ...   \n",
            "14972        Married   Self-employed          Rural                 126.94   \n",
            "14974       Divorced    Never Worked          Rural                 101.36   \n",
            "14981         Single         Private          Rural                  77.64   \n",
            "14983         Single   Self-employed          Urban                  68.26   \n",
            "14991        Married   Self-employed          Rural                 145.05   \n",
            "\n",
            "       ...    Alcohol Intake Physical Activity Stroke History  \\\n",
            "2      ...            Rarely              High              0   \n",
            "12     ...  Frequent Drinker          Moderate              0   \n",
            "19     ...            Rarely          Moderate              0   \n",
            "25     ...    Social Drinker              High              1   \n",
            "37     ...    Social Drinker               Low              1   \n",
            "...    ...               ...               ...            ...   \n",
            "14972  ...            Rarely          Moderate              0   \n",
            "14974  ...             Never              High              0   \n",
            "14981  ...  Frequent Drinker               Low              0   \n",
            "14983  ...    Social Drinker          Moderate              1   \n",
            "14991  ...    Social Drinker               Low              1   \n",
            "\n",
            "      Family History of Stroke  Dietary Habits Stress Levels  \\\n",
            "2                          Yes           Paleo          7.31   \n",
            "12                         Yes  Non-Vegetarian          9.19   \n",
            "19                         Yes     Gluten-Free          0.46   \n",
            "25                          No      Vegetarian          6.48   \n",
            "37                         Yes     Gluten-Free          7.86   \n",
            "...                        ...             ...           ...   \n",
            "14972                       No     Pescatarian          9.51   \n",
            "14974                      Yes     Pescatarian          2.26   \n",
            "14981                      Yes           Paleo          2.69   \n",
            "14983                       No      Vegetarian          6.79   \n",
            "14991                       No     Pescatarian          0.71   \n",
            "\n",
            "      Blood Pressure Levels  Cholesterol Levels  \\\n",
            "2                    154/97    HDL: 59, LDL: 95   \n",
            "12                   114/67    HDL: 80, LDL: 83   \n",
            "19                   170/64   HDL: 72, LDL: 174   \n",
            "25                   151/65   HDL: 73, LDL: 111   \n",
            "37                   148/74    HDL: 30, LDL: 62   \n",
            "...                     ...                 ...   \n",
            "14972                113/65   HDL: 55, LDL: 179   \n",
            "14974                159/94    HDL: 42, LDL: 99   \n",
            "14981                135/66   HDL: 58, LDL: 161   \n",
            "14983                136/66   HDL: 59, LDL: 172   \n",
            "14991               180/110    HDL: 33, LDL: 99   \n",
            "\n",
            "                                                Symptoms  Diagnosis  \n",
            "2                                    Seizures, Dizziness     Stroke  \n",
            "12                             Loss of Balance, Numbness     Stroke  \n",
            "19                                              Seizures     Stroke  \n",
            "25     Numbness, Loss of Balance, Numbness, Blurred V...     Stroke  \n",
            "37                    Blurred Vision, Seizures, Weakness     Stroke  \n",
            "...                                                  ...        ...  \n",
            "14972                                                NaN  No Stroke  \n",
            "14974                           Seizures, Severe Fatigue     Stroke  \n",
            "14981  Blurred Vision, Headache, Severe Fatigue, Loss...     Stroke  \n",
            "14983  Severe Fatigue, Severe Fatigue, Headache, Seiz...     Stroke  \n",
            "14991                               Confusion, Confusion  No Stroke  \n",
            "\n",
            "[2662 rows x 22 columns]\n"
          ]
        }
      ]
    },
    {
      "cell_type": "markdown",
      "source": [
        "Let us clean the young_adults dataframe to ensure proper data traversal. Drop any duplicates."
      ],
      "metadata": {
        "id": "eIuzGfXAXY6z"
      }
    },
    {
      "cell_type": "code",
      "source": [
        "duplicate_rows = young_adults[young_adults.duplicated()]\n",
        "num_duplicates = young_adults.duplicated().sum()\n",
        "\n",
        "print(duplicate_rows)"
      ],
      "metadata": {
        "colab": {
          "base_uri": "https://localhost:8080/"
        },
        "id": "03CgWro6XaDa",
        "outputId": "58f7ba37-9e48-4463-ead1-49c803a5dd41"
      },
      "execution_count": null,
      "outputs": [
        {
          "output_type": "stream",
          "name": "stdout",
          "text": [
            "Empty DataFrame\n",
            "Columns: [Patient ID, Patient Name, Age, Gender, Hypertension, Heart Disease, Marital Status, Work Type, Residence Type, Average Glucose Level, Body Mass Index (BMI), Smoking Status, Alcohol Intake, Physical Activity, Stroke History, Family History of Stroke, Dietary Habits, Stress Levels, Blood Pressure Levels, Cholesterol Levels, Symptoms, Diagnosis]\n",
            "Index: []\n",
            "\n",
            "[0 rows x 22 columns]\n"
          ]
        }
      ]
    },
    {
      "cell_type": "markdown",
      "source": [
        "No duplicates were found. Detect any outliers."
      ],
      "metadata": {
        "id": "4ac1cIWrXieL"
      }
    },
    {
      "cell_type": "code",
      "source": [
        "# Function to calculate Z-scores\n",
        "def z_score(df, threshold=3.5):\n",
        "    numeric_cols = df.select_dtypes(include=[np.number]).columns\n",
        "    z_scores = np.abs((df[numeric_cols] - df[numeric_cols].mean()) / df[numeric_cols].std())\n",
        "    outliers = (z_scores > threshold).any(axis=1)\n",
        "    return outliers\n",
        "\n",
        "# Detect outliers\n",
        "outliers = z_score(young_adults)\n",
        "\n",
        "# Show outliers\n",
        "print(\"Outliers detected:\")\n",
        "print(young_adults[outliers])"
      ],
      "metadata": {
        "colab": {
          "base_uri": "https://localhost:8080/"
        },
        "id": "_eUqWTfrXp_O",
        "outputId": "8c4988d6-d125-4af2-b6a6-77dcb75151a1"
      },
      "execution_count": null,
      "outputs": [
        {
          "output_type": "stream",
          "name": "stdout",
          "text": [
            "Outliers detected:\n",
            "Empty DataFrame\n",
            "Columns: [Patient ID, Patient Name, Age, Gender, Hypertension, Heart Disease, Marital Status, Work Type, Residence Type, Average Glucose Level, Body Mass Index (BMI), Smoking Status, Alcohol Intake, Physical Activity, Stroke History, Family History of Stroke, Dietary Habits, Stress Levels, Blood Pressure Levels, Cholesterol Levels, Symptoms, Diagnosis]\n",
            "Index: []\n",
            "\n",
            "[0 rows x 22 columns]\n"
          ]
        }
      ]
    },
    {
      "cell_type": "markdown",
      "source": [
        "No outliers were found. The young_adults dataframe is clean and ready for use!"
      ],
      "metadata": {
        "id": "RxVWVEuXXxzM"
      }
    },
    {
      "cell_type": "markdown",
      "source": [
        "# <h4>**5B. Data Exploration**</h4>\n",
        "\n",
        "# <h5>**5B1. Stress Levels vs Stroke Diagnosis**</h5>\n",
        "<p align = \"justify\">Lets begin by using Chi-Squared Test on whether the stress level has a correlation with stroke diagnosis. The Chi-Squared test is used when we want to determine if there is a significant association between two categorical variables. In this situation, we want to know whether there is a relationship between two categorical variables: the stress level and whether the patient was diagnosed with a stroke. Therefore, chi-squared test is suitable for this situation. We assume that the alpha value is 0.05. The following statement are Null Hypothesis and Alternate Hypothesis for the Chi-Squared Test.</p>\n",
        "\n",
        "- $H_{0}$: The stress level does not have an effect on the likelihood of stroke diagnosis in the patient.\n",
        "\n",
        "- $H_{A}$: The stress level does have an effect on the likelihood of stroke diagnosis in the patient.\n",
        "\n",
        "Firstly, we categorize stress levels into 10 groups: 0-1, 1-2, 2-3, 3-4, 4-5, 5-6, 6-7, 7-8, 8-9, and 9-10 by creating a new column that is called \"New Stress Levels\"."
      ],
      "metadata": {
        "id": "QtDGZW9CX3l5"
      }
    },
    {
      "cell_type": "code",
      "source": [
        "conditions = [\n",
        "    (young_adults['Stress Levels'] >= 0.00) & (young_adults['Stress Levels'] <= 1.00),\n",
        "    (young_adults['Stress Levels'] >= 1.01) & (young_adults['Stress Levels'] <= 2.00),\n",
        "    (young_adults['Stress Levels'] >= 2.01) & (young_adults['Stress Levels'] <= 3.00),\n",
        "    (young_adults['Stress Levels'] >= 3.01) & (young_adults['Stress Levels'] <= 4.00),\n",
        "    (young_adults['Stress Levels'] >= 4.01) & (young_adults['Stress Levels'] <= 5.00),\n",
        "    (young_adults['Stress Levels'] >= 5.01) & (young_adults['Stress Levels'] <= 6.00),\n",
        "    (young_adults['Stress Levels'] >= 6.01) & (young_adults['Stress Levels'] <= 7.00),\n",
        "    (young_adults['Stress Levels'] >= 7.01) & (young_adults['Stress Levels'] <= 8.00),\n",
        "    (young_adults['Stress Levels'] >= 8.01) & (young_adults['Stress Levels'] <= 9.00),\n",
        "    (young_adults['Stress Levels'] >= 9.01) & (young_adults['Stress Levels'] <= 10.00)\n",
        "]\n",
        "# create a list of the values we want to assign for each condition\n",
        "values = ['0-1', '1-2', '2-3', '3-4', '4-5', '5-6', '6-7', '7-8', '8-9', '9-10']\n",
        "\n",
        "# create a new column and use np.select to assign values to it using our lists as arguments\n",
        "young_adults['New Stress Levels'] = np.select(conditions, values)\n",
        "print(young_adults)"
      ],
      "metadata": {
        "colab": {
          "base_uri": "https://localhost:8080/"
        },
        "id": "q7wp7JjAYCmo",
        "outputId": "d3b5703d-0201-4f46-cafc-24bdafbede66"
      },
      "execution_count": null,
      "outputs": [
        {
          "output_type": "stream",
          "name": "stdout",
          "text": [
            "       Patient ID     Patient Name  Age  Gender  Hypertension  Heart Disease  \\\n",
            "2           32145    Dhanush Balan   26    Male             1              1   \n",
            "12          66924     Ahana  Lalla   30  Female             0              1   \n",
            "19          23954     Taran Khatri   25    Male             0              0   \n",
            "25          36975      Jhanvi Brar   24  Female             0              0   \n",
            "37          94512       Anvi Salvi   23  Female             0              0   \n",
            "...           ...              ...  ...     ...           ...            ...   \n",
            "14972       11839    Chirag Kurian   30    Male             0              1   \n",
            "14974       30150  Alisha Banerjee   20  Female             0              0   \n",
            "14981       12323        Pari Ravi   25    Male             0              0   \n",
            "14983       40381        Sana Goel   18  Female             0              0   \n",
            "14991       90658      Samaira Raj   26    Male             0              1   \n",
            "\n",
            "      Marital Status       Work Type Residence Type  Average Glucose Level  \\\n",
            "2            Married    Never Worked          Rural                 189.00   \n",
            "12          Divorced  Government Job          Urban                 163.15   \n",
            "19           Married         Private          Urban                  71.38   \n",
            "25           Married   Self-employed          Urban                  79.89   \n",
            "37            Single  Government Job          Rural                 164.72   \n",
            "...              ...             ...            ...                    ...   \n",
            "14972        Married   Self-employed          Rural                 126.94   \n",
            "14974       Divorced    Never Worked          Rural                 101.36   \n",
            "14981         Single         Private          Rural                  77.64   \n",
            "14983         Single   Self-employed          Urban                  68.26   \n",
            "14991        Married   Self-employed          Rural                 145.05   \n",
            "\n",
            "       ...  Physical Activity Stroke History Family History of Stroke  \\\n",
            "2      ...               High              0                      Yes   \n",
            "12     ...           Moderate              0                      Yes   \n",
            "19     ...           Moderate              0                      Yes   \n",
            "25     ...               High              1                       No   \n",
            "37     ...                Low              1                      Yes   \n",
            "...    ...                ...            ...                      ...   \n",
            "14972  ...           Moderate              0                       No   \n",
            "14974  ...               High              0                      Yes   \n",
            "14981  ...                Low              0                      Yes   \n",
            "14983  ...           Moderate              1                       No   \n",
            "14991  ...                Low              1                       No   \n",
            "\n",
            "       Dietary Habits  Stress Levels Blood Pressure Levels Cholesterol Levels  \\\n",
            "2               Paleo           7.31                154/97   HDL: 59, LDL: 95   \n",
            "12     Non-Vegetarian           9.19                114/67   HDL: 80, LDL: 83   \n",
            "19        Gluten-Free           0.46                170/64  HDL: 72, LDL: 174   \n",
            "25         Vegetarian           6.48                151/65  HDL: 73, LDL: 111   \n",
            "37        Gluten-Free           7.86                148/74   HDL: 30, LDL: 62   \n",
            "...               ...            ...                   ...                ...   \n",
            "14972     Pescatarian           9.51                113/65  HDL: 55, LDL: 179   \n",
            "14974     Pescatarian           2.26                159/94   HDL: 42, LDL: 99   \n",
            "14981           Paleo           2.69                135/66  HDL: 58, LDL: 161   \n",
            "14983      Vegetarian           6.79                136/66  HDL: 59, LDL: 172   \n",
            "14991     Pescatarian           0.71               180/110   HDL: 33, LDL: 99   \n",
            "\n",
            "                                                Symptoms  Diagnosis  \\\n",
            "2                                    Seizures, Dizziness     Stroke   \n",
            "12                             Loss of Balance, Numbness     Stroke   \n",
            "19                                              Seizures     Stroke   \n",
            "25     Numbness, Loss of Balance, Numbness, Blurred V...     Stroke   \n",
            "37                    Blurred Vision, Seizures, Weakness     Stroke   \n",
            "...                                                  ...        ...   \n",
            "14972                                                NaN  No Stroke   \n",
            "14974                           Seizures, Severe Fatigue     Stroke   \n",
            "14981  Blurred Vision, Headache, Severe Fatigue, Loss...     Stroke   \n",
            "14983  Severe Fatigue, Severe Fatigue, Headache, Seiz...     Stroke   \n",
            "14991                               Confusion, Confusion  No Stroke   \n",
            "\n",
            "      New Stress Levels  \n",
            "2                   7-8  \n",
            "12                 9-10  \n",
            "19                  0-1  \n",
            "25                  6-7  \n",
            "37                  7-8  \n",
            "...                 ...  \n",
            "14972              9-10  \n",
            "14974               2-3  \n",
            "14981               2-3  \n",
            "14983               6-7  \n",
            "14991               0-1  \n",
            "\n",
            "[2662 rows x 23 columns]\n"
          ]
        },
        {
          "output_type": "stream",
          "name": "stderr",
          "text": [
            "<ipython-input-589-f09478bf7528>:17: SettingWithCopyWarning: \n",
            "A value is trying to be set on a copy of a slice from a DataFrame.\n",
            "Try using .loc[row_indexer,col_indexer] = value instead\n",
            "\n",
            "See the caveats in the documentation: https://pandas.pydata.org/pandas-docs/stable/user_guide/indexing.html#returning-a-view-versus-a-copy\n",
            "  young_adults['New Stress Levels'] = np.select(conditions, values)\n"
          ]
        }
      ]
    },
    {
      "cell_type": "markdown",
      "source": [
        "We create a contingency table and display it."
      ],
      "metadata": {
        "id": "zazxZwNBYMYV"
      }
    },
    {
      "cell_type": "code",
      "source": [
        "stress_table = pd.crosstab(young_adults['New Stress Levels'], young_adults['Diagnosis'])\n",
        "print(stress_table)"
      ],
      "metadata": {
        "colab": {
          "base_uri": "https://localhost:8080/"
        },
        "id": "aWLwMYyiYWy1",
        "outputId": "b7cfcd93-263f-4205-cb3d-23e5f7507b61"
      },
      "execution_count": null,
      "outputs": [
        {
          "output_type": "stream",
          "name": "stdout",
          "text": [
            "Diagnosis          No Stroke  Stroke\n",
            "New Stress Levels                   \n",
            "0-1                      148     131\n",
            "1-2                      111     155\n",
            "2-3                      130     135\n",
            "3-4                      126     124\n",
            "4-5                      139     112\n",
            "5-6                      143     138\n",
            "6-7                      136     127\n",
            "7-8                      153     148\n",
            "8-9                      117     141\n",
            "9-10                     129     119\n"
          ]
        }
      ]
    },
    {
      "cell_type": "markdown",
      "source": [
        "\n",
        "Next, we create a plot showing the relationship between the stress levels and the counts of patients having stroke."
      ],
      "metadata": {
        "id": "3LOxlbahYdMU"
      }
    },
    {
      "cell_type": "code",
      "source": [
        "stress_table.plot(kind='bar', colormap='Paired')\n",
        "plt.ylabel('Count')"
      ],
      "metadata": {
        "colab": {
          "base_uri": "https://localhost:8080/",
          "height": 485
        },
        "id": "ksUn0XW0YlKV",
        "outputId": "0890ee66-38ba-4227-a908-b3fdb1551307"
      },
      "execution_count": null,
      "outputs": [
        {
          "output_type": "execute_result",
          "data": {
            "text/plain": [
              "Text(0, 0.5, 'Count')"
            ]
          },
          "metadata": {},
          "execution_count": 591
        },
        {
          "output_type": "display_data",
          "data": {
            "text/plain": [
              "<Figure size 640x480 with 1 Axes>"
            ],
            "image/png": "[encoded data removed]"
          },
          "metadata": {}
        }
      ]
    },
    {
      "cell_type": "markdown",
      "source": [
        "Now, we display P-Value by applying the chi-squared test using the chi2_contingency() function."
      ],
      "metadata": {
        "id": "WdNMAURvYwBd"
      }
    },
    {
      "cell_type": "code",
      "source": [
        "chi2, p_value, dof, expected = chi2_contingency(stress_table)\n",
        "print(\"P-Value:\", p_value)"
      ],
      "metadata": {
        "colab": {
          "base_uri": "https://localhost:8080/"
        },
        "id": "gSSI_0VZY5m-",
        "outputId": "7cd1b8dc-7375-4dbf-9cb1-3b87995a9c2e"
      },
      "execution_count": null,
      "outputs": [
        {
          "output_type": "stream",
          "name": "stdout",
          "text": [
            "P-Value: 0.10741461278569753\n"
          ]
        }
      ]
    },
    {
      "cell_type": "markdown",
      "source": [
        "<p align = \"justify\">Because p-value > alpha value (0.10741461278569753 > 0.05), we fail to reject the null hypothesis. There is not enough evidence to suggest that the stress level has an effect on the likelihood of being diagnosed with a stroke. We create a plot to visualize the relationship between \"New Stress Levels\" and \"Stroke Diagnosis\":</p>"
      ],
      "metadata": {
        "id": "msyrEJsJZAx2"
      }
    },
    {
      "cell_type": "code",
      "source": [
        "plt.figure(figsize=(8, 6))\n",
        "seas.violinplot(x='Diagnosis', y='New Stress Levels', data=young_adults, inner='quartile')\n",
        "plt.ylabel('New Stress Levels')\n",
        "plt.xlabel('Stroke Diagnosis')\n",
        "plt.title(f'Stress Levels vs Stroke (Contingency Table)')\n",
        "plt.grid(True)\n",
        "plt.show()"
      ],
      "metadata": {
        "colab": {
          "base_uri": "https://localhost:8080/",
          "height": 564
        },
        "id": "ufnIdyIIZKx3",
        "outputId": "559f3e98-514e-464a-a5f3-6411b320c44b"
      },
      "execution_count": null,
      "outputs": [
        {
          "output_type": "display_data",
          "data": {
            "text/plain": [
              "<Figure size 800x600 with 1 Axes>"
            ],
            "image/png": "[encoded data removed]"
          },
          "metadata": {}
        }
      ]
    },
    {
      "cell_type": "markdown",
      "source": [
        "# <h5>**5B2. Alcohol Intake vs Stroke Diagnosis**</h5>"
      ],
      "metadata": {
        "id": "1t4yLmvdZQT_"
      }
    },
    {
      "cell_type": "markdown",
      "source": [
        "<p align = \"justify\">To examine the relationship bewteen Alcohol Intake and a Stroke Diagnosis, we can use the Chi-Squared Test, which will allow us to compare the two categorical values. The first variable, Alcohol Intake, is organized into four categories: 'Never', 'Rarely', 'Social Drinker', and 'Frequent Drinker'. The second variable, Stroke Diagnosis, is organized into either 'No Stroke' or 'Stroke'.</p>\n",
        "\n",
        "For the Chi-Squared Test, we can assume a significance level, or alpha value, of 0.05. Our Null and Alternate hypotheses are as follows:\n",
        "\n",
        "$H_{0}$: *The alcohol intake category does not have an impact on stroke diagnosis.*\n",
        "\n",
        "$H_{A}$: *The alcohol intake category does have an impact on stroke diagnosis.*"
      ],
      "metadata": {
        "id": "MK9oATfiZXb0"
      }
    },
    {
      "cell_type": "markdown",
      "source": [
        "Because the dataset already includes discrete categories to describe alcohol consumption levels, we can immediately create a contingency table."
      ],
      "metadata": {
        "id": "pFCnX3BSZsf3"
      }
    },
    {
      "cell_type": "code",
      "source": [
        "alcohol_level_table = pd.crosstab(young_adults['Alcohol Intake'], young_adults['Diagnosis'])\n",
        "print(alcohol_level_table)"
      ],
      "metadata": {
        "colab": {
          "base_uri": "https://localhost:8080/"
        },
        "id": "-h4pe2JtZuOM",
        "outputId": "719b05be-6238-447d-e82a-b11e30c1add4"
      },
      "execution_count": null,
      "outputs": [
        {
          "output_type": "stream",
          "name": "stdout",
          "text": [
            "Diagnosis         No Stroke  Stroke\n",
            "Alcohol Intake                     \n",
            "Frequent Drinker        338     324\n",
            "Never                   336     296\n",
            "Rarely                  328     366\n",
            "Social Drinker          330     344\n"
          ]
        }
      ]
    },
    {
      "cell_type": "markdown",
      "source": [
        "We can visualize the same relationship using a bar graph."
      ],
      "metadata": {
        "id": "RkTzpjO-Z0l1"
      }
    },
    {
      "cell_type": "code",
      "source": [
        "alcohol_level_table.plot(kind='bar')\n",
        "plt.title('Alcohol Intake vs Stroke Diagnosis')\n",
        "plt.legend(title='Diagnosis', bbox_to_anchor=(1.05, 1.0), loc='upper left')\n",
        "plt.ylabel('Count')"
      ],
      "metadata": {
        "colab": {
          "base_uri": "https://localhost:8080/",
          "height": 586
        },
        "id": "GWKFjRrMZ78C",
        "outputId": "c9d591fe-b862-4839-e686-b36bb8940a5b"
      },
      "execution_count": null,
      "outputs": [
        {
          "output_type": "execute_result",
          "data": {
            "text/plain": [
              "Text(0, 0.5, 'Count')"
            ]
          },
          "metadata": {},
          "execution_count": 595
        },
        {
          "output_type": "display_data",
          "data": {
            "text/plain": [
              "<Figure size 640x480 with 1 Axes>"
            ],
            "image/png": "[encoded data removed]"
          },
          "metadata": {}
        }
      ]
    },
    {
      "cell_type": "markdown",
      "source": [
        "Using the chi2_contingency function, we can conduct the chi-squared test to determine if there is a relationship between alcohol intake categories and stroke diagnosis."
      ],
      "metadata": {
        "id": "DvavscjGaEAg"
      }
    },
    {
      "cell_type": "code",
      "source": [
        "# Conduct the chi2 test on the contingency table\n",
        "chi2, p_value, dof, expected = chi2_contingency(alcohol_level_table)\n",
        "print(\"P-Value for Alcohol Consumption vs Diagnosis:\", p_value)"
      ],
      "metadata": {
        "colab": {
          "base_uri": "https://localhost:8080/"
        },
        "id": "PqSjd_i3aMrs",
        "outputId": "5065d13b-7e1d-4cb0-a67d-977a206bc1df"
      },
      "execution_count": null,
      "outputs": [
        {
          "output_type": "stream",
          "name": "stdout",
          "text": [
            "P-Value for Alcohol Consumption vs Diagnosis: 0.15787917256302525\n"
          ]
        }
      ]
    },
    {
      "cell_type": "markdown",
      "source": [
        "Because the p-value obtained was greater than alpha, we cannot reject the null hypothesis. As such, we can conclude that we do not have sufficient evidence that alcohol intake has an impact on the liklihood of stroke diagnosis."
      ],
      "metadata": {
        "id": "IIThZqYTaT8R"
      }
    },
    {
      "cell_type": "markdown",
      "source": [
        "# <h5>**5B3. Smoking Status vs Stroke Diagnosis**</h5>"
      ],
      "metadata": {
        "id": "lzRpT6iYagHH"
      }
    },
    {
      "cell_type": "markdown",
      "source": [
        "<p align = \"justify\">We use the Chi-Squared Test to determine the correlation between the categorical values \"Formerly Smoked\", \"Non-smoker\", and \"Currently Smokes\" of the Smoking Status and the likelyhood of stroke. Chi-Squared Test is suitable since our variables \"Smoking Status\" and \"Diagnosis\" are both categorical data.<p align = \"justify\">\n",
        "\n",
        "Hypothesis:\n",
        "\n",
        "- $H_{0}$: Smoking status does not have an effect on the likelihood of stroke for young adults.\n",
        "\n",
        "- $H_{A}$: Smoking status does have an effect on the likelihood of stroke for young adults.\n",
        "\n",
        "*Step 1. Create a contingency table of  the variables \"Smoking Status\" and \"Diagnosis\"*"
      ],
      "metadata": {
        "id": "MKEBpP-NaqVU"
      }
    },
    {
      "cell_type": "code",
      "source": [
        "# Clean the columns for accurate result\n",
        "young_adults[\"Smoking Status\"].str.strip()\n",
        "young_adults[\"Diagnosis\"].str.strip()\n",
        "\n",
        "# Contingency Table\n",
        "smoking_stroke_table = pd.crosstab(young_adults[\"Smoking Status\"],young_adults[\"Diagnosis\"])\n",
        "print(smoking_stroke_table)"
      ],
      "metadata": {
        "colab": {
          "base_uri": "https://localhost:8080/"
        },
        "id": "bFa4GCzOazR8",
        "outputId": "b603a5db-374a-414b-b0de-d2ed2262df91"
      },
      "execution_count": null,
      "outputs": [
        {
          "output_type": "stream",
          "name": "stdout",
          "text": [
            "Diagnosis         No Stroke  Stroke\n",
            "Smoking Status                     \n",
            "Currently Smokes        449     466\n",
            "Formerly Smoked         415     408\n",
            "Non-smoker              468     456\n"
          ]
        }
      ]
    },
    {
      "cell_type": "markdown",
      "source": [
        "*Step 2. Show a bar graph to visually able to compare the relationship between smoking status and the diagnosis of stroke.*"
      ],
      "metadata": {
        "id": "Gq9r4kTga7aL"
      }
    },
    {
      "cell_type": "code",
      "source": [
        "# Data Comparison - Bar Graph (adequate for comparison between discrete values)\n",
        "smoking_stroke_table.plot(kind = \"bar\")"
      ],
      "metadata": {
        "colab": {
          "base_uri": "https://localhost:8080/",
          "height": 576
        },
        "id": "CKb2_Ia1bFQh",
        "outputId": "67b81fca-30b2-438d-92ce-d3b5d0d70716"
      },
      "execution_count": null,
      "outputs": [
        {
          "output_type": "execute_result",
          "data": {
            "text/plain": [
              "<Axes: xlabel='Smoking Status'>"
            ]
          },
          "metadata": {},
          "execution_count": 598
        },
        {
          "output_type": "display_data",
          "data": {
            "text/plain": [
              "<Figure size 640x480 with 1 Axes>"
            ],
            "image/png": "[encoded data removed]"
          },
          "metadata": {}
        }
      ]
    },
    {
      "cell_type": "markdown",
      "source": [
        "*Step 3. Find P-Value to determine whether there are significant differences of diagnosis depending on the status of smoking. Our significant value is 0.05.*"
      ],
      "metadata": {
        "id": "dp_h6Sr1bLJl"
      }
    },
    {
      "cell_type": "code",
      "source": [
        "# P-Value\n",
        "result = chi2_contingency(smoking_stroke_table)\n",
        "print(result.pvalue)"
      ],
      "metadata": {
        "colab": {
          "base_uri": "https://localhost:8080/"
        },
        "id": "T30opQsWbTxr",
        "outputId": "f51abc3a-0764-46c8-cab4-4077d26e648e"
      },
      "execution_count": null,
      "outputs": [
        {
          "output_type": "stream",
          "name": "stdout",
          "text": [
            "0.7673106445186333\n"
          ]
        }
      ]
    },
    {
      "cell_type": "markdown",
      "source": [
        "*Step 4. Conclusion of Hypothesis Testing*\n",
        "\n",
        "Due to the p-value being 0.7673 > 0.05. There isn't enough statistical proof to prove the impact of smoking status on stroke diagnosis. There aren't significant differences between the levels of the smoking status impacting the diagnosis of stroke."
      ],
      "metadata": {
        "id": "YmGI1AlGbcuC"
      }
    },
    {
      "cell_type": "markdown",
      "source": [
        "*Step 5. Visualize the correlation between the smoking status and the stroke diagnosis.*"
      ],
      "metadata": {
        "id": "Tqv6XDIibs2d"
      }
    },
    {
      "cell_type": "code",
      "source": [
        "plt.figure(figsize=(8, 6))\n",
        "seas.violinplot(x='Diagnosis', y='Smoking Status', data=young_adults, inner='quartile')\n",
        "plt.ylabel('Smoking Status')\n",
        "plt.xlabel('Stroke Diagnosis')\n",
        "plt.title(f'Smoking Status impacting Stroke Diagnosis')\n",
        "plt.grid(True)\n",
        "plt.show()"
      ],
      "metadata": {
        "colab": {
          "base_uri": "https://localhost:8080/",
          "height": 510
        },
        "id": "JId7KlVUbuO5",
        "outputId": "5dab6dd1-8680-4a6d-bc51-a3243251acb3"
      },
      "execution_count": null,
      "outputs": [
        {
          "output_type": "display_data",
          "data": {
            "text/plain": [
              "<Figure size 800x600 with 1 Axes>"
            ],
            "image/png": "[encoded data removed]"
          },
          "metadata": {}
        }
      ]
    },
    {
      "cell_type": "markdown",
      "source": [
        "# <h5>**5B4. Average Glucose Level vs Stroke Diagnosis**</h5>\n",
        "<p align = \"justify\">A Chi-Square Test was chosen here because it will help us examine the independence between a categorical independent variable (average glucose levels) and the binary outcome (presence of stroke).  As we stated in the beginning, we will be analyzing data amongst young adults who are between the ages of 18-30. Therefore, we will use a dataframe called young_adults that will only contain people who are considered young adults in stroke_df (the main dataset).</p>"
      ],
      "metadata": {
        "id": "G-SfZm7Vb1zA"
      }
    },
    {
      "cell_type": "code",
      "source": [
        "print(young_adults)"
      ],
      "metadata": {
        "colab": {
          "base_uri": "https://localhost:8080/"
        },
        "id": "iX83yTkIcAyj",
        "outputId": "34c8368e-0188-4822-8068-4564fa13e1f6"
      },
      "execution_count": null,
      "outputs": [
        {
          "output_type": "stream",
          "name": "stdout",
          "text": [
            "       Patient ID     Patient Name  Age  Gender  Hypertension  Heart Disease  \\\n",
            "2           32145    Dhanush Balan   26    Male             1              1   \n",
            "12          66924     Ahana  Lalla   30  Female             0              1   \n",
            "19          23954     Taran Khatri   25    Male             0              0   \n",
            "25          36975      Jhanvi Brar   24  Female             0              0   \n",
            "37          94512       Anvi Salvi   23  Female             0              0   \n",
            "...           ...              ...  ...     ...           ...            ...   \n",
            "14972       11839    Chirag Kurian   30    Male             0              1   \n",
            "14974       30150  Alisha Banerjee   20  Female             0              0   \n",
            "14981       12323        Pari Ravi   25    Male             0              0   \n",
            "14983       40381        Sana Goel   18  Female             0              0   \n",
            "14991       90658      Samaira Raj   26    Male             0              1   \n",
            "\n",
            "      Marital Status       Work Type Residence Type  Average Glucose Level  \\\n",
            "2            Married    Never Worked          Rural                 189.00   \n",
            "12          Divorced  Government Job          Urban                 163.15   \n",
            "19           Married         Private          Urban                  71.38   \n",
            "25           Married   Self-employed          Urban                  79.89   \n",
            "37            Single  Government Job          Rural                 164.72   \n",
            "...              ...             ...            ...                    ...   \n",
            "14972        Married   Self-employed          Rural                 126.94   \n",
            "14974       Divorced    Never Worked          Rural                 101.36   \n",
            "14981         Single         Private          Rural                  77.64   \n",
            "14983         Single   Self-employed          Urban                  68.26   \n",
            "14991        Married   Self-employed          Rural                 145.05   \n",
            "\n",
            "       ...  Physical Activity Stroke History Family History of Stroke  \\\n",
            "2      ...               High              0                      Yes   \n",
            "12     ...           Moderate              0                      Yes   \n",
            "19     ...           Moderate              0                      Yes   \n",
            "25     ...               High              1                       No   \n",
            "37     ...                Low              1                      Yes   \n",
            "...    ...                ...            ...                      ...   \n",
            "14972  ...           Moderate              0                       No   \n",
            "14974  ...               High              0                      Yes   \n",
            "14981  ...                Low              0                      Yes   \n",
            "14983  ...           Moderate              1                       No   \n",
            "14991  ...                Low              1                       No   \n",
            "\n",
            "       Dietary Habits  Stress Levels Blood Pressure Levels Cholesterol Levels  \\\n",
            "2               Paleo           7.31                154/97   HDL: 59, LDL: 95   \n",
            "12     Non-Vegetarian           9.19                114/67   HDL: 80, LDL: 83   \n",
            "19        Gluten-Free           0.46                170/64  HDL: 72, LDL: 174   \n",
            "25         Vegetarian           6.48                151/65  HDL: 73, LDL: 111   \n",
            "37        Gluten-Free           7.86                148/74   HDL: 30, LDL: 62   \n",
            "...               ...            ...                   ...                ...   \n",
            "14972     Pescatarian           9.51                113/65  HDL: 55, LDL: 179   \n",
            "14974     Pescatarian           2.26                159/94   HDL: 42, LDL: 99   \n",
            "14981           Paleo           2.69                135/66  HDL: 58, LDL: 161   \n",
            "14983      Vegetarian           6.79                136/66  HDL: 59, LDL: 172   \n",
            "14991     Pescatarian           0.71               180/110   HDL: 33, LDL: 99   \n",
            "\n",
            "                                                Symptoms  Diagnosis  \\\n",
            "2                                    Seizures, Dizziness     Stroke   \n",
            "12                             Loss of Balance, Numbness     Stroke   \n",
            "19                                              Seizures     Stroke   \n",
            "25     Numbness, Loss of Balance, Numbness, Blurred V...     Stroke   \n",
            "37                    Blurred Vision, Seizures, Weakness     Stroke   \n",
            "...                                                  ...        ...   \n",
            "14972                                                NaN  No Stroke   \n",
            "14974                           Seizures, Severe Fatigue     Stroke   \n",
            "14981  Blurred Vision, Headache, Severe Fatigue, Loss...     Stroke   \n",
            "14983  Severe Fatigue, Severe Fatigue, Headache, Seiz...     Stroke   \n",
            "14991                               Confusion, Confusion  No Stroke   \n",
            "\n",
            "      New Stress Levels  \n",
            "2                   7-8  \n",
            "12                 9-10  \n",
            "19                  0-1  \n",
            "25                  6-7  \n",
            "37                  7-8  \n",
            "...                 ...  \n",
            "14972              9-10  \n",
            "14974               2-3  \n",
            "14981               2-3  \n",
            "14983               6-7  \n",
            "14991               0-1  \n",
            "\n",
            "[2662 rows x 23 columns]\n"
          ]
        }
      ]
    },
    {
      "cell_type": "markdown",
      "source": [
        "<p align = \"justify\">In preparation for conducting a Chi-square test, we will categorize the \"Average Glucose Levels\" of individuals into three distinct groups based on guidelines provided by the Cleveland Clinic. Specifically, glucose levels below 117.0 will be classified as 'Normal', levels from 117.0 to 137.0 will be considered 'Pre-diabetic', and any levels exceeding 137.0 will be labeled as 'Diabetic' (Cleveland Clinic, 2022). This categorization will allow us to systematically analyze the association between glucose levels and other variables in our dataset.</p>"
      ],
      "metadata": {
        "id": "WBEVptKDcH_J"
      }
    },
    {
      "cell_type": "code",
      "source": [
        "def categorize_glucose_level(agl):\n",
        "    if agl < 117.0:\n",
        "        return 'Normal'\n",
        "    elif agl < 137.0:\n",
        "        return 'Pre-diabetic'\n",
        "    else:\n",
        "        return 'Diabetic'\n",
        "\n",
        "young_adults.loc[:, 'Category'] = young_adults['Average Glucose Level'].apply(categorize_glucose_level)\n",
        "print(young_adults)"
      ],
      "metadata": {
        "colab": {
          "base_uri": "https://localhost:8080/"
        },
        "id": "mWa1Jk-ecPSm",
        "outputId": "c60be8c6-bf6b-4c32-b350-ded825011469"
      },
      "execution_count": null,
      "outputs": [
        {
          "output_type": "stream",
          "name": "stdout",
          "text": [
            "       Patient ID     Patient Name  Age  Gender  Hypertension  Heart Disease  \\\n",
            "2           32145    Dhanush Balan   26    Male             1              1   \n",
            "12          66924     Ahana  Lalla   30  Female             0              1   \n",
            "19          23954     Taran Khatri   25    Male             0              0   \n",
            "25          36975      Jhanvi Brar   24  Female             0              0   \n",
            "37          94512       Anvi Salvi   23  Female             0              0   \n",
            "...           ...              ...  ...     ...           ...            ...   \n",
            "14972       11839    Chirag Kurian   30    Male             0              1   \n",
            "14974       30150  Alisha Banerjee   20  Female             0              0   \n",
            "14981       12323        Pari Ravi   25    Male             0              0   \n",
            "14983       40381        Sana Goel   18  Female             0              0   \n",
            "14991       90658      Samaira Raj   26    Male             0              1   \n",
            "\n",
            "      Marital Status       Work Type Residence Type  Average Glucose Level  \\\n",
            "2            Married    Never Worked          Rural                 189.00   \n",
            "12          Divorced  Government Job          Urban                 163.15   \n",
            "19           Married         Private          Urban                  71.38   \n",
            "25           Married   Self-employed          Urban                  79.89   \n",
            "37            Single  Government Job          Rural                 164.72   \n",
            "...              ...             ...            ...                    ...   \n",
            "14972        Married   Self-employed          Rural                 126.94   \n",
            "14974       Divorced    Never Worked          Rural                 101.36   \n",
            "14981         Single         Private          Rural                  77.64   \n",
            "14983         Single   Self-employed          Urban                  68.26   \n",
            "14991        Married   Self-employed          Rural                 145.05   \n",
            "\n",
            "       ...  Stroke History Family History of Stroke  Dietary Habits  \\\n",
            "2      ...               0                      Yes           Paleo   \n",
            "12     ...               0                      Yes  Non-Vegetarian   \n",
            "19     ...               0                      Yes     Gluten-Free   \n",
            "25     ...               1                       No      Vegetarian   \n",
            "37     ...               1                      Yes     Gluten-Free   \n",
            "...    ...             ...                      ...             ...   \n",
            "14972  ...               0                       No     Pescatarian   \n",
            "14974  ...               0                      Yes     Pescatarian   \n",
            "14981  ...               0                      Yes           Paleo   \n",
            "14983  ...               1                       No      Vegetarian   \n",
            "14991  ...               1                       No     Pescatarian   \n",
            "\n",
            "      Stress Levels  Blood Pressure Levels Cholesterol Levels  \\\n",
            "2              7.31                 154/97   HDL: 59, LDL: 95   \n",
            "12             9.19                 114/67   HDL: 80, LDL: 83   \n",
            "19             0.46                 170/64  HDL: 72, LDL: 174   \n",
            "25             6.48                 151/65  HDL: 73, LDL: 111   \n",
            "37             7.86                 148/74   HDL: 30, LDL: 62   \n",
            "...             ...                    ...                ...   \n",
            "14972          9.51                 113/65  HDL: 55, LDL: 179   \n",
            "14974          2.26                 159/94   HDL: 42, LDL: 99   \n",
            "14981          2.69                 135/66  HDL: 58, LDL: 161   \n",
            "14983          6.79                 136/66  HDL: 59, LDL: 172   \n",
            "14991          0.71                180/110   HDL: 33, LDL: 99   \n",
            "\n",
            "                                                Symptoms  Diagnosis  \\\n",
            "2                                    Seizures, Dizziness     Stroke   \n",
            "12                             Loss of Balance, Numbness     Stroke   \n",
            "19                                              Seizures     Stroke   \n",
            "25     Numbness, Loss of Balance, Numbness, Blurred V...     Stroke   \n",
            "37                    Blurred Vision, Seizures, Weakness     Stroke   \n",
            "...                                                  ...        ...   \n",
            "14972                                                NaN  No Stroke   \n",
            "14974                           Seizures, Severe Fatigue     Stroke   \n",
            "14981  Blurred Vision, Headache, Severe Fatigue, Loss...     Stroke   \n",
            "14983  Severe Fatigue, Severe Fatigue, Headache, Seiz...     Stroke   \n",
            "14991                               Confusion, Confusion  No Stroke   \n",
            "\n",
            "      New Stress Levels      Category  \n",
            "2                   7-8      Diabetic  \n",
            "12                 9-10      Diabetic  \n",
            "19                  0-1        Normal  \n",
            "25                  6-7        Normal  \n",
            "37                  7-8      Diabetic  \n",
            "...                 ...           ...  \n",
            "14972              9-10  Pre-diabetic  \n",
            "14974               2-3        Normal  \n",
            "14981               2-3        Normal  \n",
            "14983               6-7        Normal  \n",
            "14991               0-1      Diabetic  \n",
            "\n",
            "[2662 rows x 24 columns]\n"
          ]
        },
        {
          "output_type": "stream",
          "name": "stderr",
          "text": [
            "<ipython-input-602-ad58dde6d0c3>:9: SettingWithCopyWarning: \n",
            "A value is trying to be set on a copy of a slice from a DataFrame.\n",
            "Try using .loc[row_indexer,col_indexer] = value instead\n",
            "\n",
            "See the caveats in the documentation: https://pandas.pydata.org/pandas-docs/stable/user_guide/indexing.html#returning-a-view-versus-a-copy\n",
            "  young_adults.loc[:, 'Category'] = young_adults['Average Glucose Level'].apply(categorize_glucose_level)\n"
          ]
        }
      ]
    },
    {
      "cell_type": "markdown",
      "source": [
        "Next, we will apply some hypothesis testing.\n",
        "\n",
        "- $H_{0}$: The category of the average glucose levels does not have an effect on the likelihood of stroke occurrence in the patient\n",
        "\n",
        "- $H_{A}$: The category of the average glucose levels does have an effect on the likelihood of stroke occurrence in the patient\n",
        "\n",
        "Our plan is to apply Chi-Squared Test. For that first, we will probably want a contingency table and a way to create one. Create a contingency table and display it."
      ],
      "metadata": {
        "id": "vooYCCIgcVfR"
      }
    },
    {
      "cell_type": "code",
      "source": [
        "cont = pd.crosstab(young_adults['Category'], young_adults['Diagnosis'])\n",
        "print(cont)"
      ],
      "metadata": {
        "colab": {
          "base_uri": "https://localhost:8080/"
        },
        "id": "KM5fxgp-cekC",
        "outputId": "4ae0e755-3b3a-4c3e-8e1e-3bcbcd9bb664"
      },
      "execution_count": null,
      "outputs": [
        {
          "output_type": "stream",
          "name": "stdout",
          "text": [
            "Diagnosis     No Stroke  Stroke\n",
            "Category                       \n",
            "Diabetic            592     616\n",
            "Normal              541     527\n",
            "Pre-diabetic        199     187\n"
          ]
        }
      ]
    },
    {
      "cell_type": "markdown",
      "source": [
        "Create a plot showing the relationship between the average glucose level categories, and the occurrence of stroke."
      ],
      "metadata": {
        "id": "DddIZh-McnLg"
      }
    },
    {
      "cell_type": "code",
      "source": [
        "cont.plot(kind = 'bar', title='Average Glucose Level vs Stroke (Contingency Table))', xlabel='Average Glucose Level Category', ylabel='Number of Patients')"
      ],
      "metadata": {
        "colab": {
          "base_uri": "https://localhost:8080/",
          "height": 576
        },
        "id": "l3cyRxO-cvlV",
        "outputId": "2b7318b1-fee2-43e1-9aa8-bc0c81478697"
      },
      "execution_count": null,
      "outputs": [
        {
          "output_type": "execute_result",
          "data": {
            "text/plain": [
              "<Axes: title={'center': 'Average Glucose Level vs Stroke (Contingency Table))'}, xlabel='Average Glucose Level Category', ylabel='Number of Patients'>"
            ]
          },
          "metadata": {},
          "execution_count": 604
        },
        {
          "output_type": "display_data",
          "data": {
            "text/plain": [
              "<Figure size 640x480 with 1 Axes>"
            ],
            "image/png": "[encoded data removed]"
          },
          "metadata": {}
        }
      ]
    },
    {
      "cell_type": "markdown",
      "source": [
        "<p align = \"justify\">Next, we want to conduct the chi-squared test using the chi2_contingency() function. Display P-Value by applying the Chi-Squared Test using the chi2_contingency() function.</p>"
      ],
      "metadata": {
        "id": "zztdQqZMc5_R"
      }
    },
    {
      "cell_type": "code",
      "source": [
        "ob = spy.stats.contingency.chi2_contingency(cont)\n",
        "print(ob.pvalue)"
      ],
      "metadata": {
        "colab": {
          "base_uri": "https://localhost:8080/"
        },
        "id": "pF6KnCDfdGP1",
        "outputId": "168e078a-ce46-4aed-8b77-82c6a0233de4"
      },
      "execution_count": null,
      "outputs": [
        {
          "output_type": "stream",
          "name": "stdout",
          "text": [
            "0.5969342118907002\n"
          ]
        }
      ]
    },
    {
      "cell_type": "markdown",
      "source": [
        "Based on the obtained P-Value, determine whether to reject or fail to reject the null hypothesis:\n",
        "\n",
        "<p align = \"justify\">In hypothesis testing, we have set our class's significance level to be 0.05, and this value will act as a threshold to determine whether the p-value indicates a statistically significant result. If the p-value is less than or equal to the significance level (0.05), we reject the null hypothesis. Otherwise, we fail to reject the null hypothesis. Since 0.596934 > 0.05, the p-value is higher than the threshold set for statistical significance. Since the p-value is much greater than 0.05, it suggests that the observed data is quite likely under the null hypothesis of no association between the average glucose levels category and the likelihood of stroke occurring.</p>"
      ],
      "metadata": {
        "id": "rapnW3fMdNfI"
      }
    },
    {
      "cell_type": "markdown",
      "source": [
        "Unhealthy Eating Behaviors & Chi-Square Test Conclusion:\n",
        "\n",
        "<p align = \"justify\">The obtained P-Value of 0.596934 implies that there is not enough statistical evidence to conclude that the category of the average glucose levels affects the likelihood of stroke occurrence, meaning we fail to reject the null hypothesis.</p>"
      ],
      "metadata": {
        "id": "Pk6hebsUdWBC"
      }
    },
    {
      "cell_type": "markdown",
      "source": [
        "# <h2>**III. Machine Learning Analysis and Visualization**</h2>\n",
        "<p align = \"justify\">In this section, based on the results in the previous sections, we will apply machine learning techniques (e.g., classification, regression, etc.) to the Stroke Data to explore how lifestyle factors such as stress, alcohol consumption, smoking, and unhealthy eating behaviors correlate with the increasing incidence of strokes in young adults.</p>"
      ],
      "metadata": {
        "id": "LPFwPoGdrmEt"
      }
    },
    {
      "cell_type": "markdown",
      "source": [
        "# <h4>**1. Stress Levels vs Stroke Diagnosis**</h4>\n",
        "First of all, we display our data again."
      ],
      "metadata": {
        "id": "3CbpNOL2q-s7"
      }
    },
    {
      "cell_type": "code",
      "source": [
        "print(stress_table)"
      ],
      "metadata": {
        "colab": {
          "base_uri": "https://localhost:8080/"
        },
        "id": "qy0VaN_A1Env",
        "outputId": "22548518-bb79-4687-a169-162c4be70a30"
      },
      "execution_count": null,
      "outputs": [
        {
          "output_type": "stream",
          "name": "stdout",
          "text": [
            "Diagnosis          No Stroke  Stroke\n",
            "New Stress Levels                   \n",
            "0-1                      148     131\n",
            "1-2                      111     155\n",
            "2-3                      130     135\n",
            "3-4                      126     124\n",
            "4-5                      139     112\n",
            "5-6                      143     138\n",
            "6-7                      136     127\n",
            "7-8                      153     148\n",
            "8-9                      117     141\n",
            "9-10                     129     119\n"
          ]
        }
      ]
    },
    {
      "cell_type": "markdown",
      "source": [
        "<p align = \"justify\">Look at the above data, we can see that the stress levels and stroke incidence are continuous variables. Therefore, linear regression is a suitable choice for the analysis of the relationship between stress levels and stroke incidence.</p>\n",
        "\n",
        "<p align = \"justify\">We will convert the provided data into a suitable format for regression analysis by creating a dataset with stress levels and stroke incidences. The independent variable (predictor) will be the stress levels, and the dependent variable (response) will be the number of stroke incidences.</p>\n",
        "\n",
        "\n"
      ],
      "metadata": {
        "id": "fptRdgCg1yK0"
      }
    },
    {
      "cell_type": "code",
      "source": [
        "data = {\n",
        "    \"Stress Levels\": [0.5, 1.5, 2.5, 3.5, 4.5, 5.5, 6.5, 7.5, 8.5, 9.5],\n",
        "    \"Stroke Incidence\": [131, 155, 135, 124, 112, 138, 127, 148, 141, 119]\n",
        "}\n",
        "stress2_df = pd.DataFrame(data)\n"
      ],
      "metadata": {
        "id": "ErQICMdW3H9F"
      },
      "execution_count": null,
      "outputs": []
    },
    {
      "cell_type": "markdown",
      "source": [
        "Then, we will use linear regression to model the relationship between stress levels and stroke incidence."
      ],
      "metadata": {
        "id": "gj2ZI3uP4W-r"
      }
    },
    {
      "cell_type": "code",
      "source": [
        "X = stress2_df[\"Stress Levels\"].values.reshape(-1, 1)\n",
        "y = stress2_df[\"Stroke Incidence\"].values\n",
        "\n",
        "model = LinearRegression()\n"
      ],
      "metadata": {
        "id": "PLrcqppV4rqY"
      },
      "execution_count": null,
      "outputs": []
    },
    {
      "cell_type": "markdown",
      "source": [
        "Next, we will train the model by fitting the regression model to the data."
      ],
      "metadata": {
        "id": "FpbvvgrH4ypR"
      }
    },
    {
      "cell_type": "code",
      "source": [
        "model.fit(X, y)"
      ],
      "metadata": {
        "colab": {
          "base_uri": "https://localhost:8080/",
          "height": 75
        },
        "id": "rGQehHo45Hmq",
        "outputId": "873aeb6f-d5e6-4654-befd-474ee4bcd34e"
      },
      "execution_count": null,
      "outputs": [
        {
          "output_type": "execute_result",
          "data": {
            "text/plain": [
              "LinearRegression()"
            ],
            "text/html": [
              "<style>#sk-container-id-23 {color: black;background-color: white;}#sk-container-id-23 pre{padding: 0;}#sk-container-id-23 div.sk-toggleable {background-color: white;}#sk-container-id-23 label.sk-toggleable__label {cursor: pointer;display: block;width: 100%;margin-bottom: 0;padding: 0.3em;box-sizing: border-box;text-align: center;}#sk-container-id-23 label.sk-toggleable__label-arrow:before {content: \"▸\";float: left;margin-right: 0.25em;color: #696969;}#sk-container-id-23 label.sk-toggleable__label-arrow:hover:before {color: black;}#sk-container-id-23 div.sk-estimator:hover label.sk-toggleable__label-arrow:before {color: black;}#sk-container-id-23 div.sk-toggleable__content {max-height: 0;max-width: 0;overflow: hidden;text-align: left;background-color: #f0f8ff;}#sk-container-id-23 div.sk-toggleable__content pre {margin: 0.2em;color: black;border-radius: 0.25em;background-color: #f0f8ff;}#sk-container-id-23 input.sk-toggleable__control:checked~div.sk-toggleable__content {max-height: 200px;max-width: 100%;overflow: auto;}#sk-container-id-23 input.sk-toggleable__control:checked~label.sk-toggleable__label-arrow:before {content: \"▾\";}#sk-container-id-23 div.sk-estimator input.sk-toggleable__control:checked~label.sk-toggleable__label {background-color: #d4ebff;}#sk-container-id-23 div.sk-label input.sk-toggleable__control:checked~label.sk-toggleable__label {background-color: #d4ebff;}#sk-container-id-23 input.sk-hidden--visually {border: 0;clip: rect(1px 1px 1px 1px);clip: rect(1px, 1px, 1px, 1px);height: 1px;margin: -1px;overflow: hidden;padding: 0;position: absolute;width: 1px;}#sk-container-id-23 div.sk-estimator {font-family: monospace;background-color: #f0f8ff;border: 1px dotted black;border-radius: 0.25em;box-sizing: border-box;margin-bottom: 0.5em;}#sk-container-id-23 div.sk-estimator:hover {background-color: #d4ebff;}#sk-container-id-23 div.sk-parallel-item::after {content: \"\";width: 100%;border-bottom: 1px solid gray;flex-grow: 1;}#sk-container-id-23 div.sk-label:hover label.sk-toggleable__label {background-color: #d4ebff;}#sk-container-id-23 div.sk-serial::before {content: \"\";position: absolute;border-left: 1px solid gray;box-sizing: border-box;top: 0;bottom: 0;left: 50%;z-index: 0;}#sk-container-id-23 div.sk-serial {display: flex;flex-direction: column;align-items: center;background-color: white;padding-right: 0.2em;padding-left: 0.2em;position: relative;}#sk-container-id-23 div.sk-item {position: relative;z-index: 1;}#sk-container-id-23 div.sk-parallel {display: flex;align-items: stretch;justify-content: center;background-color: white;position: relative;}#sk-container-id-23 div.sk-item::before, #sk-container-id-23 div.sk-parallel-item::before {content: \"\";position: absolute;border-left: 1px solid gray;box-sizing: border-box;top: 0;bottom: 0;left: 50%;z-index: -1;}#sk-container-id-23 div.sk-parallel-item {display: flex;flex-direction: column;z-index: 1;position: relative;background-color: white;}#sk-container-id-23 div.sk-parallel-item:first-child::after {align-self: flex-end;width: 50%;}#sk-container-id-23 div.sk-parallel-item:last-child::after {align-self: flex-start;width: 50%;}#sk-container-id-23 div.sk-parallel-item:only-child::after {width: 0;}#sk-container-id-23 div.sk-dashed-wrapped {border: 1px dashed gray;margin: 0 0.4em 0.5em 0.4em;box-sizing: border-box;padding-bottom: 0.4em;background-color: white;}#sk-container-id-23 div.sk-label label {font-family: monospace;font-weight: bold;display: inline-block;line-height: 1.2em;}#sk-container-id-23 div.sk-label-container {text-align: center;}#sk-container-id-23 div.sk-container {/* jupyter's `normalize.less` sets `[hidden] { display: none; }` but bootstrap.min.css set `[hidden] { display: none !important; }` so we also need the `!important` here to be able to override the default hidden behavior on the sphinx rendered scikit-learn.org. See: https://github.com/scikit-learn/scikit-learn/issues/21755 */display: inline-block !important;position: relative;}#sk-container-id-23 div.sk-text-repr-fallback {display: none;}</style><div id=\"sk-container-id-23\" class=\"sk-top-container\"><div class=\"sk-text-repr-fallback\"><pre>LinearRegression()</pre><b>In a Jupyter environment, please rerun this cell to show the HTML representation or trust the notebook. <br />On GitHub, the HTML representation is unable to render, please try loading this page with nbviewer.org.</b></div><div class=\"sk-container\" hidden><div class=\"sk-item\"><div class=\"sk-estimator sk-toggleable\"><input class=\"sk-toggleable__control sk-hidden--visually\" id=\"sk-estimator-id-23\" type=\"checkbox\" checked><label for=\"sk-estimator-id-23\" class=\"sk-toggleable__label sk-toggleable__label-arrow\">LinearRegression</label><div class=\"sk-toggleable__content\"><pre>LinearRegression()</pre></div></div></div></div></div>"
            ]
          },
          "metadata": {},
          "execution_count": 609
        }
      ]
    },
    {
      "cell_type": "markdown",
      "source": [
        "In this step, we will interpret the regression coefficients to understand the correlation and display the results."
      ],
      "metadata": {
        "id": "X3Ku_7F35vHc"
      }
    },
    {
      "cell_type": "code",
      "source": [
        "coef = model.coef_[0]\n",
        "intercept = model.intercept_\n",
        "r_squared = model.score(X, y)\n",
        "\n",
        "print(\"Regression Coefficient (Slope):\", coef)\n",
        "print(\"\\n Intercept:\", intercept)\n",
        "print(\"\\n R-squared:\", r_squared)"
      ],
      "metadata": {
        "colab": {
          "base_uri": "https://localhost:8080/"
        },
        "id": "EDvMU8ar52vu",
        "outputId": "6cbf8b1e-80f9-4912-e764-b2a850ad34e2"
      },
      "execution_count": null,
      "outputs": [
        {
          "output_type": "stream",
          "name": "stdout",
          "text": [
            "Regression Coefficient (Slope): -0.6424242424242423\n",
            "\n",
            " Intercept: 136.21212121212122\n",
            "\n",
            " R-squared: 0.02182595182595204\n"
          ]
        }
      ]
    },
    {
      "cell_type": "markdown",
      "source": [
        "Finally, we will plot the data and the regression line."
      ],
      "metadata": {
        "id": "TmthDHjc5MdP"
      }
    },
    {
      "cell_type": "code",
      "source": [
        "plt.scatter(stress2_df[\"Stress Levels\"], stress2_df[\"Stroke Incidence\"], color='blue')\n",
        "plt.plot(stress2_df[\"Stress Levels\"], model.predict(X), color='red')\n",
        "plt.xlabel('Stress Levels')\n",
        "plt.ylabel('Stroke Incidence')\n",
        "plt.title('Stress Levels vs Stroke Incidence')\n",
        "plt.show()\n"
      ],
      "metadata": {
        "colab": {
          "base_uri": "https://localhost:8080/",
          "height": 472
        },
        "id": "7dtm7z4Z6epd",
        "outputId": "4bd85b7e-97d6-4aeb-c70f-199938c97732"
      },
      "execution_count": null,
      "outputs": [
        {
          "output_type": "display_data",
          "data": {
            "text/plain": [
              "<Figure size 640x480 with 1 Axes>"
            ],
            "image/png": "[encoded data removed]"
          },
          "metadata": {}
        }
      ]
    },
    {
      "cell_type": "markdown",
      "source": [
        "**Analysis of the Results**\n",
        "\n",
        "*   Regression Coefficient (Slope): -0.6424242424242423\n",
        "\n",
        "A negative coefficient suggests that as stress levels increase, stroke incidence tends to decrease slightly.\n",
        "\n",
        "*   Intercept: 136.21212121212122\n",
        "\n",
        "This is the expected stroke incidence when the stress level is 0.\n",
        "\n",
        "*   R_squared: 0.02182595182595204\n",
        "\n",
        "The R-squared value suggests that only about 2.2% of the variance in stroke incidence is explained by stress levels. This indicates a weak correlation."
      ],
      "metadata": {
        "id": "JNBj-Ckq9XYk"
      }
    },
    {
      "cell_type": "markdown",
      "source": [
        "# <h4>**2. Alcohol Intake vs Stroke Diagnosis**</h4>"
      ],
      "metadata": {
        "id": "Ucp2PpBb532H"
      }
    },
    {
      "cell_type": "code",
      "source": [
        "# Create a new dataframe\n",
        "alcohol_stroke_ml_data = young_adults[[\"Alcohol Intake\", \"Diagnosis\"]]\n",
        "\n",
        "# One-hot encode the alcohol intake status\n",
        "all_consumption_levels = alcohol_stroke_ml_data['Alcohol Intake'].str.get_dummies(sep=', ')\n",
        "alcohol_stroke_ml_data = pd.concat([alcohol_stroke_ml_data, all_consumption_levels], axis=1).drop(columns=['Alcohol Intake'])\n",
        "\n",
        "# Change the Stroke / No Stroke labels to 1 and 0\n",
        "alcohol_stroke_ml_data.replace({\"Stroke\":1, \"No Stroke\":0}, inplace=True)\n",
        "\n",
        "alcohol_model = DecisionTreeClassifier()\n",
        "\n",
        "X_alc = alcohol_stroke_ml_data.drop('Diagnosis', axis=1)\n",
        "Y_alc = alcohol_stroke_ml_data['Diagnosis']\n",
        "\n",
        "x_alc_train, x_alc_test, y_alc_train, y_alc_test = train_test_split(X_alc, Y_alc, test_size= 0.2, random_state = 42)\n",
        "\n",
        "alcohol_model.fit(x_alc_train, y_alc_train)\n",
        "\n",
        "# Evaluate the Performance\n",
        "predictions = alcohol_model.predict(x_alc_test)\n",
        "\n",
        "\n",
        "accuracy = accuracy_score(y_alc_test, predictions)\n",
        "\n",
        "print(f\"Accuracy of predictions using DecisionTree: {accuracy}\")\n",
        "print(classification_report(y_alc_test, predictions))\n",
        "\n",
        "print(\"The accuracy falls below 50%, meaning the model is performing worse than chance at predicting a stroke. \")\n",
        "print(\"This demonstrates that drinking patterns alone is not enough data for a model to predict a stroke\")"
      ],
      "metadata": {
        "colab": {
          "base_uri": "https://localhost:8080/"
        },
        "id": "fhD8iih5_ZL-",
        "outputId": "00e25c2f-fa9b-4e31-f00c-5e23d3f5a62d"
      },
      "execution_count": null,
      "outputs": [
        {
          "output_type": "stream",
          "name": "stdout",
          "text": [
            "Accuracy of predictions using DecisionTree: 0.4896810506566604\n",
            "              precision    recall  f1-score   support\n",
            "\n",
            "           0       0.49      0.49      0.49       267\n",
            "           1       0.49      0.49      0.49       266\n",
            "\n",
            "    accuracy                           0.49       533\n",
            "   macro avg       0.49      0.49      0.49       533\n",
            "weighted avg       0.49      0.49      0.49       533\n",
            "\n",
            "The accuracy falls below 50%, meaning the model is performing worse than chance at predicting a stroke. \n",
            "This demonstrates that drinking patterns alone is not enough data for a model to predict a stroke\n"
          ]
        }
      ]
    },
    {
      "cell_type": "markdown",
      "source": [
        "# <h4>**3. Smoking Status vs Stroke Diagnosis**</h4>"
      ],
      "metadata": {
        "id": "DscNS-e26FeN"
      }
    },
    {
      "cell_type": "markdown",
      "source": [
        "<p align = \"justify\"> We will use the Random Forest model to find the correlation between the Smoking Status and Stroke Diagnosis and how predictions can be made through the feature. As predicting how smoking impacts diagnosis is a binary classification using Random Forest for the purpose of ensembling is a good choice for the analysis. </p>"
      ],
      "metadata": {
        "id": "xb5zhlbJSfQK"
      }
    },
    {
      "cell_type": "markdown",
      "source": [
        "Step 1. Apply Feature Engineering to our dataset"
      ],
      "metadata": {
        "id": "YnGzYR5QWvEj"
      }
    },
    {
      "cell_type": "code",
      "source": [
        "# Feature : Smoking Status (categorical categories)\n",
        "print (young_adults['Smoking Status'].unique())\n",
        "# Label(prediction) : Diagnosis (categorical categories)\n",
        "print (young_adults['Diagnosis'].unique())\n",
        "\n",
        "#print(young_adults)\n",
        "# Create a Data frame for our model : add additional features (not including other factors) to prevent underfitting\n",
        "smoking_stroke_ml_df = young_adults[[\"Smoking Status\", \"Diagnosis\"]]\n",
        "\n",
        "\n",
        "# Convert the categorical values to numeric values\n",
        "def convert_status2 (status) :\n",
        "  if status == \"Non-smoker\" :\n",
        "    return 0\n",
        "  elif status == \"Formerly Smoked\" :\n",
        "    return 1\n",
        "  elif status == \"Currently Smokes\" :\n",
        "    return 2\n",
        "\n",
        "def convert_diagnosis2 (status) :\n",
        "  if status == \"No Stroke\" :\n",
        "    return 0\n",
        "  elif status == \"Stroke\" :\n",
        "    return 1\n",
        "\n",
        "\n",
        "smoking_stroke_ml_df.loc[:,\"Smoking Status\"] = smoking_stroke_ml_df[\"Smoking Status\"].apply(convert_status2)\n",
        "smoking_stroke_ml_df.loc[:,\"Diagnosis\"] = smoking_stroke_ml_df[\"Diagnosis\"].apply(convert_diagnosis2).astype(int)\n",
        "\n",
        "print(smoking_stroke_ml_df)\n",
        "\n",
        "print(smoking_stroke_ml_df['Diagnosis'].unique())\n",
        "print(smoking_stroke_ml_df['Smoking Status'].unique())\n",
        "\n"
      ],
      "metadata": {
        "colab": {
          "base_uri": "https://localhost:8080/"
        },
        "id": "vOeuTp5VUTAA",
        "outputId": "390d52af-fa3a-4e3d-886a-78f8aec77ca2"
      },
      "execution_count": null,
      "outputs": [
        {
          "output_type": "stream",
          "name": "stdout",
          "text": [
            "['Formerly Smoked' 'Non-smoker' 'Currently Smokes']\n",
            "['Stroke' 'No Stroke']\n",
            "      Smoking Status Diagnosis\n",
            "2                  1         1\n",
            "12                 1         1\n",
            "19                 0         1\n",
            "25                 2         1\n",
            "37                 1         1\n",
            "...              ...       ...\n",
            "14972              2         0\n",
            "14974              1         1\n",
            "14981              2         1\n",
            "14983              2         1\n",
            "14991              0         0\n",
            "\n",
            "[2662 rows x 2 columns]\n",
            "[1 0]\n",
            "[1 0 2]\n"
          ]
        }
      ]
    },
    {
      "cell_type": "markdown",
      "source": [
        "Step 2. Split the feature engineered data"
      ],
      "metadata": {
        "id": "jUUrs5dhaBC-"
      }
    },
    {
      "cell_type": "code",
      "source": [
        "# Split the Data to training and testing data with testing being  0.2\n",
        "X = smoking_stroke_ml_df[[\"Smoking Status\"]]\n",
        "y = smoking_stroke_ml_df['Diagnosis'] >= 1\n",
        "\n",
        "X_train, X_test, y_train, y_test = train_test_split(X, y, test_size= 0.2, random_state = 42)\n",
        "\n",
        "# Standardize the features\n",
        "scaler = StandardScaler()\n",
        "X_train = scaler.fit_transform(X_train)\n",
        "X_test = scaler.fit_transform(X_test)"
      ],
      "metadata": {
        "id": "UltdPP5lb38g"
      },
      "execution_count": null,
      "outputs": []
    },
    {
      "cell_type": "markdown",
      "source": [
        "Step 3. Train the training data using Random Forest Model"
      ],
      "metadata": {
        "id": "4R1ceXItaKyZ"
      }
    },
    {
      "cell_type": "code",
      "source": [
        "# Train the data using RandomForestClassifier -> ensembling\n",
        "smoking_model.fit(X_train, y_train)"
      ],
      "metadata": {
        "colab": {
          "base_uri": "https://localhost:8080/",
          "height": 75
        },
        "id": "QhHduL-LdbgT",
        "outputId": "72b8657c-26d7-4276-fb39-2e671fcaf8d4"
      },
      "execution_count": null,
      "outputs": [
        {
          "output_type": "execute_result",
          "data": {
            "text/plain": [
              "RandomForestClassifier()"
            ],
            "text/html": [
              "<style>#sk-container-id-24 {color: black;background-color: white;}#sk-container-id-24 pre{padding: 0;}#sk-container-id-24 div.sk-toggleable {background-color: white;}#sk-container-id-24 label.sk-toggleable__label {cursor: pointer;display: block;width: 100%;margin-bottom: 0;padding: 0.3em;box-sizing: border-box;text-align: center;}#sk-container-id-24 label.sk-toggleable__label-arrow:before {content: \"▸\";float: left;margin-right: 0.25em;color: #696969;}#sk-container-id-24 label.sk-toggleable__label-arrow:hover:before {color: black;}#sk-container-id-24 div.sk-estimator:hover label.sk-toggleable__label-arrow:before {color: black;}#sk-container-id-24 div.sk-toggleable__content {max-height: 0;max-width: 0;overflow: hidden;text-align: left;background-color: #f0f8ff;}#sk-container-id-24 div.sk-toggleable__content pre {margin: 0.2em;color: black;border-radius: 0.25em;background-color: #f0f8ff;}#sk-container-id-24 input.sk-toggleable__control:checked~div.sk-toggleable__content {max-height: 200px;max-width: 100%;overflow: auto;}#sk-container-id-24 input.sk-toggleable__control:checked~label.sk-toggleable__label-arrow:before {content: \"▾\";}#sk-container-id-24 div.sk-estimator input.sk-toggleable__control:checked~label.sk-toggleable__label {background-color: #d4ebff;}#sk-container-id-24 div.sk-label input.sk-toggleable__control:checked~label.sk-toggleable__label {background-color: #d4ebff;}#sk-container-id-24 input.sk-hidden--visually {border: 0;clip: rect(1px 1px 1px 1px);clip: rect(1px, 1px, 1px, 1px);height: 1px;margin: -1px;overflow: hidden;padding: 0;position: absolute;width: 1px;}#sk-container-id-24 div.sk-estimator {font-family: monospace;background-color: #f0f8ff;border: 1px dotted black;border-radius: 0.25em;box-sizing: border-box;margin-bottom: 0.5em;}#sk-container-id-24 div.sk-estimator:hover {background-color: #d4ebff;}#sk-container-id-24 div.sk-parallel-item::after {content: \"\";width: 100%;border-bottom: 1px solid gray;flex-grow: 1;}#sk-container-id-24 div.sk-label:hover label.sk-toggleable__label {background-color: #d4ebff;}#sk-container-id-24 div.sk-serial::before {content: \"\";position: absolute;border-left: 1px solid gray;box-sizing: border-box;top: 0;bottom: 0;left: 50%;z-index: 0;}#sk-container-id-24 div.sk-serial {display: flex;flex-direction: column;align-items: center;background-color: white;padding-right: 0.2em;padding-left: 0.2em;position: relative;}#sk-container-id-24 div.sk-item {position: relative;z-index: 1;}#sk-container-id-24 div.sk-parallel {display: flex;align-items: stretch;justify-content: center;background-color: white;position: relative;}#sk-container-id-24 div.sk-item::before, #sk-container-id-24 div.sk-parallel-item::before {content: \"\";position: absolute;border-left: 1px solid gray;box-sizing: border-box;top: 0;bottom: 0;left: 50%;z-index: -1;}#sk-container-id-24 div.sk-parallel-item {display: flex;flex-direction: column;z-index: 1;position: relative;background-color: white;}#sk-container-id-24 div.sk-parallel-item:first-child::after {align-self: flex-end;width: 50%;}#sk-container-id-24 div.sk-parallel-item:last-child::after {align-self: flex-start;width: 50%;}#sk-container-id-24 div.sk-parallel-item:only-child::after {width: 0;}#sk-container-id-24 div.sk-dashed-wrapped {border: 1px dashed gray;margin: 0 0.4em 0.5em 0.4em;box-sizing: border-box;padding-bottom: 0.4em;background-color: white;}#sk-container-id-24 div.sk-label label {font-family: monospace;font-weight: bold;display: inline-block;line-height: 1.2em;}#sk-container-id-24 div.sk-label-container {text-align: center;}#sk-container-id-24 div.sk-container {/* jupyter's `normalize.less` sets `[hidden] { display: none; }` but bootstrap.min.css set `[hidden] { display: none !important; }` so we also need the `!important` here to be able to override the default hidden behavior on the sphinx rendered scikit-learn.org. See: https://github.com/scikit-learn/scikit-learn/issues/21755 */display: inline-block !important;position: relative;}#sk-container-id-24 div.sk-text-repr-fallback {display: none;}</style><div id=\"sk-container-id-24\" class=\"sk-top-container\"><div class=\"sk-text-repr-fallback\"><pre>RandomForestClassifier()</pre><b>In a Jupyter environment, please rerun this cell to show the HTML representation or trust the notebook. <br />On GitHub, the HTML representation is unable to render, please try loading this page with nbviewer.org.</b></div><div class=\"sk-container\" hidden><div class=\"sk-item\"><div class=\"sk-estimator sk-toggleable\"><input class=\"sk-toggleable__control sk-hidden--visually\" id=\"sk-estimator-id-24\" type=\"checkbox\" checked><label for=\"sk-estimator-id-24\" class=\"sk-toggleable__label sk-toggleable__label-arrow\">RandomForestClassifier</label><div class=\"sk-toggleable__content\"><pre>RandomForestClassifier()</pre></div></div></div></div></div>"
            ]
          },
          "metadata": {},
          "execution_count": 616
        }
      ]
    },
    {
      "cell_type": "markdown",
      "source": [
        "Step 4. Evaluate the performance of the Model"
      ],
      "metadata": {
        "id": "j6Io_iD6a3O1"
      }
    },
    {
      "cell_type": "code",
      "source": [
        "# Evaluate the Performance\n",
        "predictions = smoking_model.predict(X_test)\n",
        "\n",
        "accuracy = accuracy_score(y_test, predictions)\n",
        "\n",
        "print(f\"Accuracy of prediction: {accuracy}\")\n",
        "print(classification_report(y_test, predictions))\n",
        "\n",
        "print(\"The accuracy of this model is not overall ideal\")"
      ],
      "metadata": {
        "colab": {
          "base_uri": "https://localhost:8080/"
        },
        "id": "HiMs0LSzodKq",
        "outputId": "81114e82-7412-4130-94db-e28221e03601"
      },
      "execution_count": null,
      "outputs": [
        {
          "output_type": "stream",
          "name": "stdout",
          "text": [
            "Accuracy of prediction: 0.4521575984990619\n",
            "              precision    recall  f1-score   support\n",
            "\n",
            "       False       0.47      0.66      0.55       267\n",
            "        True       0.42      0.24      0.31       266\n",
            "\n",
            "    accuracy                           0.45       533\n",
            "   macro avg       0.44      0.45      0.43       533\n",
            "weighted avg       0.44      0.45      0.43       533\n",
            "\n",
            "The accuracy of this model is not overall ideal\n"
          ]
        }
      ]
    },
    {
      "cell_type": "markdown",
      "source": [
        "This model does not perform well in distinguishing the diagnosis of stroke.\n",
        "Accuracy scores are near 0.5 meaning that its performance is similar to random guessing. Looking at the f1-score for both classes is low indicating that we need further investigation on why this is happening."
      ],
      "metadata": {
        "id": "QqOT7POc4twe"
      }
    },
    {
      "cell_type": "markdown",
      "source": [
        "Step 5. Show the confusion matrix to visualize the performance of the model."
      ],
      "metadata": {
        "id": "VpQ9_-1ys9El"
      }
    },
    {
      "cell_type": "code",
      "source": [
        "# Use the confusion matrix to visualize the positives (true false) and negatives (true false)\n",
        "smoking_conf_matrix = confusion_matrix(y_test, predictions)\n",
        "\n",
        "plt.figure(figsize=(12, 6))\n",
        "plt.xlabel('Prediction')\n",
        "plt.ylabel('Actual')\n",
        "plt.title('Confusion Matrix')\n",
        "seas.heatmap(smoking_conf_matrix, annot=True, fmt=\"d\", xticklabels=[\"No Stroke\", \"Stroke\"], yticklabels=[\"No Stroke\", \"Stroke\"])\n",
        "plt.show()"
      ],
      "metadata": {
        "colab": {
          "base_uri": "https://localhost:8080/",
          "height": 439
        },
        "id": "TFRgZVSptilI",
        "outputId": "57694687-5131-49ab-8ead-4a0f26b3e1d6"
      },
      "execution_count": null,
      "outputs": [
        {
          "output_type": "display_data",
          "data": {
            "text/plain": [
              "<Figure size 1200x600 with 2 Axes>"
            ],
            "image/png": "[encoded data removed]"
          },
          "metadata": {}
        }
      ]
    },
    {
      "cell_type": "markdown",
      "source": [
        "Step 6. Visualize the Correlation Matrix"
      ],
      "metadata": {
        "id": "JKVa5Fy8bAHy"
      }
    },
    {
      "cell_type": "code",
      "source": [
        "# Use the correlation matrix to comprehend why the model resulted in having poor performance\n",
        "smoking_corr_matrix = smoking_stroke_ml_df.corr()\n",
        "\n",
        "plt.figure(figsize = (12,6))\n",
        "plt.title('Correlation Matrix')\n",
        "seas.heatmap(smoking_corr_matrix, annot = True, fmt = '.4f', linewidths = 0.5)\n",
        "plt.show()"
      ],
      "metadata": {
        "colab": {
          "base_uri": "https://localhost:8080/",
          "height": 441
        },
        "id": "oIAykQ24qtMy",
        "outputId": "7512f461-811e-47ad-ade9-82e01ef4ccb2"
      },
      "execution_count": null,
      "outputs": [
        {
          "output_type": "display_data",
          "data": {
            "text/plain": [
              "<Figure size 1200x600 with 2 Axes>"
            ],
            "image/png": "[encoded data removed]"
          },
          "metadata": {}
        }
      ]
    },
    {
      "cell_type": "markdown",
      "source": [
        "The reason for the poor performance of the machine learning model is that the correlation coefficient is close to 0 for smoking status and diagnosis of stroke which means that these two variables are not related linearly. Additionally, Thus, we can imply that the status of smoking itself is not enough to predict stroke.\n",
        "\n"
      ],
      "metadata": {
        "id": "dpXt8CTVvyrq"
      }
    },
    {
      "cell_type": "markdown",
      "source": [
        "# <h4>**4. Average Glucose Level vs Stroke Diagnosis**</h4>"
      ],
      "metadata": {
        "id": "yWPkU_BjpT35"
      }
    },
    {
      "cell_type": "markdown",
      "source": [
        "1. Let us display our data table again."
      ],
      "metadata": {
        "id": "JEEIUBpwq7nZ"
      }
    },
    {
      "cell_type": "code",
      "source": [
        "print(young_adults)"
      ],
      "metadata": {
        "id": "ZEuW45V5rU07",
        "colab": {
          "base_uri": "https://localhost:8080/"
        },
        "outputId": "2b1071e3-83c3-4b65-f70a-6b8256b6ba4d"
      },
      "execution_count": null,
      "outputs": [
        {
          "output_type": "stream",
          "name": "stdout",
          "text": [
            "       Patient ID     Patient Name  Age  Gender  Hypertension  Heart Disease  \\\n",
            "2           32145    Dhanush Balan   26    Male             1              1   \n",
            "12          66924     Ahana  Lalla   30  Female             0              1   \n",
            "19          23954     Taran Khatri   25    Male             0              0   \n",
            "25          36975      Jhanvi Brar   24  Female             0              0   \n",
            "37          94512       Anvi Salvi   23  Female             0              0   \n",
            "...           ...              ...  ...     ...           ...            ...   \n",
            "14972       11839    Chirag Kurian   30    Male             0              1   \n",
            "14974       30150  Alisha Banerjee   20  Female             0              0   \n",
            "14981       12323        Pari Ravi   25    Male             0              0   \n",
            "14983       40381        Sana Goel   18  Female             0              0   \n",
            "14991       90658      Samaira Raj   26    Male             0              1   \n",
            "\n",
            "      Marital Status       Work Type Residence Type  Average Glucose Level  \\\n",
            "2            Married    Never Worked          Rural                 189.00   \n",
            "12          Divorced  Government Job          Urban                 163.15   \n",
            "19           Married         Private          Urban                  71.38   \n",
            "25           Married   Self-employed          Urban                  79.89   \n",
            "37            Single  Government Job          Rural                 164.72   \n",
            "...              ...             ...            ...                    ...   \n",
            "14972        Married   Self-employed          Rural                 126.94   \n",
            "14974       Divorced    Never Worked          Rural                 101.36   \n",
            "14981         Single         Private          Rural                  77.64   \n",
            "14983         Single   Self-employed          Urban                  68.26   \n",
            "14991        Married   Self-employed          Rural                 145.05   \n",
            "\n",
            "       ...  Stroke History Family History of Stroke  Dietary Habits  \\\n",
            "2      ...               0                      Yes           Paleo   \n",
            "12     ...               0                      Yes  Non-Vegetarian   \n",
            "19     ...               0                      Yes     Gluten-Free   \n",
            "25     ...               1                       No      Vegetarian   \n",
            "37     ...               1                      Yes     Gluten-Free   \n",
            "...    ...             ...                      ...             ...   \n",
            "14972  ...               0                       No     Pescatarian   \n",
            "14974  ...               0                      Yes     Pescatarian   \n",
            "14981  ...               0                      Yes           Paleo   \n",
            "14983  ...               1                       No      Vegetarian   \n",
            "14991  ...               1                       No     Pescatarian   \n",
            "\n",
            "      Stress Levels  Blood Pressure Levels Cholesterol Levels  \\\n",
            "2              7.31                 154/97   HDL: 59, LDL: 95   \n",
            "12             9.19                 114/67   HDL: 80, LDL: 83   \n",
            "19             0.46                 170/64  HDL: 72, LDL: 174   \n",
            "25             6.48                 151/65  HDL: 73, LDL: 111   \n",
            "37             7.86                 148/74   HDL: 30, LDL: 62   \n",
            "...             ...                    ...                ...   \n",
            "14972          9.51                 113/65  HDL: 55, LDL: 179   \n",
            "14974          2.26                 159/94   HDL: 42, LDL: 99   \n",
            "14981          2.69                 135/66  HDL: 58, LDL: 161   \n",
            "14983          6.79                 136/66  HDL: 59, LDL: 172   \n",
            "14991          0.71                180/110   HDL: 33, LDL: 99   \n",
            "\n",
            "                                                Symptoms  Diagnosis  \\\n",
            "2                                    Seizures, Dizziness     Stroke   \n",
            "12                             Loss of Balance, Numbness     Stroke   \n",
            "19                                              Seizures     Stroke   \n",
            "25     Numbness, Loss of Balance, Numbness, Blurred V...     Stroke   \n",
            "37                    Blurred Vision, Seizures, Weakness     Stroke   \n",
            "...                                                  ...        ...   \n",
            "14972                                                NaN  No Stroke   \n",
            "14974                           Seizures, Severe Fatigue     Stroke   \n",
            "14981  Blurred Vision, Headache, Severe Fatigue, Loss...     Stroke   \n",
            "14983  Severe Fatigue, Severe Fatigue, Headache, Seiz...     Stroke   \n",
            "14991                               Confusion, Confusion  No Stroke   \n",
            "\n",
            "      New Stress Levels      Category  \n",
            "2                   7-8      Diabetic  \n",
            "12                 9-10      Diabetic  \n",
            "19                  0-1        Normal  \n",
            "25                  6-7        Normal  \n",
            "37                  7-8      Diabetic  \n",
            "...                 ...           ...  \n",
            "14972              9-10  Pre-diabetic  \n",
            "14974               2-3        Normal  \n",
            "14981               2-3        Normal  \n",
            "14983               6-7        Normal  \n",
            "14991               0-1      Diabetic  \n",
            "\n",
            "[2662 rows x 24 columns]\n"
          ]
        }
      ]
    },
    {
      "cell_type": "markdown",
      "source": [
        "2. Here, we will complete some feature engineering.\n",
        "\n",
        "Looking at the above data, we can see that glucose levels are continuous variables. Continuous variables are those that can take on an infinite number of values within a given range. In this case, glucose levels can vary continuously over a spectrum of values, rather than being limited to specific categories or discrete numbers. Therefore, it is suitable to classify glucose levels as continuous values for the purpose of regression analysis. This classification will allow us to model the relationship between glucose levels and stroke occurrence using logistic regression, which is ideal for analyzing the impact of one continuous variable on a binary dependent variable.\n",
        "\n",
        "We will convert the provided data into a suitable format for logistic regression analysis by creating a dataset with glucose levels and stroke occurrences. The independent variable (predictor) will be the glucose levels, and the dependent variable (response) will be stroke occurrence, coded as 0 for no stroke and 1 for stroke. This will enable us to analyze how changes in glucose levels influence the likelihood of experiencing a stroke."
      ],
      "metadata": {
        "id": "8iKrQau5rWtZ"
      }
    },
    {
      "cell_type": "code",
      "source": [
        "glucose_ml_df = young_adults[[\"Age\", \"Average Glucose Level\", \"Diagnosis\"]]\n",
        "\n",
        "def stroke_conversion (status) :\n",
        "  if status == \"No Stroke\" :\n",
        "    return 0\n",
        "  elif status == \"Stroke\" :\n",
        "    return 1\n",
        "\n",
        "glucose_ml_df.loc[:,\"Diagnosis\"] = glucose_ml_df[\"Diagnosis\"].apply(stroke_conversion).astype(int)\n",
        "\n",
        "print(glucose_ml_df)"
      ],
      "metadata": {
        "colab": {
          "base_uri": "https://localhost:8080/"
        },
        "id": "l0Rr03gL20f_",
        "outputId": "f01e160a-a6df-42bc-e20f-88b8eace7cd3"
      },
      "execution_count": null,
      "outputs": [
        {
          "output_type": "stream",
          "name": "stdout",
          "text": [
            "       Age  Average Glucose Level Diagnosis\n",
            "2       26                 189.00         1\n",
            "12      30                 163.15         1\n",
            "19      25                  71.38         1\n",
            "25      24                  79.89         1\n",
            "37      23                 164.72         1\n",
            "...    ...                    ...       ...\n",
            "14972   30                 126.94         0\n",
            "14974   20                 101.36         1\n",
            "14981   25                  77.64         1\n",
            "14983   18                  68.26         1\n",
            "14991   26                 145.05         0\n",
            "\n",
            "[2662 rows x 3 columns]\n"
          ]
        }
      ]
    },
    {
      "cell_type": "markdown",
      "source": [
        "3. Next, we will now split the data into training and testing sets."
      ],
      "metadata": {
        "id": "TbZ4l8EX4gQD"
      }
    },
    {
      "cell_type": "code",
      "source": [
        "Xg = glucose_ml_df[['Average Glucose Level', 'Age']]\n",
        "Yg = glucose_ml_df['Diagnosis'] >= 1\n",
        "\n",
        "Xg_train, Xg_test, Yg_train, Yg_test = train_test_split(Xg, Yg, test_size= 0.2, random_state = 42)\n",
        "\n",
        "scaler = StandardScaler()\n",
        "Xg_train = scaler.fit_transform(Xg_train)\n",
        "Xg_test = scaler.fit_transform(Xg_test)"
      ],
      "metadata": {
        "id": "jNzqhYC14qNC"
      },
      "execution_count": null,
      "outputs": []
    },
    {
      "cell_type": "markdown",
      "source": [
        "4. After splitting the dataset, we can now train our Logistic Regression Model."
      ],
      "metadata": {
        "id": "KdbTgHg149dU"
      }
    },
    {
      "cell_type": "code",
      "source": [
        "glucose_ml_model = LogisticRegression()\n",
        "glucose_ml_model.fit(Xg_train, Yg_train)"
      ],
      "metadata": {
        "colab": {
          "base_uri": "https://localhost:8080/",
          "height": 75
        },
        "id": "BjoZBn0s5H3o",
        "outputId": "590f897d-1a7c-43a6-d70e-1f97d16ea549"
      },
      "execution_count": null,
      "outputs": [
        {
          "output_type": "execute_result",
          "data": {
            "text/plain": [
              "LogisticRegression()"
            ],
            "text/html": [
              "<style>#sk-container-id-25 {color: black;background-color: white;}#sk-container-id-25 pre{padding: 0;}#sk-container-id-25 div.sk-toggleable {background-color: white;}#sk-container-id-25 label.sk-toggleable__label {cursor: pointer;display: block;width: 100%;margin-bottom: 0;padding: 0.3em;box-sizing: border-box;text-align: center;}#sk-container-id-25 label.sk-toggleable__label-arrow:before {content: \"▸\";float: left;margin-right: 0.25em;color: #696969;}#sk-container-id-25 label.sk-toggleable__label-arrow:hover:before {color: black;}#sk-container-id-25 div.sk-estimator:hover label.sk-toggleable__label-arrow:before {color: black;}#sk-container-id-25 div.sk-toggleable__content {max-height: 0;max-width: 0;overflow: hidden;text-align: left;background-color: #f0f8ff;}#sk-container-id-25 div.sk-toggleable__content pre {margin: 0.2em;color: black;border-radius: 0.25em;background-color: #f0f8ff;}#sk-container-id-25 input.sk-toggleable__control:checked~div.sk-toggleable__content {max-height: 200px;max-width: 100%;overflow: auto;}#sk-container-id-25 input.sk-toggleable__control:checked~label.sk-toggleable__label-arrow:before {content: \"▾\";}#sk-container-id-25 div.sk-estimator input.sk-toggleable__control:checked~label.sk-toggleable__label {background-color: #d4ebff;}#sk-container-id-25 div.sk-label input.sk-toggleable__control:checked~label.sk-toggleable__label {background-color: #d4ebff;}#sk-container-id-25 input.sk-hidden--visually {border: 0;clip: rect(1px 1px 1px 1px);clip: rect(1px, 1px, 1px, 1px);height: 1px;margin: -1px;overflow: hidden;padding: 0;position: absolute;width: 1px;}#sk-container-id-25 div.sk-estimator {font-family: monospace;background-color: #f0f8ff;border: 1px dotted black;border-radius: 0.25em;box-sizing: border-box;margin-bottom: 0.5em;}#sk-container-id-25 div.sk-estimator:hover {background-color: #d4ebff;}#sk-container-id-25 div.sk-parallel-item::after {content: \"\";width: 100%;border-bottom: 1px solid gray;flex-grow: 1;}#sk-container-id-25 div.sk-label:hover label.sk-toggleable__label {background-color: #d4ebff;}#sk-container-id-25 div.sk-serial::before {content: \"\";position: absolute;border-left: 1px solid gray;box-sizing: border-box;top: 0;bottom: 0;left: 50%;z-index: 0;}#sk-container-id-25 div.sk-serial {display: flex;flex-direction: column;align-items: center;background-color: white;padding-right: 0.2em;padding-left: 0.2em;position: relative;}#sk-container-id-25 div.sk-item {position: relative;z-index: 1;}#sk-container-id-25 div.sk-parallel {display: flex;align-items: stretch;justify-content: center;background-color: white;position: relative;}#sk-container-id-25 div.sk-item::before, #sk-container-id-25 div.sk-parallel-item::before {content: \"\";position: absolute;border-left: 1px solid gray;box-sizing: border-box;top: 0;bottom: 0;left: 50%;z-index: -1;}#sk-container-id-25 div.sk-parallel-item {display: flex;flex-direction: column;z-index: 1;position: relative;background-color: white;}#sk-container-id-25 div.sk-parallel-item:first-child::after {align-self: flex-end;width: 50%;}#sk-container-id-25 div.sk-parallel-item:last-child::after {align-self: flex-start;width: 50%;}#sk-container-id-25 div.sk-parallel-item:only-child::after {width: 0;}#sk-container-id-25 div.sk-dashed-wrapped {border: 1px dashed gray;margin: 0 0.4em 0.5em 0.4em;box-sizing: border-box;padding-bottom: 0.4em;background-color: white;}#sk-container-id-25 div.sk-label label {font-family: monospace;font-weight: bold;display: inline-block;line-height: 1.2em;}#sk-container-id-25 div.sk-label-container {text-align: center;}#sk-container-id-25 div.sk-container {/* jupyter's `normalize.less` sets `[hidden] { display: none; }` but bootstrap.min.css set `[hidden] { display: none !important; }` so we also need the `!important` here to be able to override the default hidden behavior on the sphinx rendered scikit-learn.org. See: https://github.com/scikit-learn/scikit-learn/issues/21755 */display: inline-block !important;position: relative;}#sk-container-id-25 div.sk-text-repr-fallback {display: none;}</style><div id=\"sk-container-id-25\" class=\"sk-top-container\"><div class=\"sk-text-repr-fallback\"><pre>LogisticRegression()</pre><b>In a Jupyter environment, please rerun this cell to show the HTML representation or trust the notebook. <br />On GitHub, the HTML representation is unable to render, please try loading this page with nbviewer.org.</b></div><div class=\"sk-container\" hidden><div class=\"sk-item\"><div class=\"sk-estimator sk-toggleable\"><input class=\"sk-toggleable__control sk-hidden--visually\" id=\"sk-estimator-id-25\" type=\"checkbox\" checked><label for=\"sk-estimator-id-25\" class=\"sk-toggleable__label sk-toggleable__label-arrow\">LogisticRegression</label><div class=\"sk-toggleable__content\"><pre>LogisticRegression()</pre></div></div></div></div></div>"
            ]
          },
          "metadata": {},
          "execution_count": 623
        }
      ]
    },
    {
      "cell_type": "markdown",
      "source": [
        "5. Now, we can assess the model's performance in relation to our potential risk factor and stroke occurrence."
      ],
      "metadata": {
        "id": "zAOXFJTX5m0X"
      }
    },
    {
      "cell_type": "code",
      "source": [
        "pred_g = glucose_ml_model.predict(Xg_test)\n",
        "accu_g = accuracy_score(Yg_test, pred_g)\n",
        "\n",
        "print(classification_report(Yg_test, pred_g))\n",
        "print(f\"Accuracy Score: {accu_g}\")"
      ],
      "metadata": {
        "colab": {
          "base_uri": "https://localhost:8080/"
        },
        "id": "dYZlUZE25791",
        "outputId": "5169b0b2-b47b-4129-d4ea-7612f648edee"
      },
      "execution_count": null,
      "outputs": [
        {
          "output_type": "stream",
          "name": "stdout",
          "text": [
            "              precision    recall  f1-score   support\n",
            "\n",
            "       False       0.52      0.52      0.52       267\n",
            "        True       0.52      0.53      0.52       266\n",
            "\n",
            "    accuracy                           0.52       533\n",
            "   macro avg       0.52      0.52      0.52       533\n",
            "weighted avg       0.52      0.52      0.52       533\n",
            "\n",
            "Accuracy Score: 0.5215759849906192\n"
          ]
        }
      ]
    },
    {
      "cell_type": "markdown",
      "source": [
        "6. Finally, to illustrate the model's performance, we will display the confusion matrix."
      ],
      "metadata": {
        "id": "v5EepKU97FT9"
      }
    },
    {
      "cell_type": "code",
      "source": [
        "glucose_confusion_matrix = confusion_matrix(Yg_test, pred_g)\n",
        "\n",
        "plt.figure(figsize=(12, 6))\n",
        "plt.xlabel('Prediction')\n",
        "plt.ylabel('Actual')\n",
        "plt.title('Confusion Matrix for Logisitic Regression Model on Average Glucose Levels vs Stroke Occurrence')\n",
        "seas.heatmap(glucose_confusion_matrix, annot=True, fmt=\"d\", xticklabels=[\"No Stroke\", \"Stroke\"], yticklabels=[\"No Stroke\", \"Stroke\"])\n",
        "plt.show()"
      ],
      "metadata": {
        "colab": {
          "base_uri": "https://localhost:8080/",
          "height": 436
        },
        "id": "yU0hfBVA7Ev-",
        "outputId": "954cd52f-78cb-4f75-ed31-c73d8548eee3"
      },
      "execution_count": null,
      "outputs": [
        {
          "output_type": "display_data",
          "data": {
            "text/plain": [
              "<Figure size 1200x600 with 2 Axes>"
            ],
            "image/png": "[encoded data removed]"
          },
          "metadata": {}
        }
      ]
    },
    {
      "cell_type": "markdown",
      "source": [
        "7. Finally, we can evaluate the results of our model and provide some conclusions.\n",
        "\n",
        "Given an accuracy of approximately 0.522 (52.2%), the precision, recall, and F1-score for both classes (False and True) are very similar, indicating that the model performs equally well (or equally poorly) across both classes. Here are the main takeaways from evaluating these results: For precision, the model correctly identifies about 52% of instances for both classes out of all instances it predicts as such. For recall, the model correctly identifies about 52% of instances for False (no stroke) and 53% for True (stroke) out of all actual instances of each class. And for the F1-Score, this harmonic mean suggests a balance between precision and recall, with the model showing consistent performance across both classes.\n",
        "\n",
        "The logistic regression model appears to have limited biased power based on blood glucose levels alone, as indicated by the similar performance metrics across both classes (False and True). This could imply that blood glucose levels alone might not be sufficiently predictive of stroke occurrence, or additional features or model improvements might be necessary to achieve higher accuracy and differentiation between the classes.\n"
      ],
      "metadata": {
        "id": "ASmvRkDU_v25"
      }
    },
    {
      "cell_type": "markdown",
      "source": [
        "# <h4>**5. Main Dataset Analysis Using KNN, Decision Tree, Logistic Regression and Random Forest**</h4>"
      ],
      "metadata": {
        "id": "rdxewg5E1Ye3"
      }
    },
    {
      "cell_type": "markdown",
      "source": [
        "Our analysis of the main demonstrated that we could not find a correlation between stroke diagnosis and individual health factors. However, we can use the same data to understand if the individual factors can be considered together to predict the occurence of a stroke. To do so, we can use four ML models to compare the features and generate predictions."
      ],
      "metadata": {
        "id": "8sqbaaaz1e98"
      }
    },
    {
      "cell_type": "code",
      "source": [
        "# Begin with the young_adults dataset\n",
        "# We don't need the patient names or IDs for the analysis, so we can remove those\n",
        "main_dataset = young_adults.copy()\n",
        "main_dataset = main_dataset.drop(['Patient Name', 'Patient ID'], axis=1)\n",
        "# In our earlier analysis, we reformatted the Stress Levels into discrete ranges\n",
        "# For this, we can use the raw stress levels instead\n",
        "main_dataset = main_dataset.drop(['New Stress Levels'], axis=1)\n",
        "\n",
        "# We also do not need the diabetes category, so we can drop this as well\n",
        "main_dataset = main_dataset.drop(['Category'], axis=1)\n",
        "\n",
        "\n",
        "# To aid the analysis, we can split Cholesterol Levels into HDL and LDL levels\n",
        "main_dataset[['Cholesterol Levels HDL', 'Cholesterol Levels LDL']] = main_dataset['Cholesterol Levels'].str.split(',', expand=True)\n",
        "main_dataset = main_dataset.drop(['Cholesterol Levels'], axis=1)\n",
        "\n",
        "# To make sure the values are treated as numbers, we can remove the \"HDL: \" and \"LDL: \" text\n",
        "# and convert the columns to numerical values\n",
        "main_dataset['Cholesterol Levels HDL'] = main_dataset['Cholesterol Levels HDL'].apply(lambda x: int(x[4:]))\n",
        "main_dataset['Cholesterol Levels LDL'] = main_dataset['Cholesterol Levels LDL'].apply(lambda x: int(x[5:]))\n",
        "\n",
        "# Next, to treat blood pressure levels as numbers, we can split it into the systolic and diastolic numbers\n",
        "main_dataset[['Blood Pressure Systolic', 'Blood Pressure Diastolic']] = main_dataset['Blood Pressure Levels'].str.split('/', expand=True)\n",
        "main_dataset = main_dataset.drop(['Blood Pressure Levels'], axis=1)\n",
        "main_dataset['Blood Pressure Systolic'] = main_dataset['Blood Pressure Systolic'].apply(lambda x: int(x))\n",
        "main_dataset['Blood Pressure Diastolic'] = main_dataset['Blood Pressure Diastolic'].apply(lambda x: int(x))\n",
        "\n",
        "\n",
        "# To consider the impact of individual symptoms, we must one-hot encode the symptoms.\n",
        "# To do so, we can split the Symptoms column into distinct symptoms, then run an encoder\n",
        "all_symptoms = main_dataset['Symptoms'].str.get_dummies(sep=', ')\n",
        "main_dataset = pd.concat([main_dataset, all_symptoms], axis=1).drop(columns=['Symptoms'])\n",
        "\n",
        "# Finally, to feed our data to the random forest model, we must one-hot encode our remaining categorical variables\n",
        "# Sex of the patient:\n",
        "genders = main_dataset['Gender'].str.get_dummies()\n",
        "main_dataset = pd.concat([main_dataset, genders], axis=1).drop(columns=['Gender'])\n",
        "\n",
        "# Marital Status\n",
        "marital_statuses = main_dataset['Marital Status'].str.get_dummies()\n",
        "main_dataset = pd.concat([main_dataset, marital_statuses], axis=1).drop(columns=['Marital Status'])\n",
        "\n",
        "# Work Type\n",
        "work_types = main_dataset['Work Type'].str.get_dummies()\n",
        "main_dataset = pd.concat([main_dataset, work_types], axis=1).drop(columns=['Work Type'])\n",
        "\n",
        "# Residence Type\n",
        "residence_types = main_dataset['Residence Type'].str.get_dummies()\n",
        "main_dataset = pd.concat([main_dataset, residence_types], axis=1).drop(columns=['Residence Type'])\n",
        "\n",
        "# Smoking Statuses\n",
        "smoking_statuses = main_dataset['Smoking Status'].str.get_dummies()\n",
        "main_dataset = pd.concat([main_dataset, smoking_statuses], axis=1).drop(columns=['Smoking Status'])\n",
        "\n",
        "# Alcohol Intakes\n",
        "alcohol_intakes = main_dataset['Alcohol Intake'].str.get_dummies()\n",
        "main_dataset = pd.concat([main_dataset, alcohol_intakes], axis=1).drop(columns=['Alcohol Intake'])\n",
        "\n",
        "# Dietary Habits\n",
        "diets = main_dataset['Dietary Habits'].str.get_dummies()\n",
        "main_dataset = pd.concat([main_dataset, diets], axis=1).drop(columns=['Dietary Habits'])\n",
        "\n",
        "# Physical Activity\n",
        "physical_activity_levels = main_dataset['Physical Activity'].str.get_dummies()\n",
        "main_dataset = pd.concat([main_dataset, physical_activity_levels], axis=1).drop(columns=['Physical Activity'])\n",
        "# Change column names to be more specific\n",
        "main_dataset = main_dataset.rename(columns={\"High\": \"High Physical Activity\", \"Low\": \"Low Physical Activity\", \"Moderate\":\"Moderate Physical Activity\"})\n",
        "\n",
        "# Family History of Stroke - replace Yes with 1 and No with 0\n",
        "main_dataset['Family History of Stroke'].replace({'Yes': 1, 'No': 0}, inplace=True)\n",
        "\n",
        "# Final cleaning to treat numerical values as integers/floats\n",
        "main_dataset['Age'] = main_dataset['Age'].apply(lambda x: int(x))\n",
        "main_dataset['Average Glucose Level'] = main_dataset['Average Glucose Level'].apply(lambda x: float(x))\n",
        "main_dataset['Body Mass Index (BMI)'] = main_dataset['Body Mass Index (BMI)'].apply(lambda x: float(x))\n",
        "main_dataset['Stress Levels'] = main_dataset['Stress Levels'].apply(lambda x: float(x))\n",
        "\n",
        "#main_dataset.columns\n",
        "main_dataset"
      ],
      "metadata": {
        "id": "dM9yvMWi01ei",
        "colab": {
          "base_uri": "https://localhost:8080/",
          "height": 496
        },
        "outputId": "67011ba4-00cd-4cf6-b596-dcb68f27821a"
      },
      "execution_count": null,
      "outputs": [
        {
          "output_type": "execute_result",
          "data": {
            "text/plain": [
              "       Age  Hypertension  Heart Disease  Average Glucose Level  \\\n",
              "2       26             1              1                 189.00   \n",
              "12      30             0              1                 163.15   \n",
              "19      25             0              0                  71.38   \n",
              "25      24             0              0                  79.89   \n",
              "37      23             0              0                 164.72   \n",
              "...    ...           ...            ...                    ...   \n",
              "14972   30             0              1                 126.94   \n",
              "14974   20             0              0                 101.36   \n",
              "14981   25             0              0                  77.64   \n",
              "14983   18             0              0                  68.26   \n",
              "14991   26             0              1                 145.05   \n",
              "\n",
              "       Body Mass Index (BMI)  Stroke History  Family History of Stroke  \\\n",
              "2                      20.32               0                         1   \n",
              "12                     19.36               0                         1   \n",
              "19                     39.00               0                         1   \n",
              "25                     17.58               1                         0   \n",
              "37                     31.56               1                         1   \n",
              "...                      ...             ...                       ...   \n",
              "14972                  36.08               0                         0   \n",
              "14974                  21.15               0                         1   \n",
              "14981                  23.88               0                         1   \n",
              "14983                  36.48               1                         0   \n",
              "14991                  35.94               1                         0   \n",
              "\n",
              "       Stress Levels  Diagnosis  Cholesterol Levels HDL  ...  Gluten-Free  \\\n",
              "2               7.31     Stroke                      59  ...            0   \n",
              "12              9.19     Stroke                      80  ...            0   \n",
              "19              0.46     Stroke                      72  ...            1   \n",
              "25              6.48     Stroke                      73  ...            0   \n",
              "37              7.86     Stroke                      30  ...            1   \n",
              "...              ...        ...                     ...  ...          ...   \n",
              "14972           9.51  No Stroke                      55  ...            0   \n",
              "14974           2.26     Stroke                      42  ...            0   \n",
              "14981           2.69     Stroke                      58  ...            0   \n",
              "14983           6.79     Stroke                      59  ...            0   \n",
              "14991           0.71  No Stroke                      33  ...            0   \n",
              "\n",
              "       Keto  Non-Vegetarian  Paleo  Pescatarian  Vegan  Vegetarian  \\\n",
              "2         0               0      1            0      0           0   \n",
              "12        0               1      0            0      0           0   \n",
              "19        0               0      0            0      0           0   \n",
              "25        0               0      0            0      0           1   \n",
              "37        0               0      0            0      0           0   \n",
              "...     ...             ...    ...          ...    ...         ...   \n",
              "14972     0               0      0            1      0           0   \n",
              "14974     0               0      0            1      0           0   \n",
              "14981     0               0      1            0      0           0   \n",
              "14983     0               0      0            0      0           1   \n",
              "14991     0               0      0            1      0           0   \n",
              "\n",
              "       High Physical Activity  Low Physical Activity  \\\n",
              "2                           1                      0   \n",
              "12                          0                      0   \n",
              "19                          0                      0   \n",
              "25                          1                      0   \n",
              "37                          0                      1   \n",
              "...                       ...                    ...   \n",
              "14972                       0                      0   \n",
              "14974                       1                      0   \n",
              "14981                       0                      1   \n",
              "14983                       0                      0   \n",
              "14991                       0                      1   \n",
              "\n",
              "       Moderate Physical Activity  \n",
              "2                               0  \n",
              "12                              1  \n",
              "19                              1  \n",
              "25                              0  \n",
              "37                              0  \n",
              "...                           ...  \n",
              "14972                           1  \n",
              "14974                           0  \n",
              "14981                           0  \n",
              "14983                           1  \n",
              "14991                           0  \n",
              "\n",
              "[2662 rows x 51 columns]"
            ],
            "text/html": [
              "\n",
              "  <div id=\"df-f8120b0a-297a-4473-b775-721bb1e03fa1\" class=\"colab-df-container\">\n",
              "    <div>\n",
              "<style scoped>\n",
              "    .dataframe tbody tr th:only-of-type {\n",
              "        vertical-align: middle;\n",
              "    }\n",
              "\n",
              "    .dataframe tbody tr th {\n",
              "        vertical-align: top;\n",
              "    }\n",
              "\n",
              "    .dataframe thead th {\n",
              "        text-align: right;\n",
              "    }\n",
              "</style>\n",
              "<table border=\"1\" class=\"dataframe\">\n",
              "  <thead>\n",
              "    <tr style=\"text-align: right;\">\n",
              "      <th></th>\n",
              "      <th>Age</th>\n",
              "      <th>Hypertension</th>\n",
              "      <th>Heart Disease</th>\n",
              "      <th>Average Glucose Level</th>\n",
              "      <th>Body Mass Index (BMI)</th>\n",
              "      <th>Stroke History</th>\n",
              "      <th>Family History of Stroke</th>\n",
              "      <th>Stress Levels</th>\n",
              "      <th>Diagnosis</th>\n",
              "      <th>Cholesterol Levels HDL</th>\n",
              "      <th>...</th>\n",
              "      <th>Gluten-Free</th>\n",
              "      <th>Keto</th>\n",
              "      <th>Non-Vegetarian</th>\n",
              "      <th>Paleo</th>\n",
              "      <th>Pescatarian</th>\n",
              "      <th>Vegan</th>\n",
              "      <th>Vegetarian</th>\n",
              "      <th>High Physical Activity</th>\n",
              "      <th>Low Physical Activity</th>\n",
              "      <th>Moderate Physical Activity</th>\n",
              "    </tr>\n",
              "  </thead>\n",
              "  <tbody>\n",
              "    <tr>\n",
              "      <th>2</th>\n",
              "      <td>26</td>\n",
              "      <td>1</td>\n",
              "      <td>1</td>\n",
              "      <td>189.00</td>\n",
              "      <td>20.32</td>\n",
              "      <td>0</td>\n",
              "      <td>1</td>\n",
              "      <td>7.31</td>\n",
              "      <td>Stroke</td>\n",
              "      <td>59</td>\n",
              "      <td>...</td>\n",
              "      <td>0</td>\n",
              "      <td>0</td>\n",
              "      <td>0</td>\n",
              "      <td>1</td>\n",
              "      <td>0</td>\n",
              "      <td>0</td>\n",
              "      <td>0</td>\n",
              "      <td>1</td>\n",
              "      <td>0</td>\n",
              "      <td>0</td>\n",
              "    </tr>\n",
              "    <tr>\n",
              "      <th>12</th>\n",
              "      <td>30</td>\n",
              "      <td>0</td>\n",
              "      <td>1</td>\n",
              "      <td>163.15</td>\n",
              "      <td>19.36</td>\n",
              "      <td>0</td>\n",
              "      <td>1</td>\n",
              "      <td>9.19</td>\n",
              "      <td>Stroke</td>\n",
              "      <td>80</td>\n",
              "      <td>...</td>\n",
              "      <td>0</td>\n",
              "      <td>0</td>\n",
              "      <td>1</td>\n",
              "      <td>0</td>\n",
              "      <td>0</td>\n",
              "      <td>0</td>\n",
              "      <td>0</td>\n",
              "      <td>0</td>\n",
              "      <td>0</td>\n",
              "      <td>1</td>\n",
              "    </tr>\n",
              "    <tr>\n",
              "      <th>19</th>\n",
              "      <td>25</td>\n",
              "      <td>0</td>\n",
              "      <td>0</td>\n",
              "      <td>71.38</td>\n",
              "      <td>39.00</td>\n",
              "      <td>0</td>\n",
              "      <td>1</td>\n",
              "      <td>0.46</td>\n",
              "      <td>Stroke</td>\n",
              "      <td>72</td>\n",
              "      <td>...</td>\n",
              "      <td>1</td>\n",
              "      <td>0</td>\n",
              "      <td>0</td>\n",
              "      <td>0</td>\n",
              "      <td>0</td>\n",
              "      <td>0</td>\n",
              "      <td>0</td>\n",
              "      <td>0</td>\n",
              "      <td>0</td>\n",
              "      <td>1</td>\n",
              "    </tr>\n",
              "    <tr>\n",
              "      <th>25</th>\n",
              "      <td>24</td>\n",
              "      <td>0</td>\n",
              "      <td>0</td>\n",
              "      <td>79.89</td>\n",
              "      <td>17.58</td>\n",
              "      <td>1</td>\n",
              "      <td>0</td>\n",
              "      <td>6.48</td>\n",
              "      <td>Stroke</td>\n",
              "      <td>73</td>\n",
              "      <td>...</td>\n",
              "      <td>0</td>\n",
              "      <td>0</td>\n",
              "      <td>0</td>\n",
              "      <td>0</td>\n",
              "      <td>0</td>\n",
              "      <td>0</td>\n",
              "      <td>1</td>\n",
              "      <td>1</td>\n",
              "      <td>0</td>\n",
              "      <td>0</td>\n",
              "    </tr>\n",
              "    <tr>\n",
              "      <th>37</th>\n",
              "      <td>23</td>\n",
              "      <td>0</td>\n",
              "      <td>0</td>\n",
              "      <td>164.72</td>\n",
              "      <td>31.56</td>\n",
              "      <td>1</td>\n",
              "      <td>1</td>\n",
              "      <td>7.86</td>\n",
              "      <td>Stroke</td>\n",
              "      <td>30</td>\n",
              "      <td>...</td>\n",
              "      <td>1</td>\n",
              "      <td>0</td>\n",
              "      <td>0</td>\n",
              "      <td>0</td>\n",
              "      <td>0</td>\n",
              "      <td>0</td>\n",
              "      <td>0</td>\n",
              "      <td>0</td>\n",
              "      <td>1</td>\n",
              "      <td>0</td>\n",
              "    </tr>\n",
              "    <tr>\n",
              "      <th>...</th>\n",
              "      <td>...</td>\n",
              "      <td>...</td>\n",
              "      <td>...</td>\n",
              "      <td>...</td>\n",
              "      <td>...</td>\n",
              "      <td>...</td>\n",
              "      <td>...</td>\n",
              "      <td>...</td>\n",
              "      <td>...</td>\n",
              "      <td>...</td>\n",
              "      <td>...</td>\n",
              "      <td>...</td>\n",
              "      <td>...</td>\n",
              "      <td>...</td>\n",
              "      <td>...</td>\n",
              "      <td>...</td>\n",
              "      <td>...</td>\n",
              "      <td>...</td>\n",
              "      <td>...</td>\n",
              "      <td>...</td>\n",
              "      <td>...</td>\n",
              "    </tr>\n",
              "    <tr>\n",
              "      <th>14972</th>\n",
              "      <td>30</td>\n",
              "      <td>0</td>\n",
              "      <td>1</td>\n",
              "      <td>126.94</td>\n",
              "      <td>36.08</td>\n",
              "      <td>0</td>\n",
              "      <td>0</td>\n",
              "      <td>9.51</td>\n",
              "      <td>No Stroke</td>\n",
              "      <td>55</td>\n",
              "      <td>...</td>\n",
              "      <td>0</td>\n",
              "      <td>0</td>\n",
              "      <td>0</td>\n",
              "      <td>0</td>\n",
              "      <td>1</td>\n",
              "      <td>0</td>\n",
              "      <td>0</td>\n",
              "      <td>0</td>\n",
              "      <td>0</td>\n",
              "      <td>1</td>\n",
              "    </tr>\n",
              "    <tr>\n",
              "      <th>14974</th>\n",
              "      <td>20</td>\n",
              "      <td>0</td>\n",
              "      <td>0</td>\n",
              "      <td>101.36</td>\n",
              "      <td>21.15</td>\n",
              "      <td>0</td>\n",
              "      <td>1</td>\n",
              "      <td>2.26</td>\n",
              "      <td>Stroke</td>\n",
              "      <td>42</td>\n",
              "      <td>...</td>\n",
              "      <td>0</td>\n",
              "      <td>0</td>\n",
              "      <td>0</td>\n",
              "      <td>0</td>\n",
              "      <td>1</td>\n",
              "      <td>0</td>\n",
              "      <td>0</td>\n",
              "      <td>1</td>\n",
              "      <td>0</td>\n",
              "      <td>0</td>\n",
              "    </tr>\n",
              "    <tr>\n",
              "      <th>14981</th>\n",
              "      <td>25</td>\n",
              "      <td>0</td>\n",
              "      <td>0</td>\n",
              "      <td>77.64</td>\n",
              "      <td>23.88</td>\n",
              "      <td>0</td>\n",
              "      <td>1</td>\n",
              "      <td>2.69</td>\n",
              "      <td>Stroke</td>\n",
              "      <td>58</td>\n",
              "      <td>...</td>\n",
              "      <td>0</td>\n",
              "      <td>0</td>\n",
              "      <td>0</td>\n",
              "      <td>1</td>\n",
              "      <td>0</td>\n",
              "      <td>0</td>\n",
              "      <td>0</td>\n",
              "      <td>0</td>\n",
              "      <td>1</td>\n",
              "      <td>0</td>\n",
              "    </tr>\n",
              "    <tr>\n",
              "      <th>14983</th>\n",
              "      <td>18</td>\n",
              "      <td>0</td>\n",
              "      <td>0</td>\n",
              "      <td>68.26</td>\n",
              "      <td>36.48</td>\n",
              "      <td>1</td>\n",
              "      <td>0</td>\n",
              "      <td>6.79</td>\n",
              "      <td>Stroke</td>\n",
              "      <td>59</td>\n",
              "      <td>...</td>\n",
              "      <td>0</td>\n",
              "      <td>0</td>\n",
              "      <td>0</td>\n",
              "      <td>0</td>\n",
              "      <td>0</td>\n",
              "      <td>0</td>\n",
              "      <td>1</td>\n",
              "      <td>0</td>\n",
              "      <td>0</td>\n",
              "      <td>1</td>\n",
              "    </tr>\n",
              "    <tr>\n",
              "      <th>14991</th>\n",
              "      <td>26</td>\n",
              "      <td>0</td>\n",
              "      <td>1</td>\n",
              "      <td>145.05</td>\n",
              "      <td>35.94</td>\n",
              "      <td>1</td>\n",
              "      <td>0</td>\n",
              "      <td>0.71</td>\n",
              "      <td>No Stroke</td>\n",
              "      <td>33</td>\n",
              "      <td>...</td>\n",
              "      <td>0</td>\n",
              "      <td>0</td>\n",
              "      <td>0</td>\n",
              "      <td>0</td>\n",
              "      <td>1</td>\n",
              "      <td>0</td>\n",
              "      <td>0</td>\n",
              "      <td>0</td>\n",
              "      <td>1</td>\n",
              "      <td>0</td>\n",
              "    </tr>\n",
              "  </tbody>\n",
              "</table>\n",
              "<p>2662 rows × 51 columns</p>\n",
              "</div>\n",
              "    <div class=\"colab-df-buttons\">\n",
              "\n",
              "  <div class=\"colab-df-container\">\n",
              "    <button class=\"colab-df-convert\" onclick=\"convertToInteractive('df-f8120b0a-297a-4473-b775-721bb1e03fa1')\"\n",
              "            title=\"Convert this dataframe to an interactive table.\"\n",
              "            style=\"display:none;\">\n",
              "\n",
              "  <svg xmlns=\"http://www.w3.org/2000/svg\" height=\"24px\" viewBox=\"0 -960 960 960\">\n",
              "    <path d=\"M120-120v-720h720v720H120Zm60-500h600v-160H180v160Zm220 220h160v-160H400v160Zm0 220h160v-160H400v160ZM180-400h160v-160H180v160Zm440 0h160v-160H620v160ZM180-180h160v-160H180v160Zm440 0h160v-160H620v160Z\"/>\n",
              "  </svg>\n",
              "    </button>\n",
              "\n",
              "  <style>\n",
              "    .colab-df-container {\n",
              "      display:flex;\n",
              "      gap: 12px;\n",
              "    }\n",
              "\n",
              "    .colab-df-convert {\n",
              "      background-color: #E8F0FE;\n",
              "      border: none;\n",
              "      border-radius: 50%;\n",
              "      cursor: pointer;\n",
              "      display: none;\n",
              "      fill: #1967D2;\n",
              "      height: 32px;\n",
              "      padding: 0 0 0 0;\n",
              "      width: 32px;\n",
              "    }\n",
              "\n",
              "    .colab-df-convert:hover {\n",
              "      background-color: #E2EBFA;\n",
              "      box-shadow: 0px 1px 2px rgba(60, 64, 67, 0.3), 0px 1px 3px 1px rgba(60, 64, 67, 0.15);\n",
              "      fill: #174EA6;\n",
              "    }\n",
              "\n",
              "    .colab-df-buttons div {\n",
              "      margin-bottom: 4px;\n",
              "    }\n",
              "\n",
              "    [theme=dark] .colab-df-convert {\n",
              "      background-color: #3B4455;\n",
              "      fill: #D2E3FC;\n",
              "    }\n",
              "\n",
              "    [theme=dark] .colab-df-convert:hover {\n",
              "      background-color: #434B5C;\n",
              "      box-shadow: 0px 1px 3px 1px rgba(0, 0, 0, 0.15);\n",
              "      filter: drop-shadow(0px 1px 2px rgba(0, 0, 0, 0.3));\n",
              "      fill: #FFFFFF;\n",
              "    }\n",
              "  </style>\n",
              "\n",
              "    <script>\n",
              "      const buttonEl =\n",
              "        document.querySelector('#df-f8120b0a-297a-4473-b775-721bb1e03fa1 button.colab-df-convert');\n",
              "      buttonEl.style.display =\n",
              "        google.colab.kernel.accessAllowed ? 'block' : 'none';\n",
              "\n",
              "      async function convertToInteractive(key) {\n",
              "        const element = document.querySelector('#df-f8120b0a-297a-4473-b775-721bb1e03fa1');\n",
              "        const dataTable =\n",
              "          await google.colab.kernel.invokeFunction('convertToInteractive',\n",
              "                                                    [key], {});\n",
              "        if (!dataTable) return;\n",
              "\n",
              "        const docLinkHtml = 'Like what you see? Visit the ' +\n",
              "          '<a target=\"_blank\" href=https://colab.research.google.com/notebooks/data_table.ipynb>data table notebook</a>'\n",
              "          + ' to learn more about interactive tables.';\n",
              "        element.innerHTML = '';\n",
              "        dataTable['output_type'] = 'display_data';\n",
              "        await google.colab.output.renderOutput(dataTable, element);\n",
              "        const docLink = document.createElement('div');\n",
              "        docLink.innerHTML = docLinkHtml;\n",
              "        element.appendChild(docLink);\n",
              "      }\n",
              "    </script>\n",
              "  </div>\n",
              "\n",
              "\n",
              "<div id=\"df-d3db3ed0-533d-43e6-a26b-b9d68915c1c6\">\n",
              "  <button class=\"colab-df-quickchart\" onclick=\"quickchart('df-d3db3ed0-533d-43e6-a26b-b9d68915c1c6')\"\n",
              "            title=\"Suggest charts\"\n",
              "            style=\"display:none;\">\n",
              "\n",
              "<svg xmlns=\"http://www.w3.org/2000/svg\" height=\"24px\"viewBox=\"0 0 24 24\"\n",
              "     width=\"24px\">\n",
              "    <g>\n",
              "        <path d=\"M19 3H5c-1.1 0-2 .9-2 2v14c0 1.1.9 2 2 2h14c1.1 0 2-.9 2-2V5c0-1.1-.9-2-2-2zM9 17H7v-7h2v7zm4 0h-2V7h2v10zm4 0h-2v-4h2v4z\"/>\n",
              "    </g>\n",
              "</svg>\n",
              "  </button>\n",
              "\n",
              "<style>\n",
              "  .colab-df-quickchart {\n",
              "      --bg-color: #E8F0FE;\n",
              "      --fill-color: #1967D2;\n",
              "      --hover-bg-color: #E2EBFA;\n",
              "      --hover-fill-color: #174EA6;\n",
              "      --disabled-fill-color: #AAA;\n",
              "      --disabled-bg-color: #DDD;\n",
              "  }\n",
              "\n",
              "  [theme=dark] .colab-df-quickchart {\n",
              "      --bg-color: #3B4455;\n",
              "      --fill-color: #D2E3FC;\n",
              "      --hover-bg-color: #434B5C;\n",
              "      --hover-fill-color: #FFFFFF;\n",
              "      --disabled-bg-color: #3B4455;\n",
              "      --disabled-fill-color: #666;\n",
              "  }\n",
              "\n",
              "  .colab-df-quickchart {\n",
              "    background-color: var(--bg-color);\n",
              "    border: none;\n",
              "    border-radius: 50%;\n",
              "    cursor: pointer;\n",
              "    display: none;\n",
              "    fill: var(--fill-color);\n",
              "    height: 32px;\n",
              "    padding: 0;\n",
              "    width: 32px;\n",
              "  }\n",
              "\n",
              "  .colab-df-quickchart:hover {\n",
              "    background-color: var(--hover-bg-color);\n",
              "    box-shadow: 0 1px 2px rgba(60, 64, 67, 0.3), 0 1px 3px 1px rgba(60, 64, 67, 0.15);\n",
              "    fill: var(--button-hover-fill-color);\n",
              "  }\n",
              "\n",
              "  .colab-df-quickchart-complete:disabled,\n",
              "  .colab-df-quickchart-complete:disabled:hover {\n",
              "    background-color: var(--disabled-bg-color);\n",
              "    fill: var(--disabled-fill-color);\n",
              "    box-shadow: none;\n",
              "  }\n",
              "\n",
              "  .colab-df-spinner {\n",
              "    border: 2px solid var(--fill-color);\n",
              "    border-color: transparent;\n",
              "    border-bottom-color: var(--fill-color);\n",
              "    animation:\n",
              "      spin 1s steps(1) infinite;\n",
              "  }\n",
              "\n",
              "  @keyframes spin {\n",
              "    0% {\n",
              "      border-color: transparent;\n",
              "      border-bottom-color: var(--fill-color);\n",
              "      border-left-color: var(--fill-color);\n",
              "    }\n",
              "    20% {\n",
              "      border-color: transparent;\n",
              "      border-left-color: var(--fill-color);\n",
              "      border-top-color: var(--fill-color);\n",
              "    }\n",
              "    30% {\n",
              "      border-color: transparent;\n",
              "      border-left-color: var(--fill-color);\n",
              "      border-top-color: var(--fill-color);\n",
              "      border-right-color: var(--fill-color);\n",
              "    }\n",
              "    40% {\n",
              "      border-color: transparent;\n",
              "      border-right-color: var(--fill-color);\n",
              "      border-top-color: var(--fill-color);\n",
              "    }\n",
              "    60% {\n",
              "      border-color: transparent;\n",
              "      border-right-color: var(--fill-color);\n",
              "    }\n",
              "    80% {\n",
              "      border-color: transparent;\n",
              "      border-right-color: var(--fill-color);\n",
              "      border-bottom-color: var(--fill-color);\n",
              "    }\n",
              "    90% {\n",
              "      border-color: transparent;\n",
              "      border-bottom-color: var(--fill-color);\n",
              "    }\n",
              "  }\n",
              "</style>\n",
              "\n",
              "  <script>\n",
              "    async function quickchart(key) {\n",
              "      const quickchartButtonEl =\n",
              "        document.querySelector('#' + key + ' button');\n",
              "      quickchartButtonEl.disabled = true;  // To prevent multiple clicks.\n",
              "      quickchartButtonEl.classList.add('colab-df-spinner');\n",
              "      try {\n",
              "        const charts = await google.colab.kernel.invokeFunction(\n",
              "            'suggestCharts', [key], {});\n",
              "      } catch (error) {\n",
              "        console.error('Error during call to suggestCharts:', error);\n",
              "      }\n",
              "      quickchartButtonEl.classList.remove('colab-df-spinner');\n",
              "      quickchartButtonEl.classList.add('colab-df-quickchart-complete');\n",
              "    }\n",
              "    (() => {\n",
              "      let quickchartButtonEl =\n",
              "        document.querySelector('#df-d3db3ed0-533d-43e6-a26b-b9d68915c1c6 button');\n",
              "      quickchartButtonEl.style.display =\n",
              "        google.colab.kernel.accessAllowed ? 'block' : 'none';\n",
              "    })();\n",
              "  </script>\n",
              "</div>\n",
              "\n",
              "  <div id=\"id_45aa8bb0-461a-4281-af64-59332fb293ed\">\n",
              "    <style>\n",
              "      .colab-df-generate {\n",
              "        background-color: #E8F0FE;\n",
              "        border: none;\n",
              "        border-radius: 50%;\n",
              "        cursor: pointer;\n",
              "        display: none;\n",
              "        fill: #1967D2;\n",
              "        height: 32px;\n",
              "        padding: 0 0 0 0;\n",
              "        width: 32px;\n",
              "      }\n",
              "\n",
              "      .colab-df-generate:hover {\n",
              "        background-color: #E2EBFA;\n",
              "        box-shadow: 0px 1px 2px rgba(60, 64, 67, 0.3), 0px 1px 3px 1px rgba(60, 64, 67, 0.15);\n",
              "        fill: #174EA6;\n",
              "      }\n",
              "\n",
              "      [theme=dark] .colab-df-generate {\n",
              "        background-color: #3B4455;\n",
              "        fill: #D2E3FC;\n",
              "      }\n",
              "\n",
              "      [theme=dark] .colab-df-generate:hover {\n",
              "        background-color: #434B5C;\n",
              "        box-shadow: 0px 1px 3px 1px rgba(0, 0, 0, 0.15);\n",
              "        filter: drop-shadow(0px 1px 2px rgba(0, 0, 0, 0.3));\n",
              "        fill: #FFFFFF;\n",
              "      }\n",
              "    </style>\n",
              "    <button class=\"colab-df-generate\" onclick=\"generateWithVariable('main_dataset')\"\n",
              "            title=\"Generate code using this dataframe.\"\n",
              "            style=\"display:none;\">\n",
              "\n",
              "  <svg xmlns=\"http://www.w3.org/2000/svg\" height=\"24px\"viewBox=\"0 0 24 24\"\n",
              "       width=\"24px\">\n",
              "    <path d=\"M7,19H8.4L18.45,9,17,7.55,7,17.6ZM5,21V16.75L18.45,3.32a2,2,0,0,1,2.83,0l1.4,1.43a1.91,1.91,0,0,1,.58,1.4,1.91,1.91,0,0,1-.58,1.4L9.25,21ZM18.45,9,17,7.55Zm-12,3A5.31,5.31,0,0,0,4.9,8.1,5.31,5.31,0,0,0,1,6.5,5.31,5.31,0,0,0,4.9,4.9,5.31,5.31,0,0,0,6.5,1,5.31,5.31,0,0,0,8.1,4.9,5.31,5.31,0,0,0,12,6.5,5.46,5.46,0,0,0,6.5,12Z\"/>\n",
              "  </svg>\n",
              "    </button>\n",
              "    <script>\n",
              "      (() => {\n",
              "      const buttonEl =\n",
              "        document.querySelector('#id_45aa8bb0-461a-4281-af64-59332fb293ed button.colab-df-generate');\n",
              "      buttonEl.style.display =\n",
              "        google.colab.kernel.accessAllowed ? 'block' : 'none';\n",
              "\n",
              "      buttonEl.onclick = () => {\n",
              "        google.colab.notebook.generateWithVariable('main_dataset');\n",
              "      }\n",
              "      })();\n",
              "    </script>\n",
              "  </div>\n",
              "\n",
              "    </div>\n",
              "  </div>\n"
            ],
            "application/vnd.google.colaboratory.intrinsic+json": {
              "type": "dataframe",
              "variable_name": "main_dataset"
            }
          },
          "metadata": {},
          "execution_count": 626
        }
      ]
    },
    {
      "cell_type": "code",
      "source": [
        "# Now we can begin preparing the ML model\n",
        "X_main_data = main_dataset.drop('Diagnosis', axis=1)\n",
        "Y_main_data = main_dataset['Diagnosis']\n",
        "x_main_train, x_main_test, y_main_train, y_main_test = train_test_split(X_main_data, Y_main_data, test_size=.2, random_state=4)\n",
        "# Show all of the features we will use:\n",
        "print(x_main_train.columns)"
      ],
      "metadata": {
        "id": "Dd42C2Nx03YP",
        "colab": {
          "base_uri": "https://localhost:8080/"
        },
        "outputId": "2f7910fc-f14d-4e1a-91f2-e03e5b4a435c"
      },
      "execution_count": null,
      "outputs": [
        {
          "output_type": "stream",
          "name": "stdout",
          "text": [
            "Index(['Age', 'Hypertension', 'Heart Disease', 'Average Glucose Level',\n",
            "       'Body Mass Index (BMI)', 'Stroke History', 'Family History of Stroke',\n",
            "       'Stress Levels', 'Cholesterol Levels HDL', 'Cholesterol Levels LDL',\n",
            "       'Blood Pressure Systolic', 'Blood Pressure Diastolic', 'Blurred Vision',\n",
            "       'Confusion', 'Difficulty Speaking', 'Dizziness', 'Headache',\n",
            "       'Loss of Balance', 'Numbness', 'Seizures', 'Severe Fatigue', 'Weakness',\n",
            "       'Female', 'Male', 'Divorced', 'Married', 'Single', 'Government Job',\n",
            "       'Never Worked', 'Private', 'Self-employed', 'Rural', 'Urban',\n",
            "       'Currently Smokes', 'Formerly Smoked', 'Non-smoker', 'Frequent Drinker',\n",
            "       'Never', 'Rarely', 'Social Drinker', 'Gluten-Free', 'Keto',\n",
            "       'Non-Vegetarian', 'Paleo', 'Pescatarian', 'Vegan', 'Vegetarian',\n",
            "       'High Physical Activity', 'Low Physical Activity',\n",
            "       'Moderate Physical Activity'],\n",
            "      dtype='object')\n"
          ]
        }
      ]
    },
    {
      "cell_type": "code",
      "source": [
        "models = {\n",
        "    'KNN': KNeighborsClassifier(),\n",
        "    'DecisionTree': DecisionTreeClassifier(),\n",
        "    'LogisticRegression':LogisticRegression(max_iter=1000000),\n",
        "    'RandomForest': RandomForestClassifier()\n",
        "}\n",
        "# model.fit(x_main_train, y_main_train)\n",
        "\n",
        "\n",
        "# Evaluate Accuracy of the Model:\n",
        "# Perform k-fold Cross-Validation for each model\n",
        "# Train each model using the training data\n",
        "for model_name, model in models.items():\n",
        "  model.fit(x_main_train, y_main_train)\n",
        "\n",
        "# Evaluate the performance of each model\n",
        "for model_name, model in models.items():\n",
        "  predicted = model.predict(x_main_test)\n",
        "  print(f\"Accuracy of {model_name}: {accuracy_score(y_main_test, predicted)}\")\n",
        "  print(\n",
        "    f\"Classification report for classifier {model_name}:\\n\"\n",
        "    f\"{classification_report(y_main_test, predicted)}\\n\"\n",
        "  )"
      ],
      "metadata": {
        "id": "2NYESNtm06Su",
        "colab": {
          "base_uri": "https://localhost:8080/"
        },
        "outputId": "bf6e2f41-f882-417f-dbe9-29b0ce96f0be"
      },
      "execution_count": null,
      "outputs": [
        {
          "output_type": "stream",
          "name": "stdout",
          "text": [
            "Accuracy of KNN: 0.4896810506566604\n",
            "Classification report for classifier KNN:\n",
            "              precision    recall  f1-score   support\n",
            "\n",
            "   No Stroke       0.48      0.48      0.48       263\n",
            "      Stroke       0.50      0.50      0.50       270\n",
            "\n",
            "    accuracy                           0.49       533\n",
            "   macro avg       0.49      0.49      0.49       533\n",
            "weighted avg       0.49      0.49      0.49       533\n",
            "\n",
            "\n",
            "Accuracy of DecisionTree: 0.47842401500938087\n",
            "Classification report for classifier DecisionTree:\n",
            "              precision    recall  f1-score   support\n",
            "\n",
            "   No Stroke       0.47      0.45      0.46       263\n",
            "      Stroke       0.49      0.50      0.49       270\n",
            "\n",
            "    accuracy                           0.48       533\n",
            "   macro avg       0.48      0.48      0.48       533\n",
            "weighted avg       0.48      0.48      0.48       533\n",
            "\n",
            "\n",
            "Accuracy of LogisticRegression: 0.47654784240150094\n",
            "Classification report for classifier LogisticRegression:\n",
            "              precision    recall  f1-score   support\n",
            "\n",
            "   No Stroke       0.47      0.49      0.48       263\n",
            "      Stroke       0.48      0.46      0.47       270\n",
            "\n",
            "    accuracy                           0.48       533\n",
            "   macro avg       0.48      0.48      0.48       533\n",
            "weighted avg       0.48      0.48      0.48       533\n",
            "\n",
            "\n",
            "Accuracy of RandomForest: 0.5103189493433395\n",
            "Classification report for classifier RandomForest:\n",
            "              precision    recall  f1-score   support\n",
            "\n",
            "   No Stroke       0.50      0.56      0.53       263\n",
            "      Stroke       0.52      0.47      0.49       270\n",
            "\n",
            "    accuracy                           0.51       533\n",
            "   macro avg       0.51      0.51      0.51       533\n",
            "weighted avg       0.51      0.51      0.51       533\n",
            "\n",
            "\n"
          ]
        }
      ]
    },
    {
      "cell_type": "markdown",
      "source": [
        "# <h4>**6. Addition of interaction features of our 4 main lifestyle factors**</h4>"
      ],
      "metadata": {
        "id": "nvmjFlBw9c9_"
      }
    },
    {
      "cell_type": "markdown",
      "source": [
        "Our overall models have performed poorly with individually predicting the diagnosis of stroke. Thus, with the addition of interaction features we will conduct a model to analyze the influence of simultaneous factors to the diagnosis of stroke."
      ],
      "metadata": {
        "id": "81IOl1s6CpwH"
      }
    },
    {
      "cell_type": "code",
      "source": [
        "main_dataset2 = main_dataset.copy()\n"
      ],
      "metadata": {
        "id": "cooKky1GEUsN"
      },
      "execution_count": null,
      "outputs": []
    },
    {
      "cell_type": "markdown",
      "source": [
        "# <h2>**IV. Insights and Conclusions**</h2>"
      ],
      "metadata": {
        "id": "hlPBbWlor9aa"
      }
    },
    {
      "cell_type": "markdown",
      "source": [
        "# <h4>**1. Stress Levels vs Stroke Diagnosis**</h4>\n",
        "<p align = \"justify\">Based on the linear regression analysis, there is a very weak negative correlation between stress levels and stroke incidence in young adults. The R-squared value is very low, implying that stress levels do not significantly explain the variation in stroke incidence based on the given data.</p>"
      ],
      "metadata": {
        "id": "T71q2W-q_LFt"
      }
    },
    {
      "cell_type": "markdown",
      "source": [
        "# <h4>**2. Alcohol Intake vs Stroke Diagnosis**</h4>\n",
        "<p align = \"justify\">The DecisionTree model performed poorly when given just the alcohol consumption levels to analyze. This demonstrates that alcohol consumption alone is not enough on its own to predict a stroke. As such, in order to improve an ML model's ability to predict the occurence of a stroke, more features must be considered and more training must be conducted. This is in alignment with the statistical analysis performed on the dataset, which was unable to find a statistical relationship between alcohol levels and occurence of a stroke.</p>"
      ],
      "metadata": {
        "id": "UqxEBdVwpsRL"
      }
    },
    {
      "cell_type": "markdown",
      "source": [
        "# <h4>**3. Smoking Status vs Stroke Diagnosis**</h4>\n",
        "<p align = \"justify\"> The RandomTree model did not perform well with the prediction of stroke with the smoking status. Following further examination, the correlation coefficient of these two variables was close to 0, indicating that there is no linear relationship between them. Thus, the smoking status solely cannot predict the diagnosis of stroke. </p>\n",
        "\n"
      ],
      "metadata": {
        "id": "2LCKFXFuvq-O"
      }
    },
    {
      "cell_type": "markdown",
      "source": [
        "# <h4>**4. Average Glucose Level vs Stroke Diagnosis**</h4>\n",
        "<p align = \"justify\"> Based on the logistic regression analysis, the model demonstrates moderate performance in predicting stroke occurrence based on blood glucose levels. The precision, recall, and F1-score metrics consistently hover around 0.52 for both True and False classes, suggesting the model's ability to distinguish between instances of stroke and no stroke is limited. The balanced performance metrics indicate that blood glucose levels alone may not be sufficiently predictive of stroke occurrence.</p>"
      ],
      "metadata": {
        "id": "TOBefAcrpoKo"
      }
    },
    {
      "cell_type": "markdown",
      "source": [
        "# <h4>**5. Main Dataset Analysis Using KNN, Decision Tree, Logistic Regression and Random Forest**</h4>\n",
        "\n"
      ],
      "metadata": {
        "id": "pC21eCdIjCiS"
      }
    },
    {
      "cell_type": "markdown",
      "source": [
        "Overall, the KNN, Decision Tree, Logistic Regression and Random Forest classifier shows a balanced performance for predictions, with an accuracy slightly below 0.5. As such, we can conclude that a new approach may be needed to generate more accurate predictions. This could mean including more features, more precise features (such as considering the exact type of physical activity, rather than the scale of Low/Moderate/Medium Activity), or, conversely, feature pruning to determine the most important features to consider and discarding the rest."
      ],
      "metadata": {
        "id": "msHtFh2jq4zl"
      }
    },
    {
      "cell_type": "markdown",
      "source": [
        "# <h2>**V. References**</h2>\n",
        "Board on Children, Youth, and Families; Institute of Medicine; National Research Council. Improving the Health, Safety, and Well-Being of Young Adults: Workshop Summary. Washington (DC): National Academies Press (US); 2013 Sep 27. Available from: https://www.ncbi.nlm.nih.gov/books/NBK202207/ doi: 10.17226/18340\n",
        "\n",
        "Cleveland Clinic. (n.d.). A1C. Retrieved June 15, 2024, from https://my.clevelandclinic.org/health/diagnostics/9731-a1c"
      ],
      "metadata": {
        "id": "iQLySoxgaTW6"
      }
    }
  ]
}